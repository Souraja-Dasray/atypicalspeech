{
 "cells": [
  {
   "cell_type": "code",
   "execution_count": 1,
   "id": "2c1750b5",
   "metadata": {},
   "outputs": [],
   "source": [
    "import keras\n",
    "from keras.layers import Activation, Dense, Dropout, Conv2D, \\\n",
    "                         Flatten, MaxPooling2D\n",
    "from keras.models import Sequential\n",
    "import librosa\n",
    "import librosa.display\n",
    "import numpy as np\n",
    "import pandas as pd\n",
    "import random\n",
    "import json\n",
    "\n",
    "import warnings\n",
    "warnings.filterwarnings('ignore')"
   ]
  },
  {
   "cell_type": "code",
   "execution_count": 2,
   "id": "828abf20",
   "metadata": {},
   "outputs": [],
   "source": [
    "import numpy as np\n",
    "\n",
    "\n",
    "def padding(array, xx, yy):\n",
    "    \"\"\"\n",
    "    :param array: numpy array\n",
    "    :param xx: desired height\n",
    "    :param yy: desirex width\n",
    "    :return: padded array\n",
    "    \"\"\"\n",
    "\n",
    "    h = array.shape[0]\n",
    "    w = array.shape[1]\n",
    "\n",
    "    a = (xx - h) // 2\n",
    "    aa = xx - a - h\n",
    "\n",
    "    b = (yy - w) // 2\n",
    "    bb = yy - b - w\n",
    "\n",
    "    return np.pad(array, pad_width=((a, aa), (b, bb)), mode='constant')"
   ]
  },
  {
   "cell_type": "code",
   "execution_count": 3,
   "id": "466de75e",
   "metadata": {},
   "outputs": [],
   "source": [
    "with open('CNN_DB-mel_Original.json', \"r\") as f:\n",
    "    data1 = json.load(f)\n",
    "    \n",
    "x1 = data1['spect']\n",
    "y1 = data1['label']"
   ]
  },
  {
   "cell_type": "code",
   "execution_count": 4,
   "id": "fbb9d0f1",
   "metadata": {},
   "outputs": [],
   "source": [
    "D = []\n",
    "for ps,label in zip(x1,y1):\n",
    "    D.append( (np.array(padding(np.array(ps),128,400)), label) )"
   ]
  },
  {
   "cell_type": "code",
   "execution_count": 5,
   "id": "9b33d27f",
   "metadata": {},
   "outputs": [
    {
     "data": {
      "text/plain": [
       "0"
      ]
     },
     "execution_count": 5,
     "metadata": {},
     "output_type": "execute_result"
    }
   ],
   "source": [
    "import gc\n",
    "\n",
    "del data1\n",
    "del x1\n",
    "del y1\n",
    "gc.collect()"
   ]
  },
  {
   "cell_type": "code",
   "execution_count": 6,
   "id": "02c139da",
   "metadata": {},
   "outputs": [],
   "source": [
    "with open('CNN_DB-mel_RateBoosted_0.81.json', \"r\") as f:\n",
    "    data2 = json.load(f)\n",
    "    \n",
    "x2 = data2['spect']\n",
    "y2 = data2['label']"
   ]
  },
  {
   "cell_type": "code",
   "execution_count": 7,
   "id": "08643750",
   "metadata": {},
   "outputs": [],
   "source": [
    "for ps,label in zip(x2,y2):\n",
    "    D.append( (np.array(padding(np.array(ps),128,400)), label) )"
   ]
  },
  {
   "cell_type": "code",
   "execution_count": 8,
   "id": "7bcf3ddf",
   "metadata": {},
   "outputs": [
    {
     "data": {
      "text/plain": [
       "0"
      ]
     },
     "execution_count": 8,
     "metadata": {},
     "output_type": "execute_result"
    }
   ],
   "source": [
    "del data2\n",
    "del x2\n",
    "del y2\n",
    "gc.collect()"
   ]
  },
  {
   "cell_type": "code",
   "execution_count": 9,
   "id": "d1b39195",
   "metadata": {},
   "outputs": [
    {
     "data": {
      "text/plain": [
       "18329"
      ]
     },
     "execution_count": 9,
     "metadata": {},
     "output_type": "execute_result"
    }
   ],
   "source": [
    "len(D)"
   ]
  },
  {
   "cell_type": "code",
   "execution_count": 12,
   "id": "2a51dea3",
   "metadata": {},
   "outputs": [],
   "source": [
    "with open('CNN_DB-mel_PitchBoosted_2.0.json', \"r\") as f:\n",
    "    data3 = json.load(f)\n",
    "    \n",
    "x3 = data3['spect']\n",
    "y3 = data3['label']"
   ]
  },
  {
   "cell_type": "code",
   "execution_count": 13,
   "id": "e25506f7",
   "metadata": {},
   "outputs": [],
   "source": [
    "for ps,label in zip(x3,y3):\n",
    "    D.append( (np.array(padding(np.array(ps),128,400)), label) )"
   ]
  },
  {
   "cell_type": "code",
   "execution_count": 14,
   "id": "6d7a0963",
   "metadata": {},
   "outputs": [
    {
     "data": {
      "text/plain": [
       "0"
      ]
     },
     "execution_count": 14,
     "metadata": {},
     "output_type": "execute_result"
    }
   ],
   "source": [
    "del data3\n",
    "del x3\n",
    "del y3\n",
    "gc.collect()"
   ]
  },
  {
   "cell_type": "code",
   "execution_count": 15,
   "id": "b6cabdd0",
   "metadata": {},
   "outputs": [
    {
     "data": {
      "text/plain": [
       "36805"
      ]
     },
     "execution_count": 15,
     "metadata": {},
     "output_type": "execute_result"
    }
   ],
   "source": [
    "with open('CNN_DB-mel_PitchBoosted_-2.5.json', \"r\") as f:\n",
    "    data4 = json.load(f)\n",
    "    \n",
    "x4 = data4['spect']\n",
    "y4 = data4['label']\n",
    "\n",
    "for ps,label in zip(x4,y4):\n",
    "    D.append( (np.array(padding(np.array(ps),128,400)), label) )\n",
    "    \n",
    "len(D)"
   ]
  },
  {
   "cell_type": "code",
   "execution_count": 16,
   "id": "01efbd91",
   "metadata": {},
   "outputs": [
    {
     "data": {
      "text/plain": [
       "0"
      ]
     },
     "execution_count": 16,
     "metadata": {},
     "output_type": "execute_result"
    }
   ],
   "source": [
    "del data4\n",
    "del x4\n",
    "del y4\n",
    "gc.collect()"
   ]
  },
  {
   "cell_type": "code",
   "execution_count": 17,
   "id": "4f4dd694",
   "metadata": {},
   "outputs": [
    {
     "data": {
      "text/plain": [
       "36805"
      ]
     },
     "execution_count": 17,
     "metadata": {},
     "output_type": "execute_result"
    }
   ],
   "source": [
    "len(D)"
   ]
  },
  {
   "cell_type": "code",
   "execution_count": 18,
   "id": "11b8c6ff",
   "metadata": {},
   "outputs": [
    {
     "data": {
      "text/plain": [
       "46043"
      ]
     },
     "execution_count": 18,
     "metadata": {},
     "output_type": "execute_result"
    }
   ],
   "source": [
    "with open('CNN_DB-mel_SpecAugumentation.json', \"r\") as f:\n",
    "    data5 = json.load(f)\n",
    "    \n",
    "x5 = data5['spect']\n",
    "y5 = data5['label']\n",
    "\n",
    "for ps,label in zip(x5,y5):\n",
    "    D.append( (np.array(padding(np.array(ps),128,400)), label) )\n",
    "    \n",
    "len(D)"
   ]
  },
  {
   "cell_type": "code",
   "execution_count": 19,
   "id": "157e1fcb",
   "metadata": {},
   "outputs": [
    {
     "data": {
      "text/plain": [
       "0"
      ]
     },
     "execution_count": 19,
     "metadata": {},
     "output_type": "execute_result"
    }
   ],
   "source": [
    "del data5\n",
    "del x5\n",
    "del y5\n",
    "gc.collect()"
   ]
  },
  {
   "cell_type": "code",
   "execution_count": 20,
   "id": "38a98895",
   "metadata": {},
   "outputs": [
    {
     "data": {
      "text/plain": [
       "55347"
      ]
     },
     "execution_count": 20,
     "metadata": {},
     "output_type": "execute_result"
    }
   ],
   "source": [
    "with open('CNN_DB_RateBoosted_1.15.json', \"r\") as f:\n",
    "    data6 = json.load(f)\n",
    "    \n",
    "x6 = data6['spect']\n",
    "y6 = data6['label']\n",
    "\n",
    "for ps,label in zip(x6,y6):\n",
    "    D.append( (np.array(padding(np.array(ps),128,400)), label) )\n",
    "    \n",
    "len(D)"
   ]
  },
  {
   "cell_type": "code",
   "execution_count": 21,
   "id": "041ea26c",
   "metadata": {},
   "outputs": [
    {
     "data": {
      "text/plain": [
       "0"
      ]
     },
     "execution_count": 21,
     "metadata": {},
     "output_type": "execute_result"
    }
   ],
   "source": [
    "del data6\n",
    "del x6\n",
    "del y6\n",
    "gc.collect()"
   ]
  },
  {
   "cell_type": "code",
   "execution_count": 22,
   "id": "199d04f6",
   "metadata": {},
   "outputs": [
    {
     "data": {
      "text/plain": [
       "27673"
      ]
     },
     "execution_count": 22,
     "metadata": {},
     "output_type": "execute_result"
    }
   ],
   "source": [
    "random.shuffle(D)\n",
    "D = D[:len(D)//2]\n",
    "len(D)"
   ]
  },
  {
   "cell_type": "code",
   "execution_count": 23,
   "id": "62b8ee0b",
   "metadata": {},
   "outputs": [
    {
     "data": {
      "text/plain": [
       "13836"
      ]
     },
     "execution_count": 23,
     "metadata": {},
     "output_type": "execute_result"
    }
   ],
   "source": [
    "random.shuffle(D)\n",
    "D = D[:len(D)//2]\n",
    "len(D)"
   ]
  },
  {
   "cell_type": "code",
   "execution_count": 24,
   "id": "f8d87283",
   "metadata": {},
   "outputs": [],
   "source": [
    "dataset = D\n",
    "random.shuffle(dataset)\n",
    "\n",
    "#train = dataset[:44000]\n",
    "#dataset = dataset[44000:]\n",
    "#validate = dataset[:1900]\n",
    "test = dataset\n",
    "\n",
    "#X_train, y_train = zip(*train)\n",
    "#X_validate, y_validate = zip(*validate)\n",
    "X_test, y_test = zip(*test)\n",
    "\n",
    "# Reshape for CNN input\n",
    "#X_train = np.array([x.reshape( (128, 400, 1) ) for x in X_train])\n",
    "#X_validate = np.array([x.reshape( (128, 400, 1) ) for x in X_validate])\n",
    "X_test = np.array([x.reshape( (128, 400, 1) ) for x in X_test])"
   ]
  },
  {
   "cell_type": "code",
   "execution_count": 25,
   "id": "fa7b8893",
   "metadata": {},
   "outputs": [],
   "source": [
    "from tensorflow.keras.utils import to_categorical\n",
    "from sklearn.preprocessing import LabelEncoder\n",
    "labelencoder=LabelEncoder()\n",
    "#y=to_categorical(labelencoder.fit_transform(y))\n",
    "#y\n",
    "#y_train = np.array(to_categorical(labelencoder.fit_transform(y_train)))\n",
    "#y_validate = np.array(to_categorical(labelencoder.fit_transform(y_validate)))\n",
    "y_test = np.array(to_categorical(labelencoder.fit_transform(y_test)))"
   ]
  },
  {
   "cell_type": "code",
   "execution_count": 26,
   "id": "a5153ce2",
   "metadata": {},
   "outputs": [
    {
     "data": {
      "text/plain": [
       "0"
      ]
     },
     "execution_count": 26,
     "metadata": {},
     "output_type": "execute_result"
    }
   ],
   "source": [
    "del dataset\n",
    "del D\n",
    "del test\n",
    "gc.collect()"
   ]
  },
  {
   "cell_type": "code",
   "execution_count": 27,
   "id": "c4f2700a",
   "metadata": {},
   "outputs": [
    {
     "data": {
      "text/plain": [
       "((13836, 128, 400, 1), (13836, 2))"
      ]
     },
     "execution_count": 27,
     "metadata": {},
     "output_type": "execute_result"
    }
   ],
   "source": [
    "X_test.shape, y_test.shape"
   ]
  },
  {
   "cell_type": "code",
   "execution_count": 28,
   "id": "a1e31685",
   "metadata": {},
   "outputs": [
    {
     "name": "stdout",
     "output_type": "stream",
     "text": [
      "433/433 [==============================] - 78s 180ms/step - loss: 4.1639 - accuracy: 0.8156\n",
      "Test loss: 4.163938522338867\n",
      "Test accuracy: 0.8156259059906006\n"
     ]
    }
   ],
   "source": [
    "reconstructed_model = keras.models.load_model(\"CNN_DB-mel_Original_model\")\n",
    "score = reconstructed_model.evaluate(x=X_test,y=y_test)\n",
    "print('Test loss:', score[0])\n",
    "print('Test accuracy:', score[1])"
   ]
  },
  {
   "cell_type": "code",
   "execution_count": 29,
   "id": "6dcae9bf",
   "metadata": {},
   "outputs": [
    {
     "name": "stdout",
     "output_type": "stream",
     "text": [
      "433/433 [==============================] - 79s 182ms/step - loss: 0.6412 - accuracy: 0.7174\n",
      "Test loss: 0.6411908268928528\n",
      "Test accuracy: 0.7174038887023926\n"
     ]
    }
   ],
   "source": [
    "reconstructed_model = keras.models.load_model(\"CNN_DB-mel_Original_model2\")\n",
    "score = reconstructed_model.evaluate(x=X_test,y=y_test)\n",
    "print('Test loss:', score[0])\n",
    "print('Test accuracy:', score[1])"
   ]
  },
  {
   "cell_type": "code",
   "execution_count": 30,
   "id": "1e652893",
   "metadata": {},
   "outputs": [
    {
     "name": "stdout",
     "output_type": "stream",
     "text": [
      "433/433 [==============================] - 78s 179ms/step - loss: 0.6304 - accuracy: 0.6724\n",
      "Test loss: 0.6304465532302856\n",
      "Test accuracy: 0.6724486947059631\n"
     ]
    }
   ],
   "source": [
    "reconstructed_model = keras.models.load_model(\"CNN_DB-mel_PitchBoosted_2.5_model\")\n",
    "score = reconstructed_model.evaluate(x=X_test,y=y_test)\n",
    "print('Test loss:', score[0])\n",
    "print('Test accuracy:', score[1])"
   ]
  },
  {
   "cell_type": "code",
   "execution_count": 31,
   "id": "3f410962",
   "metadata": {},
   "outputs": [
    {
     "name": "stdout",
     "output_type": "stream",
     "text": [
      "433/433 [==============================] - 80s 185ms/step - loss: 0.6730 - accuracy: 0.6617\n",
      "Test loss: 0.6729785203933716\n",
      "Test accuracy: 0.6616796851158142\n"
     ]
    }
   ],
   "source": [
    "reconstructed_model = keras.models.load_model(\"CNN_DB-mel_PitchBoosted_2.5_model2\")\n",
    "score = reconstructed_model.evaluate(x=X_test,y=y_test)\n",
    "print('Test loss:', score[0])\n",
    "print('Test accuracy:', score[1])"
   ]
  },
  {
   "cell_type": "code",
   "execution_count": 32,
   "id": "ba73dd8b",
   "metadata": {},
   "outputs": [
    {
     "name": "stdout",
     "output_type": "stream",
     "text": [
      "433/433 [==============================] - 79s 181ms/step - loss: 2.6737 - accuracy: 0.7269\n",
      "Test loss: 2.6736538410186768\n",
      "Test accuracy: 0.726871907711029\n"
     ]
    }
   ],
   "source": [
    "reconstructed_model = keras.models.load_model(\"CNN_DB-mel_PitchBoosted_2.0_model\")\n",
    "score = reconstructed_model.evaluate(x=X_test,y=y_test)\n",
    "print('Test loss:', score[0])\n",
    "print('Test accuracy:', score[1])"
   ]
  },
  {
   "cell_type": "code",
   "execution_count": 33,
   "id": "31614c39",
   "metadata": {},
   "outputs": [
    {
     "name": "stdout",
     "output_type": "stream",
     "text": [
      "433/433 [==============================] - 86s 197ms/step - loss: 6.1537 - accuracy: 0.4856\n",
      "Test loss: 6.15370512008667\n",
      "Test accuracy: 0.4856172204017639\n"
     ]
    }
   ],
   "source": [
    "reconstructed_model = keras.models.load_model(\"CNN_DB-mel_PitchBoosted_-2.5_model\")\n",
    "score = reconstructed_model.evaluate(x=X_test,y=y_test)\n",
    "print('Test loss:', score[0])\n",
    "print('Test accuracy:', score[1])"
   ]
  },
  {
   "cell_type": "code",
   "execution_count": 34,
   "id": "6a0a1ab3",
   "metadata": {},
   "outputs": [
    {
     "name": "stdout",
     "output_type": "stream",
     "text": [
      "433/433 [==============================] - 96s 222ms/step - loss: 3.5032 - accuracy: 0.7727\n",
      "Test loss: 3.503239393234253\n",
      "Test accuracy: 0.7726944088935852\n"
     ]
    }
   ],
   "source": [
    "reconstructed_model = keras.models.load_model(\"CNN_DB-mel_RateBoosted_0.81_model\")\n",
    "score = reconstructed_model.evaluate(x=X_test,y=y_test)\n",
    "print('Test loss:', score[0])\n",
    "print('Test accuracy:', score[1])"
   ]
  },
  {
   "cell_type": "code",
   "execution_count": 35,
   "id": "0b2ae90d",
   "metadata": {},
   "outputs": [
    {
     "name": "stdout",
     "output_type": "stream",
     "text": [
      "WARNING:tensorflow:SavedModel saved prior to TF 2.5 detected when loading Keras model. Please ensure that you are saving the model with model.save() or tf.keras.models.save_model(), *NOT* tf.saved_model.save(). To confirm, there should be a file named \"keras_metadata.pb\" in the SavedModel directory.\n",
      "433/433 [==============================] - 97s 223ms/step - loss: 0.8927 - accuracy: 0.6119\n",
      "Test loss: 0.8927074074745178\n",
      "Test accuracy: 0.6118820309638977\n"
     ]
    }
   ],
   "source": [
    "reconstructed_model = keras.models.load_model(\"CNN_DB-mel_RateBoosted_1.07_model\")\n",
    "score = reconstructed_model.evaluate(x=X_test,y=y_test)\n",
    "print('Test loss:', score[0])\n",
    "print('Test accuracy:', score[1])"
   ]
  },
  {
   "cell_type": "code",
   "execution_count": 36,
   "id": "09e02bdb",
   "metadata": {},
   "outputs": [
    {
     "name": "stdout",
     "output_type": "stream",
     "text": [
      "WARNING:tensorflow:SavedModel saved prior to TF 2.5 detected when loading Keras model. Please ensure that you are saving the model with model.save() or tf.keras.models.save_model(), *NOT* tf.saved_model.save(). To confirm, there should be a file named \"keras_metadata.pb\" in the SavedModel directory.\n",
      "433/433 [==============================] - 84s 193ms/step - loss: 2.8938 - accuracy: 0.7426\n",
      "Test loss: 2.8937926292419434\n",
      "Test accuracy: 0.7426279187202454\n"
     ]
    }
   ],
   "source": [
    "reconstructed_model = keras.models.load_model(\"CNN_DB-mel_RateBoosted_1.15_model\")\n",
    "score = reconstructed_model.evaluate(x=X_test,y=y_test)\n",
    "print('Test loss:', score[0])\n",
    "print('Test accuracy:', score[1])"
   ]
  },
  {
   "cell_type": "code",
   "execution_count": 37,
   "id": "a511a334",
   "metadata": {},
   "outputs": [
    {
     "name": "stdout",
     "output_type": "stream",
     "text": [
      "WARNING:tensorflow:SavedModel saved prior to TF 2.5 detected when loading Keras model. Please ensure that you are saving the model with model.save() or tf.keras.models.save_model(), *NOT* tf.saved_model.save(). To confirm, there should be a file named \"keras_metadata.pb\" in the SavedModel directory.\n",
      "433/433 [==============================] - 90s 207ms/step - loss: 0.4300 - accuracy: 0.8193\n",
      "Test loss: 0.43000084161758423\n",
      "Test accuracy: 0.8193119168281555\n"
     ]
    }
   ],
   "source": [
    "reconstructed_model = keras.models.load_model(\"CNN_DB-mel_SpecAugument_model\")\n",
    "score = reconstructed_model.evaluate(x=X_test,y=y_test)\n",
    "print('Test loss:', score[0])\n",
    "print('Test accuracy:', score[1])"
   ]
  },
  {
   "cell_type": "code",
   "execution_count": 38,
   "id": "f500eff2",
   "metadata": {},
   "outputs": [
    {
     "name": "stdout",
     "output_type": "stream",
     "text": [
      "433/433 [==============================] - 91s 210ms/step - loss: 0.0425 - accuracy: 0.9856\n",
      "Test loss: 0.04252871870994568\n",
      "Test accuracy: 0.9856172204017639\n"
     ]
    }
   ],
   "source": [
    "reconstructed_model = keras.models.load_model(\"CNN_DB-mel_FinalCombined_model\")\n",
    "score = reconstructed_model.evaluate(x=X_test,y=y_test)\n",
    "print('Test loss:', score[0])\n",
    "print('Test accuracy:', score[1])"
   ]
  },
  {
   "cell_type": "code",
   "execution_count": null,
   "id": "79a0cfcd",
   "metadata": {},
   "outputs": [],
   "source": []
  }
 ],
 "metadata": {
  "kernelspec": {
   "display_name": "Python 3 (ipykernel)",
   "language": "python",
   "name": "python3"
  },
  "language_info": {
   "codemirror_mode": {
    "name": "ipython",
    "version": 3
   },
   "file_extension": ".py",
   "mimetype": "text/x-python",
   "name": "python",
   "nbconvert_exporter": "python",
   "pygments_lexer": "ipython3",
   "version": "3.9.7"
  }
 },
 "nbformat": 4,
 "nbformat_minor": 5
}
