{
 "cells": [
  {
   "cell_type": "code",
   "execution_count": 1,
   "id": "1e441ccf",
   "metadata": {},
   "outputs": [],
   "source": [
    "import keras\n",
    "from keras.layers import Activation, Dense, Dropout, Conv2D, \\\n",
    "                         Flatten, MaxPooling2D\n",
    "from keras.models import Sequential\n",
    "import librosa\n",
    "import librosa.display\n",
    "import numpy as np\n",
    "import pandas as pd\n",
    "import random\n",
    "\n",
    "import warnings\n",
    "warnings.filterwarnings('ignore')"
   ]
  },
  {
   "cell_type": "code",
   "execution_count": 2,
   "id": "9bd0fa11",
   "metadata": {},
   "outputs": [],
   "source": [
    "import numpy as np\n",
    "\n",
    "arr = np.random.randint(0, 10, (7, 4))\n",
    "\n",
    "def padding(array, xx, yy):\n",
    "    \"\"\"\n",
    "    :param array: numpy array\n",
    "    :param xx: desired height\n",
    "    :param yy: desirex width\n",
    "    :return: padded array\n",
    "    \"\"\"\n",
    "\n",
    "    h = array.shape[0]\n",
    "    w = array.shape[1]\n",
    "\n",
    "    a = (xx - h) // 2\n",
    "    aa = xx - a - h\n",
    "\n",
    "    b = (yy - w) // 2\n",
    "    bb = yy - b - w\n",
    "\n",
    "    return np.pad(array, pad_width=((a, aa), (b, bb)), mode='constant')"
   ]
  },
  {
   "cell_type": "code",
   "execution_count": 4,
   "id": "59cd3763",
   "metadata": {},
   "outputs": [
    {
     "name": "stderr",
     "output_type": "stream",
     "text": [
      "\r",
      "  0%|                                                                                          | 0/134 [00:00<?, ?it/s]"
     ]
    },
    {
     "name": "stdout",
     "output_type": "stream",
     "text": [
      "F01\n"
     ]
    },
    {
     "name": "stderr",
     "output_type": "stream",
     "text": [
      "100%|████████████████████████████████████████████████████████████████████████████████| 134/134 [00:31<00:00,  4.24it/s]\n",
      "  0%|                                                                                          | 0/204 [00:00<?, ?it/s]"
     ]
    },
    {
     "name": "stdout",
     "output_type": "stream",
     "text": [
      "F03\n"
     ]
    },
    {
     "name": "stderr",
     "output_type": "stream",
     "text": [
      "100%|████████████████████████████████████████████████████████████████████████████████| 204/204 [00:38<00:00,  5.27it/s]\n",
      "100%|████████████████████████████████████████████████████████████████████████████████| 435/435 [01:24<00:00,  5.15it/s]\n",
      "100%|████████████████████████████████████████████████████████████████████████████████| 209/209 [00:46<00:00,  4.48it/s]\n",
      "  0%|                                                                                          | 0/199 [00:00<?, ?it/s]"
     ]
    },
    {
     "name": "stdout",
     "output_type": "stream",
     "text": [
      "F04\n"
     ]
    },
    {
     "name": "stderr",
     "output_type": "stream",
     "text": [
      "100%|████████████████████████████████████████████████████████████████████████████████| 199/199 [00:45<00:00,  4.41it/s]\n",
      "100%|████████████████████████████████████████████████████████████████████████████████| 249/249 [01:20<00:00,  3.11it/s]\n",
      "  0%|                                                                                          | 0/256 [00:00<?, ?it/s]"
     ]
    },
    {
     "name": "stdout",
     "output_type": "stream",
     "text": [
      "FC01\n"
     ]
    },
    {
     "name": "stderr",
     "output_type": "stream",
     "text": [
      "100%|████████████████████████████████████████████████████████████████████████████████| 256/256 [01:15<00:00,  3.37it/s]\n",
      "  0%|                                                                                          | 0/269 [00:00<?, ?it/s]"
     ]
    },
    {
     "name": "stdout",
     "output_type": "stream",
     "text": [
      "FC02\n"
     ]
    },
    {
     "name": "stderr",
     "output_type": "stream",
     "text": [
      "100%|████████████████████████████████████████████████████████████████████████████████| 269/269 [01:19<00:00,  3.39it/s]\n",
      "100%|████████████████████████████████████████████████████████████████████████████████| 992/992 [03:26<00:00,  4.80it/s]\n",
      "  0%|                                                                                          | 0/400 [00:00<?, ?it/s]"
     ]
    },
    {
     "name": "stdout",
     "output_type": "stream",
     "text": [
      "FC03\n"
     ]
    },
    {
     "name": "stderr",
     "output_type": "stream",
     "text": [
      "100%|████████████████████████████████████████████████████████████████████████████████| 400/400 [01:22<00:00,  4.85it/s]\n",
      "100%|████████████████████████████████████████████████████████████████████████████████| 387/387 [01:08<00:00,  5.64it/s]\n",
      "100%|████████████████████████████████████████████████████████████████████████████████| 208/208 [00:31<00:00,  6.57it/s]\n",
      "  0%|                                                                                          | 0/100 [00:00<?, ?it/s]"
     ]
    },
    {
     "name": "stdout",
     "output_type": "stream",
     "text": [
      "M01\n"
     ]
    },
    {
     "name": "stderr",
     "output_type": "stream",
     "text": [
      "100%|████████████████████████████████████████████████████████████████████████████████| 100/100 [00:32<00:00,  3.06it/s]\n",
      "100%|████████████████████████████████████████████████████████████████████████████████| 286/286 [01:07<00:00,  4.22it/s]\n",
      "  0%|                                                                                          | 0/240 [00:00<?, ?it/s]"
     ]
    },
    {
     "name": "stdout",
     "output_type": "stream",
     "text": [
      "M02\n"
     ]
    },
    {
     "name": "stderr",
     "output_type": "stream",
     "text": [
      "100%|████████████████████████████████████████████████████████████████████████████████| 240/240 [00:46<00:00,  5.20it/s]\n",
      "100%|████████████████████████████████████████████████████████████████████████████████| 160/160 [00:46<00:00,  3.42it/s]\n",
      "  0%|                                                                                          | 0/416 [00:00<?, ?it/s]"
     ]
    },
    {
     "name": "stdout",
     "output_type": "stream",
     "text": [
      "M03\n"
     ]
    },
    {
     "name": "stderr",
     "output_type": "stream",
     "text": [
      "100%|████████████████████████████████████████████████████████████████████████████████| 416/416 [01:41<00:00,  4.11it/s]\n",
      "  0%|                                                                                          | 0/126 [00:00<?, ?it/s]"
     ]
    },
    {
     "name": "stdout",
     "output_type": "stream",
     "text": [
      "M04\n"
     ]
    },
    {
     "name": "stderr",
     "output_type": "stream",
     "text": [
      "100%|████████████████████████████████████████████████████████████████████████████████| 126/126 [00:37<00:00,  3.36it/s]\n",
      "100%|████████████████████████████████████████████████████████████████████████████████| 295/295 [01:18<00:00,  3.78it/s]\n",
      "  0%|                                                                                          | 0/128 [00:00<?, ?it/s]"
     ]
    },
    {
     "name": "stdout",
     "output_type": "stream",
     "text": [
      "M05\n"
     ]
    },
    {
     "name": "stderr",
     "output_type": "stream",
     "text": [
      "100%|████████████████████████████████████████████████████████████████████████████████| 128/128 [00:37<00:00,  3.40it/s]\n",
      "  0%|                                                                                          | 0/329 [00:00<?, ?it/s]"
     ]
    },
    {
     "name": "stdout",
     "output_type": "stream",
     "text": [
      "MC01\n"
     ]
    },
    {
     "name": "stderr",
     "output_type": "stream",
     "text": [
      "100%|████████████████████████████████████████████████████████████████████████████████| 329/329 [01:26<00:00,  3.82it/s]\n",
      "100%|████████████████████████████████████████████████████████████████████████████████| 360/360 [01:05<00:00,  5.47it/s]\n",
      "100%|████████████████████████████████████████████████████████████████████████████████| 419/419 [01:33<00:00,  4.46it/s]\n",
      "  0%|                                                                                          | 0/388 [00:00<?, ?it/s]"
     ]
    },
    {
     "name": "stdout",
     "output_type": "stream",
     "text": [
      "MC02\n"
     ]
    },
    {
     "name": "stderr",
     "output_type": "stream",
     "text": [
      "100%|████████████████████████████████████████████████████████████████████████████████| 388/388 [01:40<00:00,  3.86it/s]\n",
      "100%|████████████████████████████████████████████████████████████████████████████████| 307/307 [01:21<00:00,  3.75it/s]\n",
      "  0%|                                                                                          | 0/600 [00:00<?, ?it/s]"
     ]
    },
    {
     "name": "stdout",
     "output_type": "stream",
     "text": [
      "MC03\n"
     ]
    },
    {
     "name": "stderr",
     "output_type": "stream",
     "text": [
      "100%|████████████████████████████████████████████████████████████████████████████████| 600/600 [01:42<00:00,  5.86it/s]\n",
      "100%|████████████████████████████████████████████████████████████████████████████████| 300/300 [00:47<00:00,  6.26it/s]\n",
      "  0%|                                                                                          | 0/648 [00:00<?, ?it/s]"
     ]
    },
    {
     "name": "stdout",
     "output_type": "stream",
     "text": [
      "MC04\n"
     ]
    },
    {
     "name": "stderr",
     "output_type": "stream",
     "text": [
      "100%|████████████████████████████████████████████████████████████████████████████████| 648/648 [01:50<00:00,  5.89it/s]\n",
      "100%|████████████████████████████████████████████████████████████████████████████████| 373/373 [00:57<00:00,  6.51it/s]\n"
     ]
    }
   ],
   "source": [
    "import os\n",
    "import numpy as np\n",
    "from tqdm import tqdm\n",
    "\n",
    "D = [] # Dataset\n",
    "data = {\n",
    "        \"spect\": [],\n",
    "        \"label\": []\n",
    "       }\n",
    "\n",
    "directories =[  \n",
    "                 ['F01','Atypical'],['F03','Atypical'],['F04','Atypical'],['FC01','Typical'],['FC02','Typical'],\n",
    "                 ['FC03','Typical'],['M01','Atypical'],['M02','Atypical'],['M03','Atypical'],['M04','Atypical'],\n",
    "                 ['M05','Atypical'],['MC01','Typical'],['MC02','Typical'],['MC03','Typical'],['MC04','Typical']\n",
    "             ]\n",
    "\n",
    "for pair in directories:\n",
    "    directory = pair[0]\n",
    "    label = pair[1]\n",
    "    print(directory)\n",
    "    for filename in os.listdir(directory):\n",
    "        if filename != 'Notes':\n",
    "            file = os.path.join(directory, filename)\n",
    "            file = os.path.join(file, 'wav_arrayMic')\n",
    "            if os.path.isdir(file):\n",
    "                for audiofile in tqdm(os.listdir(file)):\n",
    "                    f = os.path.join(file, audiofile)\n",
    "                    if os.path.isfile(f):\n",
    "                        if librosa.get_duration(filename=f) != 0:\n",
    "                            y, sr = librosa.load(f)\n",
    "                            \n",
    "                            #y_changed = librosa.effects.time_stretch(y, rate=0.81)\n",
    "                            y_changed = librosa.effects.pitch_shift(y, sr, n_steps=2.5)\n",
    "                            ps = librosa.feature.melspectrogram(y=y_changed, sr=sr)\n",
    "                            \n",
    "                            if ps.shape[1] > 400 : continue\n",
    "                            PS = ps\n",
    "                            data[\"spect\"].append(PS.tolist())\n",
    "                            data[\"label\"].append(label)\n",
    "                            D.append( (np.array(padding(ps,128,400)), label) )"
   ]
  },
  {
   "cell_type": "code",
   "execution_count": 5,
   "id": "b04e25de",
   "metadata": {},
   "outputs": [],
   "source": [
    "dataset = D\n",
    "random.shuffle(dataset)\n",
    "\n",
    "train = dataset[:8000]\n",
    "dataset = dataset[8000:]\n",
    "validate = dataset[:1000]\n",
    "test = dataset[1000:]\n",
    "\n",
    "X_train, y_train = zip(*train)\n",
    "X_validate, y_validate = zip(*validate)\n",
    "X_test, y_test = zip(*test)\n",
    "\n",
    "# Reshape for CNN input\n",
    "X_train = np.array([x.reshape( (128, 400, 1) ) for x in X_train])\n",
    "X_validate = np.array([x.reshape( (128, 400, 1) ) for x in X_validate])\n",
    "X_test = np.array([x.reshape( (128, 400, 1) ) for x in X_test])"
   ]
  },
  {
   "cell_type": "code",
   "execution_count": 6,
   "id": "e4942966",
   "metadata": {},
   "outputs": [],
   "source": [
    "from tensorflow.keras.utils import to_categorical\n",
    "from sklearn.preprocessing import LabelEncoder\n",
    "labelencoder=LabelEncoder()\n",
    "#y=to_categorical(labelencoder.fit_transform(y))\n",
    "#y\n",
    "y_train = np.array(to_categorical(labelencoder.fit_transform(y_train)))\n",
    "y_validate = np.array(to_categorical(labelencoder.fit_transform(y_validate)))\n",
    "y_test = np.array(to_categorical(labelencoder.fit_transform(y_test)))"
   ]
  },
  {
   "cell_type": "code",
   "execution_count": 7,
   "id": "b730f812",
   "metadata": {},
   "outputs": [
    {
     "data": {
      "text/plain": [
       "((8000, 128, 400, 1),\n",
       " (1000, 128, 400, 1),\n",
       " (238, 128, 400, 1),\n",
       " (8000, 2),\n",
       " (1000, 2),\n",
       " (238, 2))"
      ]
     },
     "execution_count": 7,
     "metadata": {},
     "output_type": "execute_result"
    }
   ],
   "source": [
    "X_train.shape, X_validate.shape, X_test.shape, y_train.shape, y_validate.shape, y_test.shape"
   ]
  },
  {
   "cell_type": "code",
   "execution_count": 8,
   "id": "f32221c0",
   "metadata": {},
   "outputs": [
    {
     "name": "stdout",
     "output_type": "stream",
     "text": [
      "Model: \"sequential\"\n",
      "_________________________________________________________________\n",
      "Layer (type)                 Output Shape              Param #   \n",
      "=================================================================\n",
      "conv2d (Conv2D)              (None, 124, 396, 24)      624       \n",
      "_________________________________________________________________\n",
      "max_pooling2d (MaxPooling2D) (None, 31, 198, 24)       0         \n",
      "_________________________________________________________________\n",
      "activation (Activation)      (None, 31, 198, 24)       0         \n",
      "_________________________________________________________________\n",
      "conv2d_1 (Conv2D)            (None, 27, 194, 48)       28848     \n",
      "_________________________________________________________________\n",
      "max_pooling2d_1 (MaxPooling2 (None, 6, 97, 48)         0         \n",
      "_________________________________________________________________\n",
      "activation_1 (Activation)    (None, 6, 97, 48)         0         \n",
      "_________________________________________________________________\n",
      "conv2d_2 (Conv2D)            (None, 2, 93, 48)         57648     \n",
      "_________________________________________________________________\n",
      "activation_2 (Activation)    (None, 2, 93, 48)         0         \n",
      "_________________________________________________________________\n",
      "flatten (Flatten)            (None, 8928)              0         \n",
      "_________________________________________________________________\n",
      "dropout (Dropout)            (None, 8928)              0         \n",
      "_________________________________________________________________\n",
      "dense (Dense)                (None, 64)                571456    \n",
      "_________________________________________________________________\n",
      "activation_3 (Activation)    (None, 64)                0         \n",
      "_________________________________________________________________\n",
      "dropout_1 (Dropout)          (None, 64)                0         \n",
      "_________________________________________________________________\n",
      "dense_1 (Dense)              (None, 2)                 130       \n",
      "_________________________________________________________________\n",
      "activation_4 (Activation)    (None, 2)                 0         \n",
      "=================================================================\n",
      "Total params: 658,706\n",
      "Trainable params: 658,706\n",
      "Non-trainable params: 0\n",
      "_________________________________________________________________\n"
     ]
    }
   ],
   "source": [
    "model = Sequential()\n",
    "input_shape=(128, 400, 1)\n",
    "\n",
    "model.add(Conv2D(24, (5, 5), strides=(1, 1), input_shape=input_shape))\n",
    "model.add(MaxPooling2D((4, 2), strides=(4, 2)))\n",
    "model.add(Activation('relu'))\n",
    "\n",
    "model.add(Conv2D(48, (5, 5), padding=\"valid\"))\n",
    "model.add(MaxPooling2D((4, 2), strides=(4, 2)))\n",
    "model.add(Activation('relu'))\n",
    "\n",
    "model.add(Conv2D(48, (5, 5), padding=\"valid\"))\n",
    "model.add(Activation('relu'))\n",
    "\n",
    "model.add(Flatten())\n",
    "model.add(Dropout(rate=0.5))\n",
    "\n",
    "model.add(Dense(64))\n",
    "model.add(Activation('relu'))\n",
    "model.add(Dropout(rate=0.5))\n",
    "\n",
    "model.add(Dense(2))\n",
    "model.add(Activation('softmax'))\n",
    "\n",
    "model.summary()"
   ]
  },
  {
   "cell_type": "code",
   "execution_count": 10,
   "id": "bc289116",
   "metadata": {},
   "outputs": [
    {
     "name": "stdout",
     "output_type": "stream",
     "text": [
      "Epoch 1/12\n",
      "63/63 [==============================] - 296s 5s/step - loss: 0.4966 - accuracy: 0.8004 - val_loss: 0.3921 - val_accuracy: 0.8300\n",
      "Epoch 2/12\n",
      "63/63 [==============================] - 295s 5s/step - loss: 0.4122 - accuracy: 0.8279 - val_loss: 0.3738 - val_accuracy: 0.8530\n",
      "Epoch 3/12\n",
      "63/63 [==============================] - 305s 5s/step - loss: 0.4101 - accuracy: 0.8391 - val_loss: 0.3725 - val_accuracy: 0.8360\n",
      "Epoch 4/12\n",
      "63/63 [==============================] - 308s 5s/step - loss: 0.3795 - accuracy: 0.8528 - val_loss: 0.3397 - val_accuracy: 0.8630\n",
      "Epoch 5/12\n",
      "63/63 [==============================] - 333s 5s/step - loss: 0.3573 - accuracy: 0.8604 - val_loss: 0.3687 - val_accuracy: 0.8430\n",
      "Epoch 6/12\n",
      "63/63 [==============================] - 320s 5s/step - loss: 0.3430 - accuracy: 0.8669 - val_loss: 0.3241 - val_accuracy: 0.8670\n",
      "Epoch 7/12\n",
      "63/63 [==============================] - 313s 5s/step - loss: 0.3426 - accuracy: 0.8717 - val_loss: 0.3275 - val_accuracy: 0.8690\n",
      "Epoch 8/12\n",
      "63/63 [==============================] - 346s 5s/step - loss: 0.3333 - accuracy: 0.8775 - val_loss: 0.3053 - val_accuracy: 0.8790\n",
      "Epoch 9/12\n",
      "63/63 [==============================] - 349s 6s/step - loss: 0.2981 - accuracy: 0.8876 - val_loss: 0.3399 - val_accuracy: 0.8760\n",
      "Epoch 10/12\n",
      "63/63 [==============================] - 326s 5s/step - loss: 0.3119 - accuracy: 0.8777 - val_loss: 0.2901 - val_accuracy: 0.8970\n",
      "Epoch 11/12\n",
      "63/63 [==============================] - 347s 6s/step - loss: 0.2765 - accuracy: 0.8938 - val_loss: 0.3079 - val_accuracy: 0.8920\n",
      "Epoch 12/12\n",
      "63/63 [==============================] - 358s 6s/step - loss: 0.3530 - accuracy: 0.8687 - val_loss: 0.3003 - val_accuracy: 0.8790\n",
      "8/8 [==============================] - 3s 350ms/step - loss: 0.2433 - accuracy: 0.9034\n",
      "Test loss: 0.24327702820301056\n",
      "Test accuracy: 0.9033613204956055\n"
     ]
    }
   ],
   "source": [
    "model.compile(optimizer=\"Adam\",loss=\"categorical_crossentropy\",metrics=['accuracy'])\n",
    "model.fit(x=X_train, y=y_train,epochs=12,batch_size=128,validation_data= (X_validate, y_validate))\n",
    "score = model.evaluate(x=X_test,y=y_test)\n",
    "print('Test loss:', score[0])\n",
    "print('Test accuracy:', score[1])"
   ]
  },
  {
   "cell_type": "code",
   "execution_count": 12,
   "id": "04caec22",
   "metadata": {},
   "outputs": [],
   "source": [
    "import json\n",
    "with open('DATA.json', \"w\") as fp:json.dump(data, fp, indent=1)"
   ]
  },
  {
   "cell_type": "code",
   "execution_count": 28,
   "id": "bb39f62f",
   "metadata": {},
   "outputs": [
    {
     "name": "stdout",
     "output_type": "stream",
     "text": [
      "INFO:tensorflow:Assets written to: save_model\\assets\n"
     ]
    }
   ],
   "source": [
    "# save the model to disk\n",
    "#filename = 'finalized_model.sav'\n",
    "model.save('save_model')"
   ]
  },
  {
   "cell_type": "code",
   "execution_count": 29,
   "id": "c5d24476",
   "metadata": {},
   "outputs": [],
   "source": [
    "reconstructed_model = keras.models.load_model(\"save_model\")"
   ]
  },
  {
   "cell_type": "code",
   "execution_count": 30,
   "id": "2195799f",
   "metadata": {},
   "outputs": [
    {
     "name": "stdout",
     "output_type": "stream",
     "text": [
      "WARNING:tensorflow:From <ipython-input-30-846a3ccb5e88>:1: Sequential.predict_classes (from tensorflow.python.keras.engine.sequential) is deprecated and will be removed after 2021-01-01.\n",
      "Instructions for updating:\n",
      "Please use instead:* `np.argmax(model.predict(x), axis=-1)`,   if your model does multi-class classification   (e.g. if it uses a `softmax` last-layer activation).* `(model.predict(x) > 0.5).astype(\"int32\")`,   if your model does binary classification   (e.g. if it uses a `sigmoid` last-layer activation).\n",
      "  Real       Prediction       Match\n",
      "Typical       Typical       True\n",
      "Typical       Typical       True\n",
      "Typical       Typical       True\n",
      "Typical       Typical       True\n",
      "Typical       Typical       True\n",
      "Typical       Typical       True\n",
      "Typical       Typical       True\n",
      "Atypical       Atypical       True\n",
      "Typical       Typical       True\n",
      "Atypical       Atypical       True\n",
      "Atypical       Atypical       True\n",
      "Typical       Typical       True\n",
      "Typical       Typical       True\n",
      "Typical       Typical       True\n",
      "Typical       Typical       True\n",
      "Atypical       Atypical       True\n",
      "Typical       Typical       True\n",
      "Typical       Typical       True\n",
      "Typical       Typical       True\n",
      "Atypical       Typical       False\n",
      "Typical       Typical       True\n",
      "Atypical       Atypical       True\n",
      "Typical       Typical       True\n",
      "Typical       Typical       True\n",
      "Typical       Typical       True\n",
      "Typical       Typical       True\n",
      "Typical       Typical       True\n",
      "Typical       Typical       True\n",
      "Typical       Typical       True\n",
      "Typical       Typical       True\n",
      "Atypical       Atypical       True\n",
      "Typical       Typical       True\n",
      "Typical       Typical       True\n",
      "Typical       Typical       True\n",
      "Atypical       Typical       False\n",
      "Typical       Typical       True\n",
      "Typical       Typical       True\n",
      "Typical       Typical       True\n",
      "Atypical       Atypical       True\n",
      "Atypical       Atypical       True\n",
      "Typical       Typical       True\n",
      "Atypical       Atypical       True\n",
      "Typical       Typical       True\n",
      "Typical       Typical       True\n",
      "Typical       Typical       True\n",
      "Typical       Typical       True\n",
      "Typical       Typical       True\n",
      "Typical       Typical       True\n",
      "Typical       Typical       True\n",
      "Typical       Typical       True\n",
      "Atypical       Atypical       True\n",
      "Typical       Typical       True\n",
      "Typical       Typical       True\n",
      "Typical       Typical       True\n",
      "Atypical       Atypical       True\n",
      "Typical       Typical       True\n",
      "Typical       Typical       True\n",
      "Typical       Typical       True\n",
      "Typical       Typical       True\n",
      "Atypical       Typical       False\n",
      "Atypical       Atypical       True\n",
      "Atypical       Typical       False\n",
      "Typical       Typical       True\n",
      "Typical       Typical       True\n",
      "Atypical       Atypical       True\n",
      "Typical       Typical       True\n",
      "Atypical       Atypical       True\n",
      "Atypical       Atypical       True\n",
      "Typical       Atypical       False\n",
      "Typical       Typical       True\n",
      "Typical       Typical       True\n",
      "Atypical       Atypical       True\n",
      "Typical       Typical       True\n",
      "Typical       Typical       True\n",
      "Typical       Typical       True\n",
      "Atypical       Typical       False\n",
      "Typical       Typical       True\n",
      "Typical       Typical       True\n",
      "Atypical       Atypical       True\n",
      "Atypical       Typical       False\n",
      "Atypical       Atypical       True\n",
      "Typical       Typical       True\n",
      "Typical       Typical       True\n",
      "Typical       Typical       True\n",
      "Typical       Typical       True\n",
      "Typical       Typical       True\n",
      "Typical       Typical       True\n",
      "Typical       Typical       True\n",
      "Atypical       Atypical       True\n",
      "Typical       Typical       True\n",
      "Typical       Typical       True\n",
      "Typical       Typical       True\n",
      "Atypical       Atypical       True\n",
      "Atypical       Atypical       True\n",
      "Atypical       Atypical       True\n",
      "Typical       Typical       True\n",
      "Typical       Typical       True\n",
      "Typical       Typical       True\n",
      "Typical       Typical       True\n",
      "Atypical       Atypical       True\n",
      "Typical       Typical       True\n",
      "Typical       Typical       True\n",
      "Typical       Typical       True\n",
      "Atypical       Atypical       True\n",
      "Atypical       Atypical       True\n",
      "Typical       Typical       True\n",
      "Typical       Typical       True\n",
      "Typical       Typical       True\n",
      "Typical       Typical       True\n",
      "Atypical       Typical       False\n",
      "Typical       Typical       True\n",
      "Atypical       Atypical       True\n",
      "Typical       Typical       True\n",
      "Typical       Typical       True\n",
      "Typical       Typical       True\n",
      "Typical       Typical       True\n",
      "Typical       Typical       True\n",
      "Atypical       Atypical       True\n",
      "Typical       Typical       True\n",
      "Typical       Typical       True\n",
      "Typical       Typical       True\n",
      "Typical       Typical       True\n",
      "Typical       Typical       True\n",
      "Typical       Typical       True\n",
      "Typical       Typical       True\n",
      "Atypical       Atypical       True\n",
      "Typical       Typical       True\n",
      "Atypical       Typical       False\n",
      "Typical       Typical       True\n",
      "Typical       Typical       True\n",
      "Typical       Typical       True\n",
      "Typical       Typical       True\n",
      "Typical       Typical       True\n",
      "Typical       Typical       True\n",
      "Atypical       Atypical       True\n",
      "Typical       Typical       True\n",
      "Atypical       Atypical       True\n",
      "Typical       Typical       True\n",
      "Typical       Typical       True\n",
      "Atypical       Typical       False\n",
      "Atypical       Atypical       True\n",
      "Atypical       Typical       False\n",
      "Typical       Typical       True\n",
      "Atypical       Atypical       True\n",
      "Typical       Typical       True\n",
      "Typical       Typical       True\n",
      "Typical       Typical       True\n",
      "Typical       Typical       True\n",
      "Typical       Typical       True\n",
      "Typical       Typical       True\n",
      "Typical       Typical       True\n",
      "Typical       Typical       True\n",
      "Typical       Typical       True\n",
      "Typical       Typical       True\n",
      "Typical       Typical       True\n",
      "Typical       Typical       True\n",
      "Typical       Typical       True\n",
      "Typical       Typical       True\n",
      "Typical       Typical       True\n",
      "Typical       Typical       True\n",
      "Typical       Typical       True\n",
      "Typical       Typical       True\n",
      "Atypical       Typical       False\n",
      "Atypical       Atypical       True\n",
      "Atypical       Atypical       True\n",
      "Atypical       Atypical       True\n",
      "Atypical       Atypical       True\n",
      "Typical       Typical       True\n",
      "Atypical       Atypical       True\n",
      "Atypical       Atypical       True\n",
      "Atypical       Atypical       True\n",
      "Typical       Typical       True\n",
      "Typical       Typical       True\n",
      "Atypical       Atypical       True\n",
      "Atypical       Typical       False\n",
      "Typical       Typical       True\n",
      "Typical       Typical       True\n",
      "Atypical       Typical       False\n",
      "Typical       Typical       True\n",
      "Typical       Typical       True\n",
      "Atypical       Atypical       True\n",
      "Typical       Typical       True\n",
      "Typical       Typical       True\n",
      "Typical       Typical       True\n",
      "Atypical       Typical       False\n",
      "Atypical       Typical       False\n",
      "Typical       Typical       True\n",
      "Typical       Typical       True\n",
      "Typical       Typical       True\n",
      "Atypical       Atypical       True\n",
      "Typical       Typical       True\n",
      "Typical       Typical       True\n",
      "Typical       Typical       True\n",
      "Typical       Typical       True\n",
      "Typical       Typical       True\n",
      "Atypical       Atypical       True\n",
      "Typical       Typical       True\n",
      "Atypical       Atypical       True\n",
      "Typical       Typical       True\n",
      "Atypical       Atypical       True\n",
      "Typical       Typical       True\n",
      "Atypical       Typical       False\n",
      "Typical       Typical       True\n",
      "Atypical       Atypical       True\n",
      "Typical       Typical       True\n",
      "Typical       Typical       True\n",
      "Typical       Typical       True\n",
      "Typical       Typical       True\n",
      "Typical       Typical       True\n",
      "Typical       Typical       True\n",
      "Atypical       Typical       False\n",
      "Typical       Typical       True\n",
      "Typical       Typical       True\n",
      "Typical       Typical       True\n",
      "Typical       Typical       True\n",
      "Atypical       Atypical       True\n",
      "Typical       Typical       True\n",
      "Typical       Typical       True\n",
      "Typical       Typical       True\n",
      "Typical       Typical       True\n",
      "Typical       Typical       True\n",
      "Atypical       Atypical       True\n",
      "Atypical       Typical       False\n",
      "Atypical       Atypical       True\n",
      "Atypical       Typical       False\n",
      "Typical       Typical       True\n",
      "Atypical       Typical       False\n",
      "Typical       Typical       True\n",
      "Atypical       Typical       False\n",
      "Atypical       Typical       False\n",
      "Typical       Typical       True\n",
      "Typical       Typical       True\n",
      "Typical       Typical       True\n",
      "Atypical       Atypical       True\n",
      "Atypical       Atypical       True\n",
      "Typical       Typical       True\n",
      "Typical       Typical       True\n",
      "Typical       Typical       True\n",
      "Matched =  215\n",
      "Not Matched =  23\n"
     ]
    }
   ],
   "source": [
    "predict = model.predict_classes(X_test)\n",
    "prediction_class = labelencoder.inverse_transform(predict)\n",
    "#real_class = labelencoder.inverse_transform(y_test)\n",
    "#prediction_class\n",
    "x, y = zip(*test)\n",
    "y\n",
    "match = 0\n",
    "print('  Real       Prediction       Match')\n",
    "for i in range(0,X_test.shape[0]):\n",
    "    if(y[i]==prediction_class[i]):\n",
    "        match+=1\n",
    "    print(y[i] + '       ' + prediction_class[i] + '       ' + str(y[i]==prediction_class[i]))\n",
    "print('Matched = ', match)\n",
    "print('Not Matched = ',(X_test.shape[0] - match))"
   ]
  },
  {
   "cell_type": "code",
   "execution_count": 31,
   "id": "a097c2a5",
   "metadata": {},
   "outputs": [],
   "source": [
    "reconstructed_model = keras.models.load_model(\"save_model\")"
   ]
  },
  {
   "cell_type": "code",
   "execution_count": 32,
   "id": "cb906398",
   "metadata": {},
   "outputs": [
    {
     "name": "stdout",
     "output_type": "stream",
     "text": [
      "  Real       Prediction       Match\n",
      "Typical       Typical       True\n",
      "Typical       Typical       True\n",
      "Typical       Typical       True\n",
      "Typical       Typical       True\n",
      "Typical       Typical       True\n",
      "Typical       Typical       True\n",
      "Typical       Typical       True\n",
      "Atypical       Atypical       True\n",
      "Typical       Typical       True\n",
      "Atypical       Atypical       True\n",
      "Atypical       Atypical       True\n",
      "Typical       Typical       True\n",
      "Typical       Typical       True\n",
      "Typical       Typical       True\n",
      "Typical       Typical       True\n",
      "Atypical       Atypical       True\n",
      "Typical       Typical       True\n",
      "Typical       Typical       True\n",
      "Typical       Typical       True\n",
      "Atypical       Typical       False\n",
      "Typical       Typical       True\n",
      "Atypical       Atypical       True\n",
      "Typical       Typical       True\n",
      "Typical       Typical       True\n",
      "Typical       Typical       True\n",
      "Typical       Typical       True\n",
      "Typical       Typical       True\n",
      "Typical       Typical       True\n",
      "Typical       Typical       True\n",
      "Typical       Typical       True\n",
      "Atypical       Atypical       True\n",
      "Typical       Typical       True\n",
      "Typical       Typical       True\n",
      "Typical       Typical       True\n",
      "Atypical       Typical       False\n",
      "Typical       Typical       True\n",
      "Typical       Typical       True\n",
      "Typical       Typical       True\n",
      "Atypical       Atypical       True\n",
      "Atypical       Atypical       True\n",
      "Typical       Typical       True\n",
      "Atypical       Atypical       True\n",
      "Typical       Typical       True\n",
      "Typical       Typical       True\n",
      "Typical       Typical       True\n",
      "Typical       Typical       True\n",
      "Typical       Typical       True\n",
      "Typical       Typical       True\n",
      "Typical       Typical       True\n",
      "Typical       Typical       True\n",
      "Atypical       Atypical       True\n",
      "Typical       Typical       True\n",
      "Typical       Typical       True\n",
      "Typical       Typical       True\n",
      "Atypical       Atypical       True\n",
      "Typical       Typical       True\n",
      "Typical       Typical       True\n",
      "Typical       Typical       True\n",
      "Typical       Typical       True\n",
      "Atypical       Typical       False\n",
      "Atypical       Atypical       True\n",
      "Atypical       Typical       False\n",
      "Typical       Typical       True\n",
      "Typical       Typical       True\n",
      "Atypical       Atypical       True\n",
      "Typical       Typical       True\n",
      "Atypical       Atypical       True\n",
      "Atypical       Atypical       True\n",
      "Typical       Atypical       False\n",
      "Typical       Typical       True\n",
      "Typical       Typical       True\n",
      "Atypical       Atypical       True\n",
      "Typical       Typical       True\n",
      "Typical       Typical       True\n",
      "Typical       Typical       True\n",
      "Atypical       Typical       False\n",
      "Typical       Typical       True\n",
      "Typical       Typical       True\n",
      "Atypical       Atypical       True\n",
      "Atypical       Typical       False\n",
      "Atypical       Atypical       True\n",
      "Typical       Typical       True\n",
      "Typical       Typical       True\n",
      "Typical       Typical       True\n",
      "Typical       Typical       True\n",
      "Typical       Typical       True\n",
      "Typical       Typical       True\n",
      "Typical       Typical       True\n",
      "Atypical       Atypical       True\n",
      "Typical       Typical       True\n",
      "Typical       Typical       True\n",
      "Typical       Typical       True\n",
      "Atypical       Atypical       True\n",
      "Atypical       Atypical       True\n",
      "Atypical       Atypical       True\n",
      "Typical       Typical       True\n",
      "Typical       Typical       True\n",
      "Typical       Typical       True\n",
      "Typical       Typical       True\n",
      "Atypical       Atypical       True\n",
      "Typical       Typical       True\n",
      "Typical       Typical       True\n",
      "Typical       Typical       True\n",
      "Atypical       Atypical       True\n",
      "Atypical       Atypical       True\n",
      "Typical       Typical       True\n",
      "Typical       Typical       True\n",
      "Typical       Typical       True\n",
      "Typical       Typical       True\n",
      "Atypical       Typical       False\n",
      "Typical       Typical       True\n",
      "Atypical       Atypical       True\n",
      "Typical       Typical       True\n",
      "Typical       Typical       True\n",
      "Typical       Typical       True\n",
      "Typical       Typical       True\n",
      "Typical       Typical       True\n",
      "Atypical       Atypical       True\n",
      "Typical       Typical       True\n",
      "Typical       Typical       True\n",
      "Typical       Typical       True\n",
      "Typical       Typical       True\n",
      "Typical       Typical       True\n",
      "Typical       Typical       True\n",
      "Typical       Typical       True\n",
      "Atypical       Atypical       True\n",
      "Typical       Typical       True\n",
      "Atypical       Typical       False\n",
      "Typical       Typical       True\n",
      "Typical       Typical       True\n",
      "Typical       Typical       True\n",
      "Typical       Typical       True\n",
      "Typical       Typical       True\n",
      "Typical       Typical       True\n",
      "Atypical       Atypical       True\n",
      "Typical       Typical       True\n",
      "Atypical       Atypical       True\n",
      "Typical       Typical       True\n",
      "Typical       Typical       True\n",
      "Atypical       Typical       False\n",
      "Atypical       Atypical       True\n",
      "Atypical       Typical       False\n",
      "Typical       Typical       True\n",
      "Atypical       Atypical       True\n",
      "Typical       Typical       True\n",
      "Typical       Typical       True\n",
      "Typical       Typical       True\n",
      "Typical       Typical       True\n",
      "Typical       Typical       True\n",
      "Typical       Typical       True\n",
      "Typical       Typical       True\n",
      "Typical       Typical       True\n",
      "Typical       Typical       True\n",
      "Typical       Typical       True\n",
      "Typical       Typical       True\n",
      "Typical       Typical       True\n",
      "Typical       Typical       True\n",
      "Typical       Typical       True\n",
      "Typical       Typical       True\n",
      "Typical       Typical       True\n",
      "Typical       Typical       True\n",
      "Typical       Typical       True\n",
      "Atypical       Typical       False\n",
      "Atypical       Atypical       True\n",
      "Atypical       Atypical       True\n",
      "Atypical       Atypical       True\n",
      "Atypical       Atypical       True\n",
      "Typical       Typical       True\n",
      "Atypical       Atypical       True\n",
      "Atypical       Atypical       True\n",
      "Atypical       Atypical       True\n",
      "Typical       Typical       True\n",
      "Typical       Typical       True\n",
      "Atypical       Atypical       True\n",
      "Atypical       Typical       False\n",
      "Typical       Typical       True\n",
      "Typical       Typical       True\n",
      "Atypical       Typical       False\n",
      "Typical       Typical       True\n",
      "Typical       Typical       True\n",
      "Atypical       Atypical       True\n",
      "Typical       Typical       True\n",
      "Typical       Typical       True\n",
      "Typical       Typical       True\n",
      "Atypical       Typical       False\n",
      "Atypical       Typical       False\n",
      "Typical       Typical       True\n",
      "Typical       Typical       True\n",
      "Typical       Typical       True\n",
      "Atypical       Atypical       True\n",
      "Typical       Typical       True\n",
      "Typical       Typical       True\n",
      "Typical       Typical       True\n",
      "Typical       Typical       True\n",
      "Typical       Typical       True\n",
      "Atypical       Atypical       True\n",
      "Typical       Typical       True\n",
      "Atypical       Atypical       True\n",
      "Typical       Typical       True\n",
      "Atypical       Atypical       True\n",
      "Typical       Typical       True\n",
      "Atypical       Typical       False\n",
      "Typical       Typical       True\n",
      "Atypical       Atypical       True\n",
      "Typical       Typical       True\n",
      "Typical       Typical       True\n",
      "Typical       Typical       True\n",
      "Typical       Typical       True\n",
      "Typical       Typical       True\n",
      "Typical       Typical       True\n",
      "Atypical       Typical       False\n",
      "Typical       Typical       True\n",
      "Typical       Typical       True\n",
      "Typical       Typical       True\n",
      "Typical       Typical       True\n",
      "Atypical       Atypical       True\n",
      "Typical       Typical       True\n",
      "Typical       Typical       True\n",
      "Typical       Typical       True\n",
      "Typical       Typical       True\n",
      "Typical       Typical       True\n",
      "Atypical       Atypical       True\n",
      "Atypical       Typical       False\n",
      "Atypical       Atypical       True\n",
      "Atypical       Typical       False\n",
      "Typical       Typical       True\n",
      "Atypical       Typical       False\n",
      "Typical       Typical       True\n",
      "Atypical       Typical       False\n",
      "Atypical       Typical       False\n",
      "Typical       Typical       True\n",
      "Typical       Typical       True\n",
      "Typical       Typical       True\n",
      "Atypical       Atypical       True\n",
      "Atypical       Atypical       True\n",
      "Typical       Typical       True\n",
      "Typical       Typical       True\n",
      "Typical       Typical       True\n",
      "Matched =  215\n",
      "Not Matched =  23\n"
     ]
    }
   ],
   "source": [
    "predict = reconstructed_model.predict_classes(X_test)\n",
    "prediction_class = labelencoder.inverse_transform(predict)\n",
    "#real_class = labelencoder.inverse_transform(y_test)\n",
    "#prediction_class\n",
    "x, y = zip(*test)\n",
    "y\n",
    "match = 0\n",
    "print('  Real       Prediction       Match')\n",
    "for i in range(0,X_test.shape[0]):\n",
    "    if(y[i]==prediction_class[i]):\n",
    "        match+=1\n",
    "    print(y[i] + '       ' + prediction_class[i] + '       ' + str(y[i]==prediction_class[i]))\n",
    "print('Matched = ', match)\n",
    "print('Not Matched = ',(X_test.shape[0] - match))"
   ]
  },
  {
   "cell_type": "code",
   "execution_count": null,
   "id": "e6c3804d",
   "metadata": {},
   "outputs": [],
   "source": []
  }
 ],
 "metadata": {
  "kernelspec": {
   "display_name": "Python 3",
   "language": "python",
   "name": "python3"
  },
  "language_info": {
   "codemirror_mode": {
    "name": "ipython",
    "version": 3
   },
   "file_extension": ".py",
   "mimetype": "text/x-python",
   "name": "python",
   "nbconvert_exporter": "python",
   "pygments_lexer": "ipython3",
   "version": "3.8.8"
  }
 },
 "nbformat": 4,
 "nbformat_minor": 5
}
