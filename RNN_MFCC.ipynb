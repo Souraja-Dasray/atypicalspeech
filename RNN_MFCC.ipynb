{
 "cells": [
  {
   "cell_type": "code",
   "execution_count": 1,
   "id": "af816edf",
   "metadata": {},
   "outputs": [],
   "source": [
    "import keras\n",
    "from keras.layers import Activation, Dense, Dropout, Conv2D, \\\n",
    "                         Flatten, MaxPooling2D\n",
    "from keras.models import Sequential\n",
    "import librosa\n",
    "import librosa.display\n",
    "import numpy as np\n",
    "import pandas as pd\n",
    "import random\n",
    "\n",
    "import warnings\n",
    "warnings.filterwarnings('ignore')"
   ]
  },
  {
   "cell_type": "code",
   "execution_count": 2,
   "id": "d89df93a",
   "metadata": {},
   "outputs": [
    {
     "data": {
      "text/plain": [
       "(128, 216)"
      ]
     },
     "execution_count": 2,
     "metadata": {},
     "output_type": "execute_result"
    }
   ],
   "source": [
    "file_name = 'F01/Session1/wav_arrayMic/0001.wav'\n",
    "y, sr = librosa.load(file_name, duration=5.0)\n",
    "ps = librosa.feature.mfcc(y=y, sr=sr, n_mfcc=128)\n",
    "ps.shape"
   ]
  },
  {
   "cell_type": "code",
   "execution_count": 3,
   "id": "4b609935",
   "metadata": {},
   "outputs": [
    {
     "name": "stderr",
     "output_type": "stream",
     "text": [
      "  1%|          | 1/134 [00:00<00:14,  9.37it/s]"
     ]
    },
    {
     "name": "stdout",
     "output_type": "stream",
     "text": [
      "F01\n"
     ]
    },
    {
     "name": "stderr",
     "output_type": "stream",
     "text": [
      "100%|██████████| 134/134 [00:07<00:00, 17.33it/s]\n",
      "  0%|          | 1/204 [00:00<00:20,  9.97it/s]"
     ]
    },
    {
     "name": "stdout",
     "output_type": "stream",
     "text": [
      "F03\n"
     ]
    },
    {
     "name": "stderr",
     "output_type": "stream",
     "text": [
      "100%|██████████| 204/204 [00:10<00:00, 20.25it/s]\n",
      "100%|██████████| 435/435 [00:22<00:00, 19.30it/s]\n",
      "100%|██████████| 209/209 [00:12<00:00, 16.11it/s]\n",
      "  1%|          | 1/199 [00:00<00:19,  9.98it/s]"
     ]
    },
    {
     "name": "stdout",
     "output_type": "stream",
     "text": [
      "F04\n"
     ]
    },
    {
     "name": "stderr",
     "output_type": "stream",
     "text": [
      "100%|██████████| 199/199 [00:10<00:00, 19.16it/s]\n",
      "100%|██████████| 249/249 [00:19<00:00, 12.67it/s]\n",
      "  0%|          | 1/256 [00:00<00:27,  9.36it/s]"
     ]
    },
    {
     "name": "stdout",
     "output_type": "stream",
     "text": [
      "FC01\n"
     ]
    },
    {
     "name": "stderr",
     "output_type": "stream",
     "text": [
      "100%|██████████| 256/256 [00:19<00:00, 12.82it/s]\n",
      "  0%|          | 1/269 [00:00<00:31,  8.64it/s]"
     ]
    },
    {
     "name": "stdout",
     "output_type": "stream",
     "text": [
      "FC02\n"
     ]
    },
    {
     "name": "stderr",
     "output_type": "stream",
     "text": [
      "100%|██████████| 269/269 [00:21<00:00, 12.74it/s]\n",
      "100%|██████████| 992/992 [01:05<00:00, 15.11it/s]\n",
      "  0%|          | 1/400 [00:00<00:46,  8.62it/s]"
     ]
    },
    {
     "name": "stdout",
     "output_type": "stream",
     "text": [
      "FC03\n"
     ]
    },
    {
     "name": "stderr",
     "output_type": "stream",
     "text": [
      "100%|██████████| 400/400 [00:26<00:00, 14.93it/s]\n",
      "100%|██████████| 387/387 [00:23<00:00, 16.69it/s]\n",
      "100%|██████████| 208/208 [00:10<00:00, 19.19it/s]\n",
      "  0%|          | 0/100 [00:00<?, ?it/s]"
     ]
    },
    {
     "name": "stdout",
     "output_type": "stream",
     "text": [
      "M01\n"
     ]
    },
    {
     "name": "stderr",
     "output_type": "stream",
     "text": [
      "100%|██████████| 100/100 [00:08<00:00, 11.12it/s]\n",
      "100%|██████████| 286/286 [00:19<00:00, 14.42it/s]\n",
      "  0%|          | 1/240 [00:00<00:27,  8.65it/s]"
     ]
    },
    {
     "name": "stdout",
     "output_type": "stream",
     "text": [
      "M02\n"
     ]
    },
    {
     "name": "stderr",
     "output_type": "stream",
     "text": [
      "100%|██████████| 240/240 [00:13<00:00, 17.35it/s]\n",
      "100%|██████████| 160/160 [00:12<00:00, 12.49it/s]\n",
      "  0%|          | 1/416 [00:00<00:41,  9.98it/s]"
     ]
    },
    {
     "name": "stdout",
     "output_type": "stream",
     "text": [
      "M03\n"
     ]
    },
    {
     "name": "stderr",
     "output_type": "stream",
     "text": [
      "100%|██████████| 416/416 [00:31<00:00, 13.27it/s]\n",
      "  2%|▏         | 2/126 [00:00<00:12,  9.96it/s]"
     ]
    },
    {
     "name": "stdout",
     "output_type": "stream",
     "text": [
      "M04\n"
     ]
    },
    {
     "name": "stderr",
     "output_type": "stream",
     "text": [
      "100%|██████████| 126/126 [00:08<00:00, 14.17it/s]\n",
      "100%|██████████| 295/295 [00:19<00:00, 15.19it/s]\n",
      "  1%|          | 1/128 [00:00<00:14,  8.63it/s]"
     ]
    },
    {
     "name": "stdout",
     "output_type": "stream",
     "text": [
      "M05\n"
     ]
    },
    {
     "name": "stderr",
     "output_type": "stream",
     "text": [
      "100%|██████████| 128/128 [00:09<00:00, 13.23it/s]\n",
      "  0%|          | 1/329 [00:00<00:32,  9.97it/s]"
     ]
    },
    {
     "name": "stdout",
     "output_type": "stream",
     "text": [
      "MC01\n"
     ]
    },
    {
     "name": "stderr",
     "output_type": "stream",
     "text": [
      "100%|██████████| 329/329 [00:27<00:00, 12.14it/s]\n",
      "100%|██████████| 360/360 [00:21<00:00, 16.72it/s]\n",
      "100%|██████████| 419/419 [00:29<00:00, 14.04it/s]\n",
      "  0%|          | 1/388 [00:00<00:38,  9.96it/s]"
     ]
    },
    {
     "name": "stdout",
     "output_type": "stream",
     "text": [
      "MC02\n"
     ]
    },
    {
     "name": "stderr",
     "output_type": "stream",
     "text": [
      "100%|██████████| 388/388 [00:31<00:00, 12.31it/s]\n",
      "100%|██████████| 307/307 [00:25<00:00, 11.94it/s]\n",
      "  0%|          | 1/600 [00:00<01:09,  8.63it/s]"
     ]
    },
    {
     "name": "stdout",
     "output_type": "stream",
     "text": [
      "MC03\n"
     ]
    },
    {
     "name": "stderr",
     "output_type": "stream",
     "text": [
      "100%|██████████| 600/600 [00:31<00:00, 18.99it/s]\n",
      "100%|██████████| 300/300 [00:14<00:00, 21.27it/s]\n",
      "  0%|          | 1/648 [00:00<01:10,  9.24it/s]"
     ]
    },
    {
     "name": "stdout",
     "output_type": "stream",
     "text": [
      "MC04\n"
     ]
    },
    {
     "name": "stderr",
     "output_type": "stream",
     "text": [
      "100%|██████████| 648/648 [00:32<00:00, 20.13it/s]\n",
      "100%|██████████| 373/373 [00:16<00:00, 22.25it/s]\n"
     ]
    }
   ],
   "source": [
    "import os\n",
    "import json\n",
    "import numpy as np\n",
    "from tqdm import tqdm\n",
    "\n",
    "# Dataset\n",
    "D_mfcc = []\n",
    "data = {\n",
    "        \"mfcc\": [],\n",
    "        \"label\": []\n",
    "       }\n",
    "\n",
    "directories =[  \n",
    "                 ['f01','Atypical'],['f02','Atypical'],['f03','Atypical'],['f04','Atypical'],['f05','Atypical'],\n",
    "                 ['f06','Atypical'],['f07','Atypical'],['f08','Atypical'],['f09','Atypical'],['f10','Aypical'],\n",
    "                 ['f11','Atypical'],\n",
    "    \n",
    "                 ['fc01','Typical'],['fc02','Typical'],['fc03','Typical'],['fc04','Typical'],['fc05','Typical'],\n",
    "                 ['fc06','Typical'],['fc07','Typical'],['fc08','Typical'],['fc09','Typical'],['fc10','Typical'],\n",
    "    \n",
    "                 ['m01','Atypical'],['m02','Atypical'],['m03','Atypical'],['m04','Atypical'],['m05','Atypical'],\n",
    "                 ['m06','Atypical'],['m07','Atypical'],['m08','Atypical'],['m09','Atypical'],['m10','Atypical'],\n",
    "                 ['m11','Atypical'],['m12','Atypical'],['m13','Atypical'],['m14','Atypical'],['m15','Atypical'],\n",
    "                 ['m16','Atypical'],['m17','Atypical'],['m18','Atypical'],['m19','Atypical'],['m20','Atypical'],\n",
    "    \n",
    "                 ['mc01','Typical'],['mc02','Typical'],['mc03','Typical'],['mc04','Typical'],['mc05','Typical'],\n",
    "                 ['mc06','Typical'],['mc07','Typical'],['mc08','Typical'],['mc09','Typical'],['mc10','Typical'],\n",
    "                 ['mc11','Typical'],['mc12','Typical'],['mc13','Typical'],['mc14','Typical']\n",
    "             ]\n",
    "\n",
    "for pair in directories:\n",
    "    directory = pair[0]\n",
    "    label = pair[1]\n",
    "    print(directory)\n",
    "    for filename in os.listdir(directory):\n",
    "        if filename != 'Notes':\n",
    "            file = os.path.join(directory, filename)\n",
    "            file = os.path.join(file, 'wav_arrayMic')\n",
    "            if os.path.isdir(file):\n",
    "                for audiofile in tqdm(os.listdir(file)):\n",
    "                    f = os.path.join(file, audiofile)\n",
    "                    if os.path.isfile(f):\n",
    "                        if librosa.get_duration(filename=f) != 0:\n",
    "                            y, sr = librosa.load(f, duration=5.0)\n",
    "                            mfcc = librosa.feature.mfcc(y=y, sr=sr, n_mfcc=128)\n",
    "                            if mfcc.shape == (128, 216): \n",
    "                                D_mfcc.append( (mfcc, label) )\n",
    "                                data[\"mfcc\"].append(mfcc.tolist())\n",
    "                                data[\"label\"].append(label)"
   ]
  },
  {
   "cell_type": "code",
   "execution_count": 4,
   "id": "75b4cdde",
   "metadata": {},
   "outputs": [],
   "source": [
    "with open('MFCC_DATA.json', \"w\") as fp:\n",
    "        json.dump(data, fp, indent=4)"
   ]
  },
  {
   "cell_type": "code",
   "execution_count": 7,
   "id": "939d4aaf",
   "metadata": {},
   "outputs": [],
   "source": [
    "with open('MFCC_DATA.json', \"r\") as f:\n",
    "    data = json.load(f)\n",
    "\n",
    "X = np.array(data[\"mfcc\"])\n",
    "y = np.array(data[\"label\"])\n",
    "D = np.array(data)\n"
   ]
  },
  {
   "cell_type": "code",
   "execution_count": 13,
   "id": "35c77ff0",
   "metadata": {},
   "outputs": [],
   "source": [
    "X = np.array((X-np.min(X))/(np.max(X)-np.min(X)))\n",
    "X = X/np.std(X)\n",
    "y = np.array(y)"
   ]
  },
  {
   "cell_type": "code",
   "execution_count": 33,
   "id": "8d33d0a4",
   "metadata": {},
   "outputs": [
    {
     "data": {
      "text/plain": [
       "((800, 128, 216), (54, 128, 216), (150, 128, 216), 800, 54, 150)"
      ]
     },
     "execution_count": 33,
     "metadata": {},
     "output_type": "execute_result"
    }
   ],
   "source": [
    "from sklearn.model_selection import train_test_split\n",
    "from sklearn.preprocessing import normalize\n",
    "\n",
    "#Split twice to get the validation set\n",
    "X_train, X_test, y_train, y_test = train_test_split(X, y, test_size=0.053, random_state=123, stratify=y)\n",
    "X_train, X_validate, y_train, y_validate = train_test_split(X_train, y_train, test_size=0.157, random_state=123)\n",
    "#Print the shapes\n",
    "X_train.shape, X_test.shape, X_validate.shape, len(y_train), len(y_test), len(y_validate)"
   ]
  },
  {
   "cell_type": "code",
   "execution_count": 36,
   "id": "4b165c0c",
   "metadata": {},
   "outputs": [],
   "source": [
    "Y = y_test"
   ]
  },
  {
   "cell_type": "code",
   "execution_count": 37,
   "id": "05c8dd12",
   "metadata": {},
   "outputs": [],
   "source": [
    "from tensorflow.keras.utils import to_categorical\n",
    "from sklearn.preprocessing import LabelEncoder\n",
    "labelencoder=LabelEncoder()\n",
    "#y=to_categorical(labelencoder.fit_transform(y))\n",
    "#y\n",
    "y_train = np.array(to_categorical(labelencoder.fit_transform(y_train)))\n",
    "y_validate = np.array(to_categorical(labelencoder.fit_transform(y_validate)))\n",
    "y_test = np.array(to_categorical(labelencoder.fit_transform(y_test)))"
   ]
  },
  {
   "cell_type": "code",
   "execution_count": 38,
   "id": "f2ce0f79",
   "metadata": {},
   "outputs": [
    {
     "data": {
      "text/plain": [
       "((800, 128, 216), (150, 128, 216), (54, 128, 216), (800, 2), (150, 2), (54, 2))"
      ]
     },
     "execution_count": 38,
     "metadata": {},
     "output_type": "execute_result"
    }
   ],
   "source": [
    "X_train.shape, X_validate.shape, X_test.shape, y_train.shape, y_validate.shape, y_test.shape"
   ]
  },
  {
   "cell_type": "code",
   "execution_count": 39,
   "id": "1d133a8c",
   "metadata": {},
   "outputs": [
    {
     "name": "stdout",
     "output_type": "stream",
     "text": [
      "Model: \"sequential_1\"\n",
      "_________________________________________________________________\n",
      "Layer (type)                 Output Shape              Param #   \n",
      "=================================================================\n",
      "lstm_1 (LSTM)                (None, 128)               176640    \n",
      "_________________________________________________________________\n",
      "module_wrapper_3 (ModuleWrap (None, 128)               0         \n",
      "_________________________________________________________________\n",
      "dense_4 (Dense)              (None, 128)               16512     \n",
      "_________________________________________________________________\n",
      "dense_5 (Dense)              (None, 64)                8256      \n",
      "_________________________________________________________________\n",
      "module_wrapper_4 (ModuleWrap (None, 64)                0         \n",
      "_________________________________________________________________\n",
      "dense_6 (Dense)              (None, 48)                3120      \n",
      "_________________________________________________________________\n",
      "module_wrapper_5 (ModuleWrap (None, 48)                0         \n",
      "_________________________________________________________________\n",
      "dense_7 (Dense)              (None, 2)                 98        \n",
      "=================================================================\n",
      "Total params: 204,626\n",
      "Trainable params: 204,626\n",
      "Non-trainable params: 0\n",
      "_________________________________________________________________\n"
     ]
    }
   ],
   "source": [
    "import tensorflow.keras as keras\n",
    "from keras.layers import Activation, Dense, Dropout, Conv2D, \\\n",
    "                         Flatten, MaxPooling2D\n",
    "from tensorflow.keras.layers import LSTM, Dense\n",
    "\n",
    "input_shape = (X_train.shape[1], X_train.shape[2])\n",
    "model = keras.Sequential()\n",
    "model.add(LSTM(128,input_shape=input_shape))\n",
    "model.add(Dropout(0.2))\n",
    "model.add(Dense(128, activation='relu'))\n",
    "model.add(Dense(64, activation='relu'))\n",
    "model.add(Dropout(0.4))\n",
    "model.add(Dense(48, activation='relu'))\n",
    "model.add(Dropout(0.4))\n",
    "model.add(Dense(2, activation='softmax'))\n",
    "model.summary()"
   ]
  },
  {
   "cell_type": "code",
   "execution_count": 40,
   "id": "450bab3c",
   "metadata": {},
   "outputs": [
    {
     "name": "stdout",
     "output_type": "stream",
     "text": [
      "Epoch 1/50\n",
      "25/25 [==============================] - 5s 99ms/step - loss: 0.7120 - accuracy: 0.5013 - val_loss: 0.7146 - val_accuracy: 0.4067\n",
      "Epoch 2/50\n",
      "25/25 [==============================] - 2s 80ms/step - loss: 0.7110 - accuracy: 0.4638 - val_loss: 0.7035 - val_accuracy: 0.4067\n",
      "Epoch 3/50\n",
      "25/25 [==============================] - 2s 78ms/step - loss: 0.6939 - accuracy: 0.5200 - val_loss: 0.7104 - val_accuracy: 0.4067\n",
      "Epoch 4/50\n",
      "25/25 [==============================] - 2s 76ms/step - loss: 0.6982 - accuracy: 0.4988 - val_loss: 0.6915 - val_accuracy: 0.5933\n",
      "Epoch 5/50\n",
      "25/25 [==============================] - ETA: 0s - loss: 0.6984 - accuracy: 0.47 - 2s 76ms/step - loss: 0.6984 - accuracy: 0.4762 - val_loss: 0.6975 - val_accuracy: 0.4067\n",
      "Epoch 6/50\n",
      "25/25 [==============================] - 2s 76ms/step - loss: 0.6941 - accuracy: 0.4963 - val_loss: 0.7010 - val_accuracy: 0.4067\n",
      "Epoch 7/50\n",
      "25/25 [==============================] - 2s 81ms/step - loss: 0.6930 - accuracy: 0.5113 - val_loss: 0.6970 - val_accuracy: 0.4067\n",
      "Epoch 8/50\n",
      "25/25 [==============================] - 3s 106ms/step - loss: 0.6955 - accuracy: 0.4950 - val_loss: 0.6926 - val_accuracy: 0.5933\n",
      "Epoch 9/50\n",
      "25/25 [==============================] - 3s 107ms/step - loss: 0.6967 - accuracy: 0.5263 - val_loss: 0.6991 - val_accuracy: 0.4067\n",
      "Epoch 10/50\n",
      "25/25 [==============================] - 3s 116ms/step - loss: 0.6984 - accuracy: 0.4850 - val_loss: 0.6985 - val_accuracy: 0.4067\n",
      "Epoch 11/50\n",
      "25/25 [==============================] - 3s 106ms/step - loss: 0.6956 - accuracy: 0.5025 - val_loss: 0.6990 - val_accuracy: 0.4067\n",
      "Epoch 12/50\n",
      "25/25 [==============================] - 3s 104ms/step - loss: 0.6944 - accuracy: 0.5038 - val_loss: 0.6959 - val_accuracy: 0.4067\n",
      "Epoch 13/50\n",
      "25/25 [==============================] - 3s 104ms/step - loss: 0.6945 - accuracy: 0.5063 - val_loss: 0.6983 - val_accuracy: 0.4067\n",
      "Epoch 14/50\n",
      "25/25 [==============================] - 3s 104ms/step - loss: 0.6956 - accuracy: 0.4988 - val_loss: 0.7015 - val_accuracy: 0.4067\n",
      "Epoch 15/50\n",
      "25/25 [==============================] - 3s 104ms/step - loss: 0.6962 - accuracy: 0.4837 - val_loss: 0.6948 - val_accuracy: 0.4067\n",
      "Epoch 16/50\n",
      "25/25 [==============================] - 3s 112ms/step - loss: 0.6952 - accuracy: 0.5000 - val_loss: 0.7051 - val_accuracy: 0.4067\n",
      "Epoch 17/50\n",
      "25/25 [==============================] - 3s 108ms/step - loss: 0.6965 - accuracy: 0.4837 - val_loss: 0.6971 - val_accuracy: 0.4067\n",
      "Epoch 18/50\n",
      "25/25 [==============================] - 3s 104ms/step - loss: 0.6909 - accuracy: 0.5412 - val_loss: 0.6945 - val_accuracy: 0.4067\n",
      "Epoch 19/50\n",
      "25/25 [==============================] - 3s 110ms/step - loss: 0.6972 - accuracy: 0.4800 - val_loss: 0.7020 - val_accuracy: 0.4067\n",
      "Epoch 20/50\n",
      "25/25 [==============================] - 3s 106ms/step - loss: 0.6937 - accuracy: 0.4988 - val_loss: 0.7012 - val_accuracy: 0.4067\n",
      "Epoch 21/50\n",
      "25/25 [==============================] - 3s 105ms/step - loss: 0.6947 - accuracy: 0.5088 - val_loss: 0.6957 - val_accuracy: 0.4067\n",
      "Epoch 22/50\n",
      "25/25 [==============================] - 3s 112ms/step - loss: 0.6945 - accuracy: 0.4975 - val_loss: 0.6931 - val_accuracy: 0.5933\n",
      "Epoch 23/50\n",
      "25/25 [==============================] - 3s 104ms/step - loss: 0.6936 - accuracy: 0.4963 - val_loss: 0.6956 - val_accuracy: 0.4067\n",
      "Epoch 24/50\n",
      "25/25 [==============================] - 3s 104ms/step - loss: 0.6944 - accuracy: 0.5063 - val_loss: 0.6947 - val_accuracy: 0.4067\n",
      "Epoch 25/50\n",
      "25/25 [==============================] - 3s 104ms/step - loss: 0.6946 - accuracy: 0.4988 - val_loss: 0.6936 - val_accuracy: 0.4067\n",
      "Epoch 26/50\n",
      "25/25 [==============================] - 3s 105ms/step - loss: 0.6944 - accuracy: 0.4938 - val_loss: 0.6986 - val_accuracy: 0.4067\n",
      "Epoch 27/50\n",
      "25/25 [==============================] - 3s 105ms/step - loss: 0.6940 - accuracy: 0.4925 - val_loss: 0.6949 - val_accuracy: 0.4067\n",
      "Epoch 28/50\n",
      "25/25 [==============================] - 3s 111ms/step - loss: 0.6939 - accuracy: 0.4963 - val_loss: 0.6954 - val_accuracy: 0.4067\n",
      "Epoch 29/50\n",
      "25/25 [==============================] - 3s 105ms/step - loss: 0.6931 - accuracy: 0.5000 - val_loss: 0.6961 - val_accuracy: 0.4067\n",
      "Epoch 30/50\n",
      "25/25 [==============================] - 3s 104ms/step - loss: 0.6934 - accuracy: 0.5000 - val_loss: 0.6952 - val_accuracy: 0.4067\n",
      "Epoch 31/50\n",
      "25/25 [==============================] - 3s 104ms/step - loss: 0.6929 - accuracy: 0.5113 - val_loss: 0.6954 - val_accuracy: 0.4067\n",
      "Epoch 32/50\n",
      "25/25 [==============================] - 3s 104ms/step - loss: 0.6932 - accuracy: 0.5075 - val_loss: 0.6955 - val_accuracy: 0.4067\n",
      "Epoch 33/50\n",
      "25/25 [==============================] - 3s 103ms/step - loss: 0.6943 - accuracy: 0.4938 - val_loss: 0.6963 - val_accuracy: 0.4067\n",
      "Epoch 34/50\n",
      "25/25 [==============================] - 3s 111ms/step - loss: 0.6931 - accuracy: 0.5125 - val_loss: 0.6961 - val_accuracy: 0.4067\n",
      "Epoch 35/50\n",
      "25/25 [==============================] - 3s 104ms/step - loss: 0.6939 - accuracy: 0.4950 - val_loss: 0.6959 - val_accuracy: 0.4067\n",
      "Epoch 36/50\n",
      "25/25 [==============================] - 3s 104ms/step - loss: 0.6931 - accuracy: 0.5038 - val_loss: 0.6957 - val_accuracy: 0.4067\n",
      "Epoch 37/50\n",
      "25/25 [==============================] - 3s 104ms/step - loss: 0.6935 - accuracy: 0.5050 - val_loss: 0.6951 - val_accuracy: 0.4067\n",
      "Epoch 38/50\n",
      "25/25 [==============================] - 3s 106ms/step - loss: 0.6936 - accuracy: 0.5063 - val_loss: 0.6948 - val_accuracy: 0.4067\n",
      "Epoch 39/50\n",
      "25/25 [==============================] - 3s 104ms/step - loss: 0.6938 - accuracy: 0.4963 - val_loss: 0.6954 - val_accuracy: 0.4067\n",
      "Epoch 40/50\n",
      "25/25 [==============================] - 3s 110ms/step - loss: 0.6934 - accuracy: 0.5063 - val_loss: 0.6954 - val_accuracy: 0.4067\n",
      "Epoch 41/50\n",
      "25/25 [==============================] - 3s 104ms/step - loss: 0.6938 - accuracy: 0.5138 - val_loss: 0.6933 - val_accuracy: 0.4067\n",
      "Epoch 42/50\n",
      "25/25 [==============================] - 3s 103ms/step - loss: 0.6933 - accuracy: 0.4938 - val_loss: 0.6923 - val_accuracy: 0.5933\n",
      "Epoch 43/50\n",
      "25/25 [==============================] - 3s 104ms/step - loss: 0.6929 - accuracy: 0.4975 - val_loss: 0.6980 - val_accuracy: 0.4067\n",
      "Epoch 44/50\n",
      "25/25 [==============================] - 3s 103ms/step - loss: 0.6943 - accuracy: 0.4888 - val_loss: 0.6976 - val_accuracy: 0.4067\n",
      "Epoch 45/50\n",
      "25/25 [==============================] - 3s 104ms/step - loss: 0.6956 - accuracy: 0.4875 - val_loss: 0.7002 - val_accuracy: 0.4067\n",
      "Epoch 46/50\n",
      "25/25 [==============================] - 3s 109ms/step - loss: 0.6936 - accuracy: 0.5038 - val_loss: 0.6975 - val_accuracy: 0.4067\n",
      "Epoch 47/50\n",
      "25/25 [==============================] - 3s 107ms/step - loss: 0.6950 - accuracy: 0.4963 - val_loss: 0.6894 - val_accuracy: 0.5933\n",
      "Epoch 48/50\n",
      "25/25 [==============================] - 3s 111ms/step - loss: 0.6962 - accuracy: 0.4988 - val_loss: 0.6966 - val_accuracy: 0.4067\n",
      "Epoch 49/50\n",
      "25/25 [==============================] - 3s 104ms/step - loss: 0.6945 - accuracy: 0.4925 - val_loss: 0.6972 - val_accuracy: 0.4067\n",
      "Epoch 50/50\n",
      "25/25 [==============================] - 3s 103ms/step - loss: 0.6936 - accuracy: 0.5150 - val_loss: 0.6960 - val_accuracy: 0.4067\n",
      "2/2 [==============================] - 0s 31ms/step - loss: 0.6932 - accuracy: 0.5000\n",
      "Test loss: 0.6932181119918823\n",
      "Test accuracy: 0.5\n"
     ]
    }
   ],
   "source": [
    "model.compile(\n",
    "\toptimizer=\"Adam\",\n",
    "\tloss=\"categorical_crossentropy\",\n",
    "\tmetrics=['accuracy'])\n",
    "\n",
    "model.fit(\n",
    "\tx=X_train, \n",
    "\ty=y_train,\n",
    "    epochs=50,\n",
    "    batch_size=32,\n",
    "    validation_data= (X_validate, y_validate))\n",
    "\n",
    "score = model.evaluate(\n",
    "\tx=X_test,\n",
    "\ty=y_test)\n",
    "\n",
    "print('Test loss:', score[0])\n",
    "print('Test accuracy:', score[1])"
   ]
  },
  {
   "cell_type": "code",
   "execution_count": 41,
   "id": "dcd4757e",
   "metadata": {},
   "outputs": [
    {
     "name": "stdout",
     "output_type": "stream",
     "text": [
      "  Real       Prediction       Match\n",
      "Typical       Typical       True\n",
      "Typical       Typical       True\n",
      "Typical       Typical       True\n",
      "Atypical       Typical       False\n",
      "Typical       Typical       True\n",
      "Atypical       Typical       False\n",
      "Atypical       Typical       False\n",
      "Atypical       Typical       False\n",
      "Typical       Typical       True\n",
      "Atypical       Typical       False\n",
      "Typical       Typical       True\n",
      "Typical       Typical       True\n",
      "Atypical       Typical       False\n",
      "Atypical       Typical       False\n",
      "Atypical       Typical       False\n",
      "Typical       Typical       True\n",
      "Atypical       Typical       False\n",
      "Typical       Typical       True\n",
      "Typical       Typical       True\n",
      "Atypical       Typical       False\n",
      "Typical       Typical       True\n",
      "Atypical       Typical       False\n",
      "Typical       Typical       True\n",
      "Atypical       Typical       False\n",
      "Typical       Typical       True\n",
      "Typical       Typical       True\n",
      "Typical       Typical       True\n",
      "Atypical       Typical       False\n",
      "Atypical       Typical       False\n",
      "Typical       Typical       True\n",
      "Typical       Typical       True\n",
      "Atypical       Typical       False\n",
      "Atypical       Typical       False\n",
      "Typical       Typical       True\n",
      "Atypical       Typical       False\n",
      "Atypical       Typical       False\n",
      "Atypical       Typical       False\n",
      "Atypical       Typical       False\n",
      "Typical       Typical       True\n",
      "Typical       Typical       True\n",
      "Typical       Typical       True\n",
      "Atypical       Typical       False\n",
      "Typical       Typical       True\n",
      "Atypical       Typical       False\n",
      "Typical       Typical       True\n",
      "Atypical       Typical       False\n",
      "Atypical       Typical       False\n",
      "Typical       Typical       True\n",
      "Atypical       Typical       False\n",
      "Atypical       Typical       False\n",
      "Typical       Typical       True\n",
      "Typical       Typical       True\n",
      "Typical       Typical       True\n",
      "Atypical       Typical       False\n",
      "Matched =  27\n",
      "Not Matched =  27\n"
     ]
    }
   ],
   "source": [
    "predict = model.predict_classes(X_test)\n",
    "prediction_class = labelencoder.inverse_transform(predict)\n",
    "#real_class = labelencoder.inverse_transform(y_test)\n",
    "#prediction_class\n",
    "\n",
    "y = Y\n",
    "match = 0\n",
    "print('  Real       Prediction       Match')\n",
    "for i in range(0,X_test.shape[0]):\n",
    "    if(y[i]==prediction_class[i]):\n",
    "        match+=1\n",
    "    print(y[i] + '       ' + prediction_class[i] + '       ' + str(y[i]==prediction_class[i]))\n",
    "print('Matched = ', match)\n",
    "print('Not Matched = ',(X_test.shape[0] - match))"
   ]
  },
  {
   "cell_type": "code",
   "execution_count": null,
   "id": "8c5c0083",
   "metadata": {},
   "outputs": [],
   "source": []
  }
 ],
 "metadata": {
  "kernelspec": {
   "display_name": "Python 3",
   "language": "python",
   "name": "python3"
  },
  "language_info": {
   "codemirror_mode": {
    "name": "ipython",
    "version": 3
   },
   "file_extension": ".py",
   "mimetype": "text/x-python",
   "name": "python",
   "nbconvert_exporter": "python",
   "pygments_lexer": "ipython3",
   "version": "3.8.8"
  }
 },
 "nbformat": 4,
 "nbformat_minor": 5
}
