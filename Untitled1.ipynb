{
 "cells": [
  {
   "cell_type": "code",
   "execution_count": 1,
   "id": "5ea40ed0",
   "metadata": {},
   "outputs": [],
   "source": [
    "import keras\n",
    "from keras.layers import Activation, Dense, Dropout, Conv2D, \\\n",
    "                         Flatten, MaxPooling2D\n",
    "from keras.models import Sequential\n",
    "import librosa\n",
    "import librosa.display\n",
    "import numpy as np\n",
    "import pandas as pd\n",
    "import random\n",
    "\n",
    "import warnings\n",
    "warnings.filterwarnings('ignore')"
   ]
  },
  {
   "cell_type": "code",
   "execution_count": 2,
   "id": "f01fa06c",
   "metadata": {},
   "outputs": [],
   "source": [
    "file_name = 'F01/Session1/wav_arrayMic/0001.wav'\n",
    "y, sr = librosa.load(file_name)\n",
    "ps = librosa.feature.melspectrogram(y=y, sr=sr)"
   ]
  },
  {
   "cell_type": "code",
   "execution_count": 3,
   "id": "85efda30",
   "metadata": {},
   "outputs": [
    {
     "data": {
      "text/plain": [
       "<matplotlib.collections.QuadMesh at 0x23bee3ad820>"
      ]
     },
     "execution_count": 3,
     "metadata": {},
     "output_type": "execute_result"
    },
    {
     "data": {
      "image/png": "[encoded data removed]",
      "text/plain": [
       "<Figure size 432x288 with 1 Axes>"
      ]
     },
     "metadata": {
      "needs_background": "light"
     },
     "output_type": "display_data"
    }
   ],
   "source": [
    "librosa.display.specshow(ps, y_axis='mel', x_axis='time')"
   ]
  },
  {
   "cell_type": "code",
   "execution_count": 7,
   "id": "82ea3914",
   "metadata": {},
   "outputs": [],
   "source": [
    "import soundfile as sf\n",
    "\n",
    "y, sr = librosa.load(file_name)\n",
    "y_changed = librosa.effects.time_stretch(y, rate=0.81)\n",
    "ps = librosa.feature.melspectrogram(y=y_changed, sr=sr)"
   ]
  },
  {
   "cell_type": "code",
   "execution_count": 8,
   "id": "402276fc",
   "metadata": {},
   "outputs": [
    {
     "data": {
      "text/plain": [
       "<matplotlib.collections.QuadMesh at 0x23b9e8f2730>"
      ]
     },
     "execution_count": 8,
     "metadata": {},
     "output_type": "execute_result"
    },
    {
     "data": {
      "image/png": "[encoded data removed]",
      "text/plain": [
       "<Figure size 432x288 with 1 Axes>"
      ]
     },
     "metadata": {
      "needs_background": "light"
     },
     "output_type": "display_data"
    }
   ],
   "source": [
    "librosa.display.specshow(ps, y_axis='mel', x_axis='time')"
   ]
  },
  {
   "cell_type": "code",
   "execution_count": 9,
   "id": "b3ced99b",
   "metadata": {},
   "outputs": [],
   "source": [
    "import numpy as np\n",
    "\n",
    "arr = np.random.randint(0, 10, (7, 4))\n",
    "\n",
    "def padding(array, xx, yy):\n",
    "    \"\"\"\n",
    "    :param array: numpy array\n",
    "    :param xx: desired height\n",
    "    :param yy: desirex width\n",
    "    :return: padded array\n",
    "    \"\"\"\n",
    "\n",
    "    h = array.shape[0]\n",
    "    w = array.shape[1]\n",
    "\n",
    "    a = (xx - h) // 2\n",
    "    aa = xx - a - h\n",
    "\n",
    "    b = (yy - w) // 2\n",
    "    bb = yy - b - w\n",
    "\n",
    "    return np.pad(array, pad_width=((a, aa), (b, bb)), mode='constant')"
   ]
  },
  {
   "cell_type": "code",
   "execution_count": 10,
   "id": "f7c0814f",
   "metadata": {},
   "outputs": [
    {
     "name": "stderr",
     "output_type": "stream",
     "text": [
      "\r",
      "  0%|          | 0/134 [00:00<?, ?it/s]"
     ]
    },
    {
     "name": "stdout",
     "output_type": "stream",
     "text": [
      "F01\n"
     ]
    },
    {
     "name": "stderr",
     "output_type": "stream",
     "text": [
      "100%|██████████| 134/134 [00:15<00:00,  8.58it/s]\n",
      "  0%|          | 0/204 [00:00<?, ?it/s]"
     ]
    },
    {
     "name": "stdout",
     "output_type": "stream",
     "text": [
      "F03\n"
     ]
    },
    {
     "name": "stderr",
     "output_type": "stream",
     "text": [
      "100%|██████████| 204/204 [00:20<00:00,  9.86it/s]\n",
      "100%|██████████| 435/435 [00:44<00:00,  9.74it/s]\n",
      "100%|██████████| 209/209 [00:26<00:00,  8.01it/s]\n",
      "  0%|          | 0/199 [00:00<?, ?it/s]"
     ]
    },
    {
     "name": "stdout",
     "output_type": "stream",
     "text": [
      "F04\n"
     ]
    },
    {
     "name": "stderr",
     "output_type": "stream",
     "text": [
      "100%|██████████| 199/199 [00:22<00:00,  8.75it/s]\n",
      "100%|██████████| 249/249 [00:40<00:00,  6.11it/s]\n",
      "  0%|          | 0/256 [00:00<?, ?it/s]"
     ]
    },
    {
     "name": "stdout",
     "output_type": "stream",
     "text": [
      "FC01\n"
     ]
    },
    {
     "name": "stderr",
     "output_type": "stream",
     "text": [
      "100%|██████████| 256/256 [00:42<00:00,  6.08it/s]\n",
      "  0%|          | 0/269 [00:00<?, ?it/s]"
     ]
    },
    {
     "name": "stdout",
     "output_type": "stream",
     "text": [
      "FC02\n"
     ]
    },
    {
     "name": "stderr",
     "output_type": "stream",
     "text": [
      "100%|██████████| 269/269 [00:42<00:00,  6.26it/s]\n",
      "100%|██████████| 992/992 [02:10<00:00,  7.58it/s]\n",
      "  0%|          | 0/400 [00:00<?, ?it/s]"
     ]
    },
    {
     "name": "stdout",
     "output_type": "stream",
     "text": [
      "FC03\n"
     ]
    },
    {
     "name": "stderr",
     "output_type": "stream",
     "text": [
      "100%|██████████| 400/400 [00:59<00:00,  6.71it/s]\n",
      "100%|██████████| 387/387 [00:50<00:00,  7.61it/s]\n",
      "100%|██████████| 208/208 [00:22<00:00,  9.23it/s]\n",
      "  0%|          | 0/100 [00:00<?, ?it/s]"
     ]
    },
    {
     "name": "stdout",
     "output_type": "stream",
     "text": [
      "M01\n"
     ]
    },
    {
     "name": "stderr",
     "output_type": "stream",
     "text": [
      "100%|██████████| 100/100 [00:22<00:00,  4.52it/s]\n",
      "100%|██████████| 286/286 [00:47<00:00,  6.03it/s]\n",
      "  0%|          | 0/240 [00:00<?, ?it/s]"
     ]
    },
    {
     "name": "stdout",
     "output_type": "stream",
     "text": [
      "M02\n"
     ]
    },
    {
     "name": "stderr",
     "output_type": "stream",
     "text": [
      "100%|██████████| 240/240 [00:32<00:00,  7.43it/s]\n",
      "100%|██████████| 160/160 [00:32<00:00,  4.95it/s]\n",
      "  0%|          | 0/416 [00:00<?, ?it/s]"
     ]
    },
    {
     "name": "stdout",
     "output_type": "stream",
     "text": [
      "M03\n"
     ]
    },
    {
     "name": "stderr",
     "output_type": "stream",
     "text": [
      "100%|██████████| 416/416 [01:12<00:00,  5.70it/s]\n",
      "  1%|          | 1/126 [00:00<00:22,  5.45it/s]"
     ]
    },
    {
     "name": "stdout",
     "output_type": "stream",
     "text": [
      "M04\n"
     ]
    },
    {
     "name": "stderr",
     "output_type": "stream",
     "text": [
      "100%|██████████| 126/126 [00:27<00:00,  4.56it/s]\n",
      "100%|██████████| 295/295 [00:57<00:00,  5.17it/s]\n",
      "  0%|          | 0/128 [00:00<?, ?it/s]"
     ]
    },
    {
     "name": "stdout",
     "output_type": "stream",
     "text": [
      "M05\n"
     ]
    },
    {
     "name": "stderr",
     "output_type": "stream",
     "text": [
      "100%|██████████| 128/128 [00:26<00:00,  4.76it/s]\n",
      "  0%|          | 1/329 [00:00<01:04,  5.05it/s]"
     ]
    },
    {
     "name": "stdout",
     "output_type": "stream",
     "text": [
      "MC01\n"
     ]
    },
    {
     "name": "stderr",
     "output_type": "stream",
     "text": [
      "100%|██████████| 329/329 [01:00<00:00,  5.42it/s]\n",
      "100%|██████████| 360/360 [00:49<00:00,  7.26it/s]\n",
      "100%|██████████| 419/419 [01:11<00:00,  5.82it/s]\n",
      "  0%|          | 0/388 [00:00<?, ?it/s]"
     ]
    },
    {
     "name": "stdout",
     "output_type": "stream",
     "text": [
      "MC02\n"
     ]
    },
    {
     "name": "stderr",
     "output_type": "stream",
     "text": [
      "100%|██████████| 388/388 [01:27<00:00,  4.45it/s]\n",
      "100%|██████████| 307/307 [01:11<00:00,  4.28it/s]\n",
      "  0%|          | 0/600 [00:00<?, ?it/s]"
     ]
    },
    {
     "name": "stdout",
     "output_type": "stream",
     "text": [
      "MC03\n"
     ]
    },
    {
     "name": "stderr",
     "output_type": "stream",
     "text": [
      "100%|██████████| 600/600 [01:31<00:00,  6.54it/s]\n",
      "100%|██████████| 300/300 [01:18<00:00,  3.84it/s]\n",
      "  0%|          | 0/648 [00:00<?, ?it/s]"
     ]
    },
    {
     "name": "stdout",
     "output_type": "stream",
     "text": [
      "MC04\n"
     ]
    },
    {
     "name": "stderr",
     "output_type": "stream",
     "text": [
      "100%|██████████| 648/648 [04:56<00:00,  2.18it/s]\n",
      "100%|██████████| 373/373 [02:25<00:00,  2.56it/s]\n"
     ]
    }
   ],
   "source": [
    "import os\n",
    "import numpy as np\n",
    "from tqdm import tqdm\n",
    "\n",
    "D = [] # Dataset\n",
    "data = {\n",
    "        \"spect\": [],\n",
    "        \"label\": []\n",
    "       }\n",
    "\n",
    "directories =[  \n",
    "                 ['F01','Atypical'],['F03','Atypical'],['F04','Atypical'],['FC01','Typical'],['FC02','Typical'],\n",
    "                 ['FC03','Typical'],['M01','Atypical'],['M02','Atypical'],['M03','Atypical'],['M04','Atypical'],\n",
    "                 ['M05','Atypical'],['MC01','Typical'],['MC02','Typical'],['MC03','Typical'],['MC04','Typical']\n",
    "             ]\n",
    "\n",
    "for pair in directories:\n",
    "    directory = pair[0]\n",
    "    label = pair[1]\n",
    "    print(directory)\n",
    "    for filename in os.listdir(directory):\n",
    "        if filename != 'Notes':\n",
    "            file = os.path.join(directory, filename)\n",
    "            file = os.path.join(file, 'wav_arrayMic')\n",
    "            if os.path.isdir(file):\n",
    "                for audiofile in tqdm(os.listdir(file)):\n",
    "                    f = os.path.join(file, audiofile)\n",
    "                    if os.path.isfile(f):\n",
    "                        if librosa.get_duration(filename=f) != 0:\n",
    "                            y, sr = librosa.load(f)\n",
    "                            \n",
    "                            y_changed = librosa.effects.time_stretch(y, rate=0.81)\n",
    "                            ps = librosa.feature.melspectrogram(y=y_changed, sr=sr)\n",
    "                            #ps = librosa.feature.melspectrogram(y=y, sr=sr)\n",
    "                            if ps.shape[1] > 400 : continue\n",
    "                            PS = ps\n",
    "                            data[\"spect\"].append(PS.tolist())\n",
    "                            data[\"label\"].append(label)\n",
    "                            D.append( (np.array(padding(ps,128,400)), label) )"
   ]
  },
  {
   "cell_type": "code",
   "execution_count": 11,
   "id": "e3d37a91",
   "metadata": {},
   "outputs": [
    {
     "name": "stdout",
     "output_type": "stream",
     "text": [
      "Number of samples:  9091\n"
     ]
    }
   ],
   "source": [
    "print(\"Number of samples: \", len(D))"
   ]
  },
  {
   "cell_type": "code",
   "execution_count": 12,
   "id": "d351bad4",
   "metadata": {},
   "outputs": [],
   "source": [
    "dataset = D\n",
    "random.shuffle(dataset)\n",
    "\n",
    "train = dataset[:8000]\n",
    "dataset = dataset[8000:]\n",
    "validate = dataset[:1000]\n",
    "test = dataset[1000:]\n",
    "\n",
    "X_train, y_train = zip(*train)\n",
    "X_validate, y_validate = zip(*validate)\n",
    "X_test, y_test = zip(*test)\n",
    "\n",
    "# Reshape for CNN input\n",
    "X_train = np.array([x.reshape( (128, 400, 1) ) for x in X_train])\n",
    "X_validate = np.array([x.reshape( (128, 400, 1) ) for x in X_validate])\n",
    "X_test = np.array([x.reshape( (128, 400, 1) ) for x in X_test])"
   ]
  },
  {
   "cell_type": "code",
   "execution_count": 13,
   "id": "124ae79b",
   "metadata": {},
   "outputs": [],
   "source": [
    "from tensorflow.keras.utils import to_categorical\n",
    "from sklearn.preprocessing import LabelEncoder\n",
    "labelencoder=LabelEncoder()\n",
    "#y=to_categorical(labelencoder.fit_transform(y))\n",
    "#y\n",
    "y_train = np.array(to_categorical(labelencoder.fit_transform(y_train)))\n",
    "y_validate = np.array(to_categorical(labelencoder.fit_transform(y_validate)))\n",
    "y_test = np.array(to_categorical(labelencoder.fit_transform(y_test)))"
   ]
  },
  {
   "cell_type": "code",
   "execution_count": 14,
   "id": "4e131ea5",
   "metadata": {},
   "outputs": [
    {
     "data": {
      "text/plain": [
       "((8000, 128, 400, 1),\n",
       " (1000, 128, 400, 1),\n",
       " (91, 128, 400, 1),\n",
       " (8000, 2),\n",
       " (1000, 2),\n",
       " (91, 2))"
      ]
     },
     "execution_count": 14,
     "metadata": {},
     "output_type": "execute_result"
    }
   ],
   "source": [
    "X_train.shape, X_validate.shape, X_test.shape, y_train.shape, y_validate.shape, y_test.shape"
   ]
  },
  {
   "cell_type": "code",
   "execution_count": 15,
   "id": "be48c1fe",
   "metadata": {},
   "outputs": [
    {
     "name": "stdout",
     "output_type": "stream",
     "text": [
      "Model: \"sequential\"\n",
      "_________________________________________________________________\n",
      "Layer (type)                 Output Shape              Param #   \n",
      "=================================================================\n",
      "conv2d (Conv2D)              (None, 124, 396, 24)      624       \n",
      "_________________________________________________________________\n",
      "max_pooling2d (MaxPooling2D) (None, 31, 198, 24)       0         \n",
      "_________________________________________________________________\n",
      "activation (Activation)      (None, 31, 198, 24)       0         \n",
      "_________________________________________________________________\n",
      "conv2d_1 (Conv2D)            (None, 27, 194, 48)       28848     \n",
      "_________________________________________________________________\n",
      "max_pooling2d_1 (MaxPooling2 (None, 6, 97, 48)         0         \n",
      "_________________________________________________________________\n",
      "activation_1 (Activation)    (None, 6, 97, 48)         0         \n",
      "_________________________________________________________________\n",
      "conv2d_2 (Conv2D)            (None, 2, 93, 48)         57648     \n",
      "_________________________________________________________________\n",
      "activation_2 (Activation)    (None, 2, 93, 48)         0         \n",
      "_________________________________________________________________\n",
      "flatten (Flatten)            (None, 8928)              0         \n",
      "_________________________________________________________________\n",
      "dropout (Dropout)            (None, 8928)              0         \n",
      "_________________________________________________________________\n",
      "dense (Dense)                (None, 64)                571456    \n",
      "_________________________________________________________________\n",
      "activation_3 (Activation)    (None, 64)                0         \n",
      "_________________________________________________________________\n",
      "dropout_1 (Dropout)          (None, 64)                0         \n",
      "_________________________________________________________________\n",
      "dense_1 (Dense)              (None, 2)                 130       \n",
      "_________________________________________________________________\n",
      "activation_4 (Activation)    (None, 2)                 0         \n",
      "=================================================================\n",
      "Total params: 658,706\n",
      "Trainable params: 658,706\n",
      "Non-trainable params: 0\n",
      "_________________________________________________________________\n"
     ]
    }
   ],
   "source": [
    "model = Sequential()\n",
    "input_shape=(128, 400, 1)\n",
    "\n",
    "model.add(Conv2D(24, (5, 5), strides=(1, 1), input_shape=input_shape))\n",
    "model.add(MaxPooling2D((4, 2), strides=(4, 2)))\n",
    "model.add(Activation('relu'))\n",
    "\n",
    "model.add(Conv2D(48, (5, 5), padding=\"valid\"))\n",
    "model.add(MaxPooling2D((4, 2), strides=(4, 2)))\n",
    "model.add(Activation('relu'))\n",
    "\n",
    "model.add(Conv2D(48, (5, 5), padding=\"valid\"))\n",
    "model.add(Activation('relu'))\n",
    "\n",
    "model.add(Flatten())\n",
    "model.add(Dropout(rate=0.5))\n",
    "\n",
    "model.add(Dense(64))\n",
    "model.add(Activation('relu'))\n",
    "model.add(Dropout(rate=0.5))\n",
    "\n",
    "model.add(Dense(2))\n",
    "model.add(Activation('softmax'))\n",
    "\n",
    "model.summary()"
   ]
  },
  {
   "cell_type": "code",
   "execution_count": 16,
   "id": "06ba6143",
   "metadata": {
    "scrolled": false
   },
   "outputs": [
    {
     "name": "stdout",
     "output_type": "stream",
     "text": [
      "Epoch 1/12\n",
      "63/63 [==============================] - 1386s 21s/step - loss: 0.7961 - accuracy: 0.6940 - val_loss: 0.4176 - val_accuracy: 0.8270\n",
      "Epoch 2/12\n",
      "63/63 [==============================] - 4090s 66s/step - loss: 0.4181 - accuracy: 0.8332 - val_loss: 0.3960 - val_accuracy: 0.8490\n",
      "Epoch 3/12\n",
      "63/63 [==============================] - 1265s 20s/step - loss: 0.3955 - accuracy: 0.8419 - val_loss: 0.3793 - val_accuracy: 0.8550\n",
      "Epoch 4/12\n",
      "63/63 [==============================] - 1277s 20s/step - loss: 0.3666 - accuracy: 0.8544 - val_loss: 0.3810 - val_accuracy: 0.8510\n",
      "Epoch 5/12\n",
      "63/63 [==============================] - 537s 8s/step - loss: 0.3795 - accuracy: 0.8531 - val_loss: 0.3770 - val_accuracy: 0.8630\n",
      "Epoch 6/12\n",
      "63/63 [==============================] - 463s 7s/step - loss: 0.3591 - accuracy: 0.8602 - val_loss: 0.3867 - val_accuracy: 0.8520\n",
      "Epoch 7/12\n",
      "63/63 [==============================] - 463s 7s/step - loss: 0.3392 - accuracy: 0.8708 - val_loss: 0.3652 - val_accuracy: 0.8640\n",
      "Epoch 8/12\n",
      "63/63 [==============================] - 471s 7s/step - loss: 0.3171 - accuracy: 0.8842 - val_loss: 0.3644 - val_accuracy: 0.8590\n",
      "Epoch 9/12\n",
      "63/63 [==============================] - 489s 8s/step - loss: 0.3216 - accuracy: 0.8789 - val_loss: 0.3610 - val_accuracy: 0.8720\n",
      "Epoch 10/12\n",
      "63/63 [==============================] - 485s 8s/step - loss: 0.3180 - accuracy: 0.8798 - val_loss: 0.4060 - val_accuracy: 0.8390\n",
      "Epoch 11/12\n",
      "63/63 [==============================] - 495s 8s/step - loss: 0.3185 - accuracy: 0.8791 - val_loss: 0.3653 - val_accuracy: 0.8730\n",
      "Epoch 12/12\n",
      "63/63 [==============================] - 483s 8s/step - loss: 0.2903 - accuracy: 0.8829 - val_loss: 0.3689 - val_accuracy: 0.8900\n",
      "3/3 [==============================] - 2s 570ms/step - loss: 0.3984 - accuracy: 0.8352\n",
      "Test loss: 0.39839616417884827\n",
      "Test accuracy: 0.8351648449897766\n"
     ]
    }
   ],
   "source": [
    "model.compile(\n",
    "\toptimizer=\"Adam\",\n",
    "\tloss=\"categorical_crossentropy\",\n",
    "\tmetrics=['accuracy'])\n",
    "\n",
    "model.fit(\n",
    "\tx=X_train, \n",
    "\ty=y_train,\n",
    "    epochs=12,\n",
    "    batch_size=128,\n",
    "    validation_data= (X_validate, y_validate))\n",
    "\n",
    "score = model.evaluate(\n",
    "\tx=X_test,\n",
    "\ty=y_test)\n",
    "\n",
    "print('Test loss:', score[0])\n",
    "print('Test accuracy:', score[1])"
   ]
  },
  {
   "cell_type": "code",
   "execution_count": 17,
   "id": "ca3954e3",
   "metadata": {},
   "outputs": [],
   "source": [
    "y, sr = librosa.load(file_name)\n",
    "y_changed = librosa.effects.time_stretch(y, rate=1.19)\n",
    "ps = librosa.feature.melspectrogram(y=y_changed, sr=sr)"
   ]
  },
  {
   "cell_type": "code",
   "execution_count": 18,
   "id": "ae668c14",
   "metadata": {},
   "outputs": [
    {
     "data": {
      "text/plain": [
       "<matplotlib.collections.QuadMesh at 0x23e7a8a0d90>"
      ]
     },
     "execution_count": 18,
     "metadata": {},
     "output_type": "execute_result"
    },
    {
     "data": {
      "image/png": "[encoded data removed]",
      "text/plain": [
       "<Figure size 432x288 with 1 Axes>"
      ]
     },
     "metadata": {
      "needs_background": "light"
     },
     "output_type": "display_data"
    }
   ],
   "source": [
    "librosa.display.specshow(ps, y_axis='mel', x_axis='time')"
   ]
  },
  {
   "cell_type": "code",
   "execution_count": 19,
   "id": "048777fd",
   "metadata": {},
   "outputs": [
    {
     "name": "stderr",
     "output_type": "stream",
     "text": [
      "\r",
      "  0%|          | 0/134 [00:00<?, ?it/s]"
     ]
    },
    {
     "name": "stdout",
     "output_type": "stream",
     "text": [
      "F01\n"
     ]
    },
    {
     "name": "stderr",
     "output_type": "stream",
     "text": [
      "100%|██████████| 134/134 [00:18<00:00,  7.10it/s]\n",
      "  0%|          | 0/204 [00:00<?, ?it/s]"
     ]
    },
    {
     "name": "stdout",
     "output_type": "stream",
     "text": [
      "F03\n"
     ]
    },
    {
     "name": "stderr",
     "output_type": "stream",
     "text": [
      "100%|██████████| 204/204 [00:25<00:00,  8.07it/s]\n",
      "100%|██████████| 435/435 [00:54<00:00,  7.95it/s]\n",
      "100%|██████████| 209/209 [00:29<00:00,  7.02it/s]\n",
      "  0%|          | 0/199 [00:00<?, ?it/s]"
     ]
    },
    {
     "name": "stdout",
     "output_type": "stream",
     "text": [
      "F04\n"
     ]
    },
    {
     "name": "stderr",
     "output_type": "stream",
     "text": [
      "100%|██████████| 199/199 [00:26<00:00,  7.64it/s]\n",
      "100%|██████████| 249/249 [00:45<00:00,  5.53it/s]\n",
      "  0%|          | 0/256 [00:00<?, ?it/s]"
     ]
    },
    {
     "name": "stdout",
     "output_type": "stream",
     "text": [
      "FC01\n"
     ]
    },
    {
     "name": "stderr",
     "output_type": "stream",
     "text": [
      "100%|██████████| 256/256 [01:01<00:00,  4.19it/s]\n",
      "  0%|          | 0/269 [00:00<?, ?it/s]"
     ]
    },
    {
     "name": "stdout",
     "output_type": "stream",
     "text": [
      "FC02\n"
     ]
    },
    {
     "name": "stderr",
     "output_type": "stream",
     "text": [
      "100%|██████████| 269/269 [00:49<00:00,  5.49it/s]\n",
      "100%|██████████| 992/992 [02:45<00:00,  5.98it/s]\n",
      "  0%|          | 0/400 [00:00<?, ?it/s]"
     ]
    },
    {
     "name": "stdout",
     "output_type": "stream",
     "text": [
      "FC03\n"
     ]
    },
    {
     "name": "stderr",
     "output_type": "stream",
     "text": [
      "100%|██████████| 400/400 [01:11<00:00,  5.56it/s]\n",
      "100%|██████████| 387/387 [00:59<00:00,  6.56it/s]\n",
      "100%|██████████| 208/208 [00:28<00:00,  7.36it/s]\n",
      "  0%|          | 0/100 [00:00<?, ?it/s]"
     ]
    },
    {
     "name": "stdout",
     "output_type": "stream",
     "text": [
      "M01\n"
     ]
    },
    {
     "name": "stderr",
     "output_type": "stream",
     "text": [
      "100%|██████████| 100/100 [00:25<00:00,  3.96it/s]\n",
      "100%|██████████| 286/286 [01:03<00:00,  4.50it/s]\n",
      "  0%|          | 0/240 [00:00<?, ?it/s]"
     ]
    },
    {
     "name": "stdout",
     "output_type": "stream",
     "text": [
      "M02\n"
     ]
    },
    {
     "name": "stderr",
     "output_type": "stream",
     "text": [
      "100%|██████████| 240/240 [00:43<00:00,  5.55it/s]\n",
      "100%|██████████| 160/160 [00:40<00:00,  3.95it/s]\n",
      "  0%|          | 0/416 [00:00<?, ?it/s]"
     ]
    },
    {
     "name": "stdout",
     "output_type": "stream",
     "text": [
      "M03\n"
     ]
    },
    {
     "name": "stderr",
     "output_type": "stream",
     "text": [
      "100%|██████████| 416/416 [01:26<00:00,  4.82it/s]\n",
      "  0%|          | 0/126 [00:00<?, ?it/s]"
     ]
    },
    {
     "name": "stdout",
     "output_type": "stream",
     "text": [
      "M04\n"
     ]
    },
    {
     "name": "stderr",
     "output_type": "stream",
     "text": [
      "100%|██████████| 126/126 [00:30<00:00,  4.11it/s]\n",
      "100%|██████████| 295/295 [01:09<00:00,  4.21it/s]\n",
      "  0%|          | 0/128 [00:00<?, ?it/s]"
     ]
    },
    {
     "name": "stdout",
     "output_type": "stream",
     "text": [
      "M05\n"
     ]
    },
    {
     "name": "stderr",
     "output_type": "stream",
     "text": [
      "100%|██████████| 128/128 [00:36<00:00,  3.48it/s]\n",
      "  0%|          | 0/329 [00:00<?, ?it/s]"
     ]
    },
    {
     "name": "stdout",
     "output_type": "stream",
     "text": [
      "MC01\n"
     ]
    },
    {
     "name": "stderr",
     "output_type": "stream",
     "text": [
      "100%|██████████| 329/329 [01:27<00:00,  3.74it/s]\n",
      "100%|██████████| 360/360 [01:14<00:00,  4.85it/s]\n",
      "100%|██████████| 419/419 [01:29<00:00,  4.67it/s]\n",
      "  0%|          | 0/388 [00:00<?, ?it/s]"
     ]
    },
    {
     "name": "stdout",
     "output_type": "stream",
     "text": [
      "MC02\n"
     ]
    },
    {
     "name": "stderr",
     "output_type": "stream",
     "text": [
      "100%|██████████| 388/388 [01:23<00:00,  4.63it/s]\n",
      "100%|██████████| 307/307 [01:15<00:00,  4.04it/s]\n",
      "  0%|          | 0/600 [00:00<?, ?it/s]"
     ]
    },
    {
     "name": "stdout",
     "output_type": "stream",
     "text": [
      "MC03\n"
     ]
    },
    {
     "name": "stderr",
     "output_type": "stream",
     "text": [
      "100%|██████████| 600/600 [01:53<00:00,  5.27it/s]\n",
      "100%|██████████| 300/300 [00:46<00:00,  6.40it/s]\n",
      "  0%|          | 0/648 [00:00<?, ?it/s]"
     ]
    },
    {
     "name": "stdout",
     "output_type": "stream",
     "text": [
      "MC04\n"
     ]
    },
    {
     "name": "stderr",
     "output_type": "stream",
     "text": [
      "100%|██████████| 648/648 [01:45<00:00,  6.12it/s]\n",
      "100%|██████████| 373/373 [00:56<00:00,  6.59it/s]\n"
     ]
    }
   ],
   "source": [
    "for pair in directories:\n",
    "    directory = pair[0]\n",
    "    label = pair[1]\n",
    "    print(directory)\n",
    "    for filename in os.listdir(directory):\n",
    "        if filename != 'Notes':\n",
    "            file = os.path.join(directory, filename)\n",
    "            file = os.path.join(file, 'wav_arrayMic')\n",
    "            if os.path.isdir(file):\n",
    "                for audiofile in tqdm(os.listdir(file)):\n",
    "                    f = os.path.join(file, audiofile)\n",
    "                    if os.path.isfile(f):\n",
    "                        if librosa.get_duration(filename=f) != 0:\n",
    "                            y, sr = librosa.load(f)\n",
    "                            \n",
    "                            y_changed = librosa.effects.time_stretch(y, rate=1.19)\n",
    "                            ps = librosa.feature.melspectrogram(y=y_changed, sr=sr)\n",
    "                            #ps = librosa.feature.melspectrogram(y=y, sr=sr)\n",
    "                            if ps.shape[1] > 400 : continue\n",
    "                            PS = ps\n",
    "                            data[\"spect\"].append(PS.tolist())\n",
    "                            data[\"label\"].append(label)\n",
    "                            D.append( (np.array(padding(ps,128,400)), label) )"
   ]
  },
  {
   "cell_type": "code",
   "execution_count": 20,
   "id": "a64c4299",
   "metadata": {},
   "outputs": [
    {
     "name": "stdout",
     "output_type": "stream",
     "text": [
      "Number of samples:  18404\n"
     ]
    }
   ],
   "source": [
    "print(\"Number of samples: \", len(D))"
   ]
  },
  {
   "cell_type": "code",
   "execution_count": 21,
   "id": "db659989",
   "metadata": {},
   "outputs": [],
   "source": [
    "dataset = D\n",
    "random.shuffle(dataset)\n",
    "\n",
    "train = dataset[:1000]\n",
    "dataset = dataset[1000:]\n",
    "validate = dataset[:200]\n",
    "dataset = dataset[200:]\n",
    "test = dataset[:100]\n",
    "rest = dataset[100:]\n",
    "\n",
    "X_train, y_train = zip(*train)\n",
    "X_validate, y_validate = zip(*validate)\n",
    "X_test, y_test = zip(*test)\n",
    "\n",
    "# Reshape for CNN input\n",
    "X_train = np.array([x.reshape( (128, 400, 1) ) for x in X_train])\n",
    "X_validate = np.array([x.reshape( (128, 400, 1) ) for x in X_validate])\n",
    "X_test = np.array([x.reshape( (128, 400, 1) ) for x in X_test])"
   ]
  },
  {
   "cell_type": "code",
   "execution_count": 22,
   "id": "50958eee",
   "metadata": {},
   "outputs": [],
   "source": [
    "from tensorflow.keras.utils import to_categorical\n",
    "from sklearn.preprocessing import LabelEncoder\n",
    "labelencoder=LabelEncoder()\n",
    "#y=to_categorical(labelencoder.fit_transform(y))\n",
    "#y\n",
    "y_train = np.array(to_categorical(labelencoder.fit_transform(y_train)))\n",
    "y_validate = np.array(to_categorical(labelencoder.fit_transform(y_validate)))\n",
    "y_test = np.array(to_categorical(labelencoder.fit_transform(y_test)))"
   ]
  },
  {
   "cell_type": "code",
   "execution_count": 23,
   "id": "ecb212ed",
   "metadata": {},
   "outputs": [
    {
     "data": {
      "text/plain": [
       "((1000, 128, 400, 1),\n",
       " (200, 128, 400, 1),\n",
       " (100, 128, 400, 1),\n",
       " (1000, 2),\n",
       " (200, 2),\n",
       " (100, 2))"
      ]
     },
     "execution_count": 23,
     "metadata": {},
     "output_type": "execute_result"
    }
   ],
   "source": [
    "X_train.shape, X_validate.shape, X_test.shape, y_train.shape, y_validate.shape, y_test.shape"
   ]
  },
  {
   "cell_type": "code",
   "execution_count": 24,
   "id": "7504f1fb",
   "metadata": {},
   "outputs": [
    {
     "name": "stdout",
     "output_type": "stream",
     "text": [
      "Epoch 1/12\n",
      "32/32 [==============================] - 71s 2s/step - loss: 0.3535 - accuracy: 0.8697 - val_loss: 0.3036 - val_accuracy: 0.8700\n",
      "Epoch 2/12\n",
      "32/32 [==============================] - 65s 2s/step - loss: 0.3000 - accuracy: 0.8799 - val_loss: 0.3218 - val_accuracy: 0.8650\n",
      "Epoch 3/12\n",
      "32/32 [==============================] - 65s 2s/step - loss: 0.3387 - accuracy: 0.8854 - val_loss: 0.3050 - val_accuracy: 0.8900\n",
      "Epoch 4/12\n",
      "32/32 [==============================] - 67s 2s/step - loss: 0.2769 - accuracy: 0.9106 - val_loss: 0.7099 - val_accuracy: 0.8750\n",
      "Epoch 5/12\n",
      "32/32 [==============================] - 67s 2s/step - loss: 0.2352 - accuracy: 0.9120 - val_loss: 0.4008 - val_accuracy: 0.8250\n",
      "Epoch 6/12\n",
      "32/32 [==============================] - 71s 2s/step - loss: 0.4839 - accuracy: 0.8456 - val_loss: 0.3642 - val_accuracy: 0.8500\n",
      "Epoch 7/12\n",
      "32/32 [==============================] - 76s 2s/step - loss: 0.4640 - accuracy: 0.8660 - val_loss: 0.4033 - val_accuracy: 0.8450\n",
      "Epoch 8/12\n",
      "32/32 [==============================] - 72s 2s/step - loss: 0.3556 - accuracy: 0.8749 - val_loss: 0.3571 - val_accuracy: 0.8650\n",
      "Epoch 9/12\n",
      "32/32 [==============================] - 66s 2s/step - loss: 0.2651 - accuracy: 0.8967 - val_loss: 0.3171 - val_accuracy: 0.8600\n",
      "Epoch 10/12\n",
      "32/32 [==============================] - 69s 2s/step - loss: 0.2285 - accuracy: 0.9237 - val_loss: 0.3077 - val_accuracy: 0.8700\n",
      "Epoch 11/12\n",
      "32/32 [==============================] - 73s 2s/step - loss: 0.2326 - accuracy: 0.9255 - val_loss: 0.3214 - val_accuracy: 0.8700\n",
      "Epoch 12/12\n",
      "32/32 [==============================] - 73s 2s/step - loss: 0.2543 - accuracy: 0.9018 - val_loss: 0.3409 - val_accuracy: 0.8500\n",
      "4/4 [==============================] - 2s 497ms/step - loss: 1.4923 - accuracy: 0.8500\n",
      "Test loss: 1.4922617673873901\n",
      "Test accuracy: 0.8500000238418579\n"
     ]
    }
   ],
   "source": [
    "model.compile(\n",
    "\toptimizer=\"Adam\",\n",
    "\tloss=\"categorical_crossentropy\",\n",
    "\tmetrics=['accuracy'])\n",
    "\n",
    "model.fit(\n",
    "\tx=X_train, \n",
    "\ty=y_train,\n",
    "    epochs=12,\n",
    "    batch_size=32,\n",
    "    validation_data= (X_validate, y_validate))\n",
    "\n",
    "score = model.evaluate(\n",
    "\tx=X_test,\n",
    "\ty=y_test)\n",
    "\n",
    "print('Test loss:', score[0])\n",
    "print('Test accuracy:', score[1])"
   ]
  },
  {
   "cell_type": "code",
   "execution_count": 33,
   "id": "31a03ea7",
   "metadata": {},
   "outputs": [
    {
     "data": {
      "text/plain": [
       "<matplotlib.collections.QuadMesh at 0x23e1d3c9760>"
      ]
     },
     "execution_count": 33,
     "metadata": {},
     "output_type": "execute_result"
    },
    {
     "data": {
      "image/png": "[encoded data removed]",
      "text/plain": [
       "<Figure size 432x288 with 1 Axes>"
      ]
     },
     "metadata": {
      "needs_background": "light"
     },
     "output_type": "display_data"
    }
   ],
   "source": [
    "n_steps = -2.5\n",
    "y, sr = librosa.load(file_name)\n",
    "y_changed = librosa.effects.pitch_shift(y, sr, n_steps=n_steps)\n",
    "ps = librosa.feature.melspectrogram(y=y_changed, sr=sr)\n",
    "librosa.display.specshow(ps, y_axis='mel', x_axis='time')"
   ]
  },
  {
   "cell_type": "code",
   "execution_count": 34,
   "id": "55c74b77",
   "metadata": {},
   "outputs": [
    {
     "data": {
      "text/plain": [
       "<matplotlib.collections.QuadMesh at 0x23e1d75dd90>"
      ]
     },
     "execution_count": 34,
     "metadata": {},
     "output_type": "execute_result"
    },
    {
     "data": {
      "image/png": "[encoded data removed]",
      "text/plain": [
       "<Figure size 432x288 with 1 Axes>"
      ]
     },
     "metadata": {
      "needs_background": "light"
     },
     "output_type": "display_data"
    }
   ],
   "source": [
    "n_steps = 0\n",
    "y, sr = librosa.load(file_name)\n",
    "y_changed = librosa.effects.pitch_shift(y, sr, n_steps=n_steps)\n",
    "ps = librosa.feature.melspectrogram(y=y_changed, sr=sr)\n",
    "librosa.display.specshow(ps, y_axis='mel', x_axis='time')"
   ]
  },
  {
   "cell_type": "code",
   "execution_count": 35,
   "id": "9bd42396",
   "metadata": {},
   "outputs": [
    {
     "data": {
      "text/plain": [
       "<matplotlib.collections.QuadMesh at 0x23e1d95e3d0>"
      ]
     },
     "execution_count": 35,
     "metadata": {},
     "output_type": "execute_result"
    },
    {
     "data": {
      "image/png": "[encoded data removed]",
      "text/plain": [
       "<Figure size 432x288 with 1 Axes>"
      ]
     },
     "metadata": {
      "needs_background": "light"
     },
     "output_type": "display_data"
    }
   ],
   "source": [
    "n_steps = 2.5\n",
    "y, sr = librosa.load(file_name)\n",
    "y_changed = librosa.effects.pitch_shift(y, sr, n_steps=n_steps)\n",
    "ps = librosa.feature.melspectrogram(y=y_changed, sr=sr)\n",
    "librosa.display.specshow(ps, y_axis='mel', x_axis='time')"
   ]
  },
  {
   "cell_type": "code",
   "execution_count": 36,
   "id": "a6b19d93",
   "metadata": {},
   "outputs": [
    {
     "name": "stderr",
     "output_type": "stream",
     "text": [
      "\r",
      "  0%|          | 0/134 [00:00<?, ?it/s]"
     ]
    },
    {
     "name": "stdout",
     "output_type": "stream",
     "text": [
      "F01\n"
     ]
    },
    {
     "name": "stderr",
     "output_type": "stream",
     "text": [
      "100%|██████████| 134/134 [00:35<00:00,  3.77it/s]\n",
      "  0%|          | 0/204 [00:00<?, ?it/s]"
     ]
    },
    {
     "name": "stdout",
     "output_type": "stream",
     "text": [
      "F03\n"
     ]
    },
    {
     "name": "stderr",
     "output_type": "stream",
     "text": [
      "100%|██████████| 204/204 [00:46<00:00,  4.36it/s]\n",
      "100%|██████████| 435/435 [01:46<00:00,  4.10it/s]\n",
      "100%|██████████| 209/209 [00:58<00:00,  3.59it/s]\n",
      "  0%|          | 0/199 [00:00<?, ?it/s]"
     ]
    },
    {
     "name": "stdout",
     "output_type": "stream",
     "text": [
      "F04\n"
     ]
    },
    {
     "name": "stderr",
     "output_type": "stream",
     "text": [
      "100%|██████████| 199/199 [00:52<00:00,  3.79it/s]\n",
      "100%|██████████| 249/249 [01:33<00:00,  2.67it/s]\n",
      "  0%|          | 0/256 [00:00<?, ?it/s]"
     ]
    },
    {
     "name": "stdout",
     "output_type": "stream",
     "text": [
      "FC01\n"
     ]
    },
    {
     "name": "stderr",
     "output_type": "stream",
     "text": [
      "100%|██████████| 256/256 [01:31<00:00,  2.80it/s]\n",
      "  0%|          | 0/269 [00:00<?, ?it/s]"
     ]
    },
    {
     "name": "stdout",
     "output_type": "stream",
     "text": [
      "FC02\n"
     ]
    },
    {
     "name": "stderr",
     "output_type": "stream",
     "text": [
      "100%|██████████| 269/269 [01:34<00:00,  2.86it/s]\n",
      "100%|██████████| 992/992 [05:35<00:00,  2.96it/s]\n",
      "  0%|          | 0/400 [00:00<?, ?it/s]"
     ]
    },
    {
     "name": "stdout",
     "output_type": "stream",
     "text": [
      "FC03\n"
     ]
    },
    {
     "name": "stderr",
     "output_type": "stream",
     "text": [
      "100%|██████████| 400/400 [02:11<00:00,  3.03it/s]\n",
      "100%|██████████| 387/387 [01:52<00:00,  3.45it/s]\n",
      "100%|██████████| 208/208 [00:55<00:00,  3.75it/s]\n",
      "  0%|          | 0/100 [00:00<?, ?it/s]"
     ]
    },
    {
     "name": "stdout",
     "output_type": "stream",
     "text": [
      "M01\n"
     ]
    },
    {
     "name": "stderr",
     "output_type": "stream",
     "text": [
      "100%|██████████| 100/100 [00:48<00:00,  2.04it/s]\n",
      "100%|██████████| 286/286 [01:49<00:00,  2.62it/s]\n",
      "  0%|          | 0/240 [00:00<?, ?it/s]"
     ]
    },
    {
     "name": "stdout",
     "output_type": "stream",
     "text": [
      "M02\n"
     ]
    },
    {
     "name": "stderr",
     "output_type": "stream",
     "text": [
      "100%|██████████| 240/240 [01:13<00:00,  3.27it/s]\n",
      "100%|██████████| 160/160 [01:07<00:00,  2.37it/s]\n",
      "  0%|          | 0/416 [00:00<?, ?it/s]"
     ]
    },
    {
     "name": "stdout",
     "output_type": "stream",
     "text": [
      "M03\n"
     ]
    },
    {
     "name": "stderr",
     "output_type": "stream",
     "text": [
      "100%|██████████| 416/416 [02:43<00:00,  2.54it/s]\n",
      "  0%|          | 0/126 [00:00<?, ?it/s]"
     ]
    },
    {
     "name": "stdout",
     "output_type": "stream",
     "text": [
      "M04\n"
     ]
    },
    {
     "name": "stderr",
     "output_type": "stream",
     "text": [
      "100%|██████████| 126/126 [01:03<00:00,  1.98it/s]\n",
      "100%|██████████| 295/295 [02:16<00:00,  2.16it/s]\n",
      "  0%|          | 0/128 [00:00<?, ?it/s]"
     ]
    },
    {
     "name": "stdout",
     "output_type": "stream",
     "text": [
      "M05\n"
     ]
    },
    {
     "name": "stderr",
     "output_type": "stream",
     "text": [
      "100%|██████████| 128/128 [01:06<00:00,  1.94it/s]\n",
      "  0%|          | 0/329 [00:00<?, ?it/s]"
     ]
    },
    {
     "name": "stdout",
     "output_type": "stream",
     "text": [
      "MC01\n"
     ]
    },
    {
     "name": "stderr",
     "output_type": "stream",
     "text": [
      "100%|██████████| 329/329 [06:23<00:00,  1.17s/it]  \n",
      "100%|██████████| 360/360 [01:54<00:00,  3.13it/s]\n",
      "100%|██████████| 419/419 [02:20<00:00,  2.98it/s]\n",
      "  0%|          | 0/388 [00:00<?, ?it/s]"
     ]
    },
    {
     "name": "stdout",
     "output_type": "stream",
     "text": [
      "MC02\n"
     ]
    },
    {
     "name": "stderr",
     "output_type": "stream",
     "text": [
      "100%|██████████| 388/388 [02:47<00:00,  2.32it/s]\n",
      "100%|██████████| 307/307 [02:15<00:00,  2.26it/s]\n",
      "  0%|          | 0/600 [00:00<?, ?it/s]"
     ]
    },
    {
     "name": "stdout",
     "output_type": "stream",
     "text": [
      "MC03\n"
     ]
    },
    {
     "name": "stderr",
     "output_type": "stream",
     "text": [
      "100%|██████████| 600/600 [02:44<00:00,  3.64it/s]\n",
      "100%|██████████| 300/300 [01:08<00:00,  4.36it/s]\n",
      "  0%|          | 0/648 [00:00<?, ?it/s]"
     ]
    },
    {
     "name": "stdout",
     "output_type": "stream",
     "text": [
      "MC04\n"
     ]
    },
    {
     "name": "stderr",
     "output_type": "stream",
     "text": [
      "100%|██████████| 648/648 [03:07<00:00,  3.45it/s]\n",
      "100%|██████████| 373/373 [01:40<00:00,  3.73it/s]\n"
     ]
    }
   ],
   "source": [
    "n_steps = -2.5\n",
    "for pair in directories:\n",
    "    directory = pair[0]\n",
    "    label = pair[1]\n",
    "    print(directory)\n",
    "    for filename in os.listdir(directory):\n",
    "        if filename != 'Notes':\n",
    "            file = os.path.join(directory, filename)\n",
    "            file = os.path.join(file, 'wav_arrayMic')\n",
    "            if os.path.isdir(file):\n",
    "                for audiofile in tqdm(os.listdir(file)):\n",
    "                    f = os.path.join(file, audiofile)\n",
    "                    if os.path.isfile(f):\n",
    "                        if librosa.get_duration(filename=f) != 0:\n",
    "                            y, sr = librosa.load(f)\n",
    "                            \n",
    "                            y_changed = librosa.effects.pitch_shift(y, sr, n_steps=n_steps)\n",
    "                            ps = librosa.feature.melspectrogram(y=y_changed, sr=sr)\n",
    "                            #ps = librosa.feature.melspectrogram(y=y, sr=sr)\n",
    "                            if ps.shape[1] > 400 : continue\n",
    "                            PS = ps\n",
    "                            data[\"spect\"].append(PS.tolist())\n",
    "                            data[\"label\"].append(label)\n",
    "                            D.append( (np.array(padding(ps,128,400)), label) )"
   ]
  },
  {
   "cell_type": "code",
   "execution_count": 37,
   "id": "cd11bbda",
   "metadata": {},
   "outputs": [
    {
     "name": "stdout",
     "output_type": "stream",
     "text": [
      "Number of samples:  27642\n"
     ]
    }
   ],
   "source": [
    "print(\"Number of samples: \", len(D))"
   ]
  },
  {
   "cell_type": "code",
   "execution_count": 38,
   "id": "6745d223",
   "metadata": {},
   "outputs": [],
   "source": [
    "dataset = D\n",
    "random.shuffle(dataset)\n",
    "\n",
    "train = dataset[:1000]\n",
    "dataset = dataset[1000:]\n",
    "validate = dataset[:200]\n",
    "dataset = dataset[200:]\n",
    "test = dataset[:100]\n",
    "rest = dataset[100:]\n",
    "\n",
    "X_train, y_train = zip(*train)\n",
    "X_validate, y_validate = zip(*validate)\n",
    "X_test, y_test = zip(*test)\n",
    "\n",
    "# Reshape for CNN input\n",
    "X_train = np.array([x.reshape( (128, 400, 1) ) for x in X_train])\n",
    "X_validate = np.array([x.reshape( (128, 400, 1) ) for x in X_validate])\n",
    "X_test = np.array([x.reshape( (128, 400, 1) ) for x in X_test])"
   ]
  },
  {
   "cell_type": "code",
   "execution_count": 39,
   "id": "2d9514fb",
   "metadata": {},
   "outputs": [],
   "source": [
    "from tensorflow.keras.utils import to_categorical\n",
    "from sklearn.preprocessing import LabelEncoder\n",
    "labelencoder=LabelEncoder()\n",
    "#y=to_categorical(labelencoder.fit_transform(y))\n",
    "#y\n",
    "y_train = np.array(to_categorical(labelencoder.fit_transform(y_train)))\n",
    "y_validate = np.array(to_categorical(labelencoder.fit_transform(y_validate)))\n",
    "y_test = np.array(to_categorical(labelencoder.fit_transform(y_test)))"
   ]
  },
  {
   "cell_type": "code",
   "execution_count": 40,
   "id": "bd8c3ce6",
   "metadata": {},
   "outputs": [
    {
     "data": {
      "text/plain": [
       "((1000, 128, 400, 1),\n",
       " (200, 128, 400, 1),\n",
       " (100, 128, 400, 1),\n",
       " (1000, 2),\n",
       " (200, 2),\n",
       " (100, 2))"
      ]
     },
     "execution_count": 40,
     "metadata": {},
     "output_type": "execute_result"
    }
   ],
   "source": [
    "X_train.shape, X_validate.shape, X_test.shape, y_train.shape, y_validate.shape, y_test.shape"
   ]
  },
  {
   "cell_type": "code",
   "execution_count": 41,
   "id": "306c48e3",
   "metadata": {},
   "outputs": [
    {
     "name": "stdout",
     "output_type": "stream",
     "text": [
      "Epoch 1/12\n",
      "32/32 [==============================] - 121s 4s/step - loss: 0.4308 - accuracy: 0.8372 - val_loss: 0.3193 - val_accuracy: 0.8850\n",
      "Epoch 2/12\n",
      "32/32 [==============================] - 107s 3s/step - loss: 0.3625 - accuracy: 0.8521 - val_loss: 0.3688 - val_accuracy: 0.9050\n",
      "Epoch 3/12\n",
      "32/32 [==============================] - 106s 3s/step - loss: 0.3019 - accuracy: 0.8918 - val_loss: 0.4640 - val_accuracy: 0.8950\n",
      "Epoch 4/12\n",
      "32/32 [==============================] - 107s 3s/step - loss: 0.3491 - accuracy: 0.8729 - val_loss: 0.3747 - val_accuracy: 0.8900\n",
      "Epoch 5/12\n",
      "32/32 [==============================] - 106s 3s/step - loss: 0.3265 - accuracy: 0.8817 - val_loss: 0.3753 - val_accuracy: 0.8950\n",
      "Epoch 6/12\n",
      "32/32 [==============================] - 101s 3s/step - loss: 0.3249 - accuracy: 0.8800 - val_loss: 0.3658 - val_accuracy: 0.8850\n",
      "Epoch 7/12\n",
      "32/32 [==============================] - 105s 3s/step - loss: 0.3020 - accuracy: 0.8844 - val_loss: 0.3469 - val_accuracy: 0.8950\n",
      "Epoch 8/12\n",
      "32/32 [==============================] - 109s 3s/step - loss: 0.2246 - accuracy: 0.9155 - val_loss: 0.3711 - val_accuracy: 0.9050\n",
      "Epoch 9/12\n",
      "32/32 [==============================] - 103s 3s/step - loss: 0.2426 - accuracy: 0.9056 - val_loss: 0.3471 - val_accuracy: 0.8950\n",
      "Epoch 10/12\n",
      "32/32 [==============================] - 113s 4s/step - loss: 0.2489 - accuracy: 0.9014 - val_loss: 0.4259 - val_accuracy: 0.9050\n",
      "Epoch 11/12\n",
      "32/32 [==============================] - 103s 3s/step - loss: 0.2126 - accuracy: 0.9207 - val_loss: 0.3667 - val_accuracy: 0.8850\n",
      "Epoch 12/12\n",
      "32/32 [==============================] - 107s 3s/step - loss: 0.2027 - accuracy: 0.9369 - val_loss: 0.8310 - val_accuracy: 0.8750\n",
      "4/4 [==============================] - 3s 751ms/step - loss: 0.7405 - accuracy: 0.8700\n",
      "Test loss: 0.740471601486206\n",
      "Test accuracy: 0.8700000047683716\n"
     ]
    }
   ],
   "source": [
    "model.compile(\n",
    "\toptimizer=\"Adam\",\n",
    "\tloss=\"categorical_crossentropy\",\n",
    "\tmetrics=['accuracy'])\n",
    "\n",
    "model.fit(\n",
    "\tx=X_train, \n",
    "\ty=y_train,\n",
    "    epochs=12,\n",
    "    batch_size=32,\n",
    "    validation_data= (X_validate, y_validate))\n",
    "\n",
    "score = model.evaluate(\n",
    "\tx=X_test,\n",
    "\ty=y_test)\n",
    "\n",
    "print('Test loss:', score[0])\n",
    "print('Test accuracy:', score[1])"
   ]
  },
  {
   "cell_type": "code",
   "execution_count": 42,
   "id": "af8df665",
   "metadata": {},
   "outputs": [
    {
     "name": "stderr",
     "output_type": "stream",
     "text": [
      "\r",
      "  0%|          | 0/134 [00:00<?, ?it/s]"
     ]
    },
    {
     "name": "stdout",
     "output_type": "stream",
     "text": [
      "F01\n"
     ]
    },
    {
     "name": "stderr",
     "output_type": "stream",
     "text": [
      "100%|██████████| 134/134 [00:54<00:00,  2.45it/s]\n",
      "  0%|          | 0/204 [00:00<?, ?it/s]"
     ]
    },
    {
     "name": "stdout",
     "output_type": "stream",
     "text": [
      "F03\n"
     ]
    },
    {
     "name": "stderr",
     "output_type": "stream",
     "text": [
      "100%|██████████| 204/204 [01:08<00:00,  3.00it/s]\n",
      "100%|██████████| 435/435 [02:18<00:00,  3.14it/s]\n",
      "100%|██████████| 209/209 [01:14<00:00,  2.82it/s]\n",
      "  0%|          | 0/199 [00:00<?, ?it/s]"
     ]
    },
    {
     "name": "stdout",
     "output_type": "stream",
     "text": [
      "F04\n"
     ]
    },
    {
     "name": "stderr",
     "output_type": "stream",
     "text": [
      "100%|██████████| 199/199 [01:07<00:00,  2.96it/s]\n",
      "100%|██████████| 249/249 [01:57<00:00,  2.13it/s]\n",
      "  0%|          | 0/256 [00:00<?, ?it/s]"
     ]
    },
    {
     "name": "stdout",
     "output_type": "stream",
     "text": [
      "FC01\n"
     ]
    },
    {
     "name": "stderr",
     "output_type": "stream",
     "text": [
      "100%|██████████| 256/256 [01:52<00:00,  2.28it/s]\n",
      "  0%|          | 0/269 [00:00<?, ?it/s]"
     ]
    },
    {
     "name": "stdout",
     "output_type": "stream",
     "text": [
      "FC02\n"
     ]
    },
    {
     "name": "stderr",
     "output_type": "stream",
     "text": [
      "100%|██████████| 269/269 [01:56<00:00,  2.31it/s]\n",
      "100%|██████████| 992/992 [06:52<00:00,  2.41it/s]\n",
      "  0%|          | 0/400 [00:00<?, ?it/s]"
     ]
    },
    {
     "name": "stdout",
     "output_type": "stream",
     "text": [
      "FC03\n"
     ]
    },
    {
     "name": "stderr",
     "output_type": "stream",
     "text": [
      "100%|██████████| 400/400 [02:47<00:00,  2.38it/s]\n",
      "100%|██████████| 387/387 [08:04<00:00,  1.25s/it]   \n",
      "100%|██████████| 208/208 [01:12<00:00,  2.86it/s]\n",
      "  0%|          | 0/100 [00:00<?, ?it/s]"
     ]
    },
    {
     "name": "stdout",
     "output_type": "stream",
     "text": [
      "M01\n"
     ]
    },
    {
     "name": "stderr",
     "output_type": "stream",
     "text": [
      "100%|██████████| 100/100 [01:02<00:00,  1.61it/s]\n",
      "100%|██████████| 286/286 [02:19<00:00,  2.04it/s]\n",
      "  0%|          | 0/240 [00:00<?, ?it/s]"
     ]
    },
    {
     "name": "stdout",
     "output_type": "stream",
     "text": [
      "M02\n"
     ]
    },
    {
     "name": "stderr",
     "output_type": "stream",
     "text": [
      "100%|██████████| 240/240 [01:39<00:00,  2.41it/s]\n",
      "100%|██████████| 160/160 [01:33<00:00,  1.71it/s]\n",
      "  0%|          | 0/416 [00:00<?, ?it/s]"
     ]
    },
    {
     "name": "stdout",
     "output_type": "stream",
     "text": [
      "M03\n"
     ]
    },
    {
     "name": "stderr",
     "output_type": "stream",
     "text": [
      "100%|██████████| 416/416 [03:17<00:00,  2.11it/s]\n",
      "  0%|          | 0/126 [00:00<?, ?it/s]"
     ]
    },
    {
     "name": "stdout",
     "output_type": "stream",
     "text": [
      "M04\n"
     ]
    },
    {
     "name": "stderr",
     "output_type": "stream",
     "text": [
      "100%|██████████| 126/126 [01:12<00:00,  1.74it/s]\n",
      "100%|██████████| 295/295 [02:32<00:00,  1.93it/s]\n",
      "  0%|          | 0/128 [00:00<?, ?it/s]"
     ]
    },
    {
     "name": "stdout",
     "output_type": "stream",
     "text": [
      "M05\n"
     ]
    },
    {
     "name": "stderr",
     "output_type": "stream",
     "text": [
      "100%|██████████| 128/128 [01:14<00:00,  1.73it/s]\n",
      "  0%|          | 0/329 [00:00<?, ?it/s]"
     ]
    },
    {
     "name": "stdout",
     "output_type": "stream",
     "text": [
      "MC01\n"
     ]
    },
    {
     "name": "stderr",
     "output_type": "stream",
     "text": [
      "100%|██████████| 329/329 [02:43<00:00,  2.01it/s]\n",
      "100%|██████████| 360/360 [02:15<00:00,  2.66it/s]\n",
      "100%|██████████| 419/419 [03:07<00:00,  2.24it/s]\n",
      "  0%|          | 0/388 [00:00<?, ?it/s]"
     ]
    },
    {
     "name": "stdout",
     "output_type": "stream",
     "text": [
      "MC02\n"
     ]
    },
    {
     "name": "stderr",
     "output_type": "stream",
     "text": [
      "100%|██████████| 388/388 [03:11<00:00,  2.03it/s]\n",
      "100%|██████████| 307/307 [02:32<00:00,  2.01it/s]\n",
      "  0%|          | 0/600 [00:00<?, ?it/s]"
     ]
    },
    {
     "name": "stdout",
     "output_type": "stream",
     "text": [
      "MC03\n"
     ]
    },
    {
     "name": "stderr",
     "output_type": "stream",
     "text": [
      "100%|██████████| 600/600 [03:39<00:00,  2.73it/s]\n",
      "100%|██████████| 300/300 [01:42<00:00,  2.92it/s]\n",
      "  0%|          | 0/648 [00:00<?, ?it/s]"
     ]
    },
    {
     "name": "stdout",
     "output_type": "stream",
     "text": [
      "MC04\n"
     ]
    },
    {
     "name": "stderr",
     "output_type": "stream",
     "text": [
      "100%|██████████| 648/648 [03:56<00:00,  2.74it/s]\n",
      "100%|██████████| 373/373 [02:10<00:00,  2.87it/s]\n"
     ]
    }
   ],
   "source": [
    "n_steps = 2.5\n",
    "for pair in directories:\n",
    "    directory = pair[0]\n",
    "    label = pair[1]\n",
    "    print(directory)\n",
    "    for filename in os.listdir(directory):\n",
    "        if filename != 'Notes':\n",
    "            file = os.path.join(directory, filename)\n",
    "            file = os.path.join(file, 'wav_arrayMic')\n",
    "            if os.path.isdir(file):\n",
    "                for audiofile in tqdm(os.listdir(file)):\n",
    "                    f = os.path.join(file, audiofile)\n",
    "                    if os.path.isfile(f):\n",
    "                        if librosa.get_duration(filename=f) != 0:\n",
    "                            y, sr = librosa.load(f)\n",
    "                            \n",
    "                            y_changed = librosa.effects.pitch_shift(y, sr, n_steps=n_steps)\n",
    "                            ps = librosa.feature.melspectrogram(y=y_changed, sr=sr)\n",
    "                            #ps = librosa.feature.melspectrogram(y=y, sr=sr)\n",
    "                            if ps.shape[1] > 400 : continue\n",
    "                            PS = ps\n",
    "                            data[\"spect\"].append(PS.tolist())\n",
    "                            data[\"label\"].append(label)\n",
    "                            D.append( (np.array(padding(ps,128,400)), label) )"
   ]
  },
  {
   "cell_type": "code",
   "execution_count": 43,
   "id": "a2207dc6",
   "metadata": {},
   "outputs": [
    {
     "name": "stdout",
     "output_type": "stream",
     "text": [
      "Number of samples:  36880\n"
     ]
    }
   ],
   "source": [
    "print(\"Number of samples: \", len(D))"
   ]
  },
  {
   "cell_type": "code",
   "execution_count": 44,
   "id": "1b4cff8c",
   "metadata": {},
   "outputs": [],
   "source": [
    "dataset = D\n",
    "random.shuffle(dataset)\n",
    "\n",
    "train = dataset[:1000]\n",
    "dataset = dataset[1000:]\n",
    "validate = dataset[:200]\n",
    "dataset = dataset[200:]\n",
    "test = dataset[:100]\n",
    "rest = dataset[100:]\n",
    "\n",
    "X_train, y_train = zip(*train)\n",
    "X_validate, y_validate = zip(*validate)\n",
    "X_test, y_test = zip(*test)\n",
    "\n",
    "# Reshape for CNN input\n",
    "X_train = np.array([x.reshape( (128, 400, 1) ) for x in X_train])\n",
    "X_validate = np.array([x.reshape( (128, 400, 1) ) for x in X_validate])\n",
    "X_test = np.array([x.reshape( (128, 400, 1) ) for x in X_test])"
   ]
  },
  {
   "cell_type": "code",
   "execution_count": 45,
   "id": "306941c6",
   "metadata": {},
   "outputs": [],
   "source": [
    "from tensorflow.keras.utils import to_categorical\n",
    "from sklearn.preprocessing import LabelEncoder\n",
    "labelencoder=LabelEncoder()\n",
    "#y=to_categorical(labelencoder.fit_transform(y))\n",
    "#y\n",
    "y_train = np.array(to_categorical(labelencoder.fit_transform(y_train)))\n",
    "y_validate = np.array(to_categorical(labelencoder.fit_transform(y_validate)))\n",
    "y_test = np.array(to_categorical(labelencoder.fit_transform(y_test)))"
   ]
  },
  {
   "cell_type": "code",
   "execution_count": 46,
   "id": "a1272bd9",
   "metadata": {},
   "outputs": [
    {
     "data": {
      "text/plain": [
       "((1000, 128, 400, 1),\n",
       " (200, 128, 400, 1),\n",
       " (100, 128, 400, 1),\n",
       " (1000, 2),\n",
       " (200, 2),\n",
       " (100, 2))"
      ]
     },
     "execution_count": 46,
     "metadata": {},
     "output_type": "execute_result"
    }
   ],
   "source": [
    "X_train.shape, X_validate.shape, X_test.shape, y_train.shape, y_validate.shape, y_test.shape"
   ]
  },
  {
   "cell_type": "code",
   "execution_count": 47,
   "id": "f44f723b",
   "metadata": {},
   "outputs": [
    {
     "name": "stdout",
     "output_type": "stream",
     "text": [
      "Epoch 1/12\n",
      "32/32 [==============================] - 138s 4s/step - loss: 0.4858 - accuracy: 0.8709 - val_loss: 0.5339 - val_accuracy: 0.8850\n",
      "Epoch 2/12\n",
      "32/32 [==============================] - 122s 4s/step - loss: 0.4455 - accuracy: 0.8791 - val_loss: 0.4209 - val_accuracy: 0.8400\n",
      "Epoch 3/12\n",
      "32/32 [==============================] - 125s 4s/step - loss: 0.2785 - accuracy: 0.8920 - val_loss: 0.4568 - val_accuracy: 0.8450\n",
      "Epoch 4/12\n",
      "32/32 [==============================] - 123s 4s/step - loss: 0.2422 - accuracy: 0.9099 - val_loss: 0.5338 - val_accuracy: 0.8750\n",
      "Epoch 5/12\n",
      "32/32 [==============================] - 121s 4s/step - loss: 0.2216 - accuracy: 0.9237 - val_loss: 0.4315 - val_accuracy: 0.8600\n",
      "Epoch 6/12\n",
      "32/32 [==============================] - 125s 4s/step - loss: 0.2221 - accuracy: 0.9093 - val_loss: 0.3051 - val_accuracy: 0.8900\n",
      "Epoch 7/12\n",
      "32/32 [==============================] - 116s 4s/step - loss: 0.1881 - accuracy: 0.9311 - val_loss: 0.4220 - val_accuracy: 0.8750\n",
      "Epoch 8/12\n",
      "32/32 [==============================] - 124s 4s/step - loss: 0.1913 - accuracy: 0.9290 - val_loss: 0.4247 - val_accuracy: 0.8650\n",
      "Epoch 9/12\n",
      "32/32 [==============================] - 122s 4s/step - loss: 0.1574 - accuracy: 0.9465 - val_loss: 0.5601 - val_accuracy: 0.8500\n",
      "Epoch 10/12\n",
      "32/32 [==============================] - 120s 4s/step - loss: 0.4469 - accuracy: 0.8964 - val_loss: 0.4520 - val_accuracy: 0.8750\n",
      "Epoch 11/12\n",
      "32/32 [==============================] - 123s 4s/step - loss: 0.2461 - accuracy: 0.9075 - val_loss: 0.4326 - val_accuracy: 0.8550\n",
      "Epoch 12/12\n",
      "32/32 [==============================] - 118s 4s/step - loss: 0.2193 - accuracy: 0.9159 - val_loss: 0.3911 - val_accuracy: 0.8650\n",
      "4/4 [==============================] - 3s 733ms/step - loss: 0.4612 - accuracy: 0.8100\n",
      "Test loss: 0.4611688554286957\n",
      "Test accuracy: 0.8100000023841858\n"
     ]
    }
   ],
   "source": [
    "model.compile(\n",
    "\toptimizer=\"Adam\",\n",
    "\tloss=\"categorical_crossentropy\",\n",
    "\tmetrics=['accuracy'])\n",
    "\n",
    "model.fit(\n",
    "\tx=X_train, \n",
    "\ty=y_train,\n",
    "    epochs=12,\n",
    "    batch_size=32,\n",
    "    validation_data= (X_validate, y_validate))\n",
    "\n",
    "score = model.evaluate(\n",
    "\tx=X_test,\n",
    "\ty=y_test)\n",
    "\n",
    "print('Test loss:', score[0])\n",
    "print('Test accuracy:', score[1])"
   ]
  },
  {
   "cell_type": "code",
   "execution_count": 48,
   "id": "32db26de",
   "metadata": {},
   "outputs": [
    {
     "name": "stderr",
     "output_type": "stream",
     "text": [
      "\r",
      "  0%|          | 0/134 [00:00<?, ?it/s]"
     ]
    },
    {
     "name": "stdout",
     "output_type": "stream",
     "text": [
      "F01\n"
     ]
    },
    {
     "name": "stderr",
     "output_type": "stream",
     "text": [
      "100%|██████████| 134/134 [00:23<00:00,  5.78it/s]\n",
      "  0%|          | 0/204 [00:00<?, ?it/s]"
     ]
    },
    {
     "name": "stdout",
     "output_type": "stream",
     "text": [
      "F03\n"
     ]
    },
    {
     "name": "stderr",
     "output_type": "stream",
     "text": [
      "100%|██████████| 204/204 [00:31<00:00,  6.41it/s]\n",
      "100%|██████████| 435/435 [01:04<00:00,  6.71it/s]\n",
      "100%|██████████| 209/209 [00:35<00:00,  5.95it/s]\n",
      "  0%|          | 0/199 [00:00<?, ?it/s]"
     ]
    },
    {
     "name": "stdout",
     "output_type": "stream",
     "text": [
      "F04\n"
     ]
    },
    {
     "name": "stderr",
     "output_type": "stream",
     "text": [
      "100%|██████████| 199/199 [00:30<00:00,  6.44it/s]\n",
      "100%|██████████| 249/249 [00:49<00:00,  5.05it/s]\n",
      "  0%|          | 0/256 [00:00<?, ?it/s]"
     ]
    },
    {
     "name": "stdout",
     "output_type": "stream",
     "text": [
      "FC01\n"
     ]
    },
    {
     "name": "stderr",
     "output_type": "stream",
     "text": [
      "100%|██████████| 256/256 [00:49<00:00,  5.19it/s]\n",
      "  0%|          | 0/269 [00:00<?, ?it/s]"
     ]
    },
    {
     "name": "stdout",
     "output_type": "stream",
     "text": [
      "FC02\n"
     ]
    },
    {
     "name": "stderr",
     "output_type": "stream",
     "text": [
      "100%|██████████| 269/269 [00:57<00:00,  4.69it/s]\n",
      "100%|██████████| 992/992 [03:46<00:00,  4.37it/s]\n",
      "  0%|          | 0/400 [00:00<?, ?it/s]"
     ]
    },
    {
     "name": "stdout",
     "output_type": "stream",
     "text": [
      "FC03\n"
     ]
    },
    {
     "name": "stderr",
     "output_type": "stream",
     "text": [
      "100%|██████████| 400/400 [11:19<00:00,  1.70s/it]   \n",
      "100%|██████████| 387/387 [01:09<00:00,  5.59it/s]\n",
      "100%|██████████| 208/208 [00:33<00:00,  6.23it/s]\n",
      "  0%|          | 0/100 [00:00<?, ?it/s]"
     ]
    },
    {
     "name": "stdout",
     "output_type": "stream",
     "text": [
      "M01\n"
     ]
    },
    {
     "name": "stderr",
     "output_type": "stream",
     "text": [
      "100%|██████████| 100/100 [00:27<00:00,  3.66it/s]\n",
      "100%|██████████| 286/286 [01:00<00:00,  4.70it/s]\n",
      "  0%|          | 0/240 [00:00<?, ?it/s]"
     ]
    },
    {
     "name": "stdout",
     "output_type": "stream",
     "text": [
      "M02\n"
     ]
    },
    {
     "name": "stderr",
     "output_type": "stream",
     "text": [
      "100%|██████████| 240/240 [00:43<00:00,  5.49it/s]\n",
      "100%|██████████| 160/160 [00:43<00:00,  3.68it/s]\n",
      "  0%|          | 0/416 [00:00<?, ?it/s]"
     ]
    },
    {
     "name": "stdout",
     "output_type": "stream",
     "text": [
      "M03\n"
     ]
    },
    {
     "name": "stderr",
     "output_type": "stream",
     "text": [
      "100%|██████████| 416/416 [01:28<00:00,  4.69it/s]\n",
      "  0%|          | 0/126 [00:00<?, ?it/s]"
     ]
    },
    {
     "name": "stdout",
     "output_type": "stream",
     "text": [
      "M04\n"
     ]
    },
    {
     "name": "stderr",
     "output_type": "stream",
     "text": [
      "100%|██████████| 126/126 [00:33<00:00,  3.80it/s]\n",
      "100%|██████████| 295/295 [01:07<00:00,  4.40it/s]\n",
      "  0%|          | 0/128 [00:00<?, ?it/s]"
     ]
    },
    {
     "name": "stdout",
     "output_type": "stream",
     "text": [
      "M05\n"
     ]
    },
    {
     "name": "stderr",
     "output_type": "stream",
     "text": [
      "100%|██████████| 128/128 [00:32<00:00,  3.97it/s]\n",
      "  0%|          | 0/329 [00:00<?, ?it/s]"
     ]
    },
    {
     "name": "stdout",
     "output_type": "stream",
     "text": [
      "MC01\n"
     ]
    },
    {
     "name": "stderr",
     "output_type": "stream",
     "text": [
      "100%|██████████| 329/329 [01:11<00:00,  4.59it/s]\n",
      "100%|██████████| 360/360 [01:02<00:00,  5.79it/s]\n",
      "100%|██████████| 419/419 [01:23<00:00,  5.00it/s]\n",
      "  0%|          | 0/388 [00:00<?, ?it/s]"
     ]
    },
    {
     "name": "stdout",
     "output_type": "stream",
     "text": [
      "MC02\n"
     ]
    },
    {
     "name": "stderr",
     "output_type": "stream",
     "text": [
      "100%|██████████| 388/388 [01:23<00:00,  4.64it/s]\n",
      "100%|██████████| 307/307 [01:07<00:00,  4.55it/s]\n",
      "  0%|          | 0/600 [00:00<?, ?it/s]"
     ]
    },
    {
     "name": "stdout",
     "output_type": "stream",
     "text": [
      "MC03\n"
     ]
    },
    {
     "name": "stderr",
     "output_type": "stream",
     "text": [
      "100%|██████████| 600/600 [01:34<00:00,  6.32it/s]\n",
      "100%|██████████| 300/300 [00:43<00:00,  6.86it/s]\n",
      "  0%|          | 0/648 [00:00<?, ?it/s]"
     ]
    },
    {
     "name": "stdout",
     "output_type": "stream",
     "text": [
      "MC04\n"
     ]
    },
    {
     "name": "stderr",
     "output_type": "stream",
     "text": [
      "100%|██████████| 648/648 [01:41<00:00,  6.38it/s]\n",
      "100%|██████████| 373/373 [00:55<00:00,  6.72it/s]\n"
     ]
    }
   ],
   "source": [
    "for pair in directories:\n",
    "    directory = pair[0]\n",
    "    label = pair[1]\n",
    "    print(directory)\n",
    "    for filename in os.listdir(directory):\n",
    "        if filename != 'Notes':\n",
    "            file = os.path.join(directory, filename)\n",
    "            file = os.path.join(file, 'wav_arrayMic')\n",
    "            if os.path.isdir(file):\n",
    "                for audiofile in tqdm(os.listdir(file)):\n",
    "                    f = os.path.join(file, audiofile)\n",
    "                    if os.path.isfile(f):\n",
    "                        if librosa.get_duration(filename=f) != 0:\n",
    "                            y, sr = librosa.load(f)\n",
    "                            ps = librosa.feature.melspectrogram(y=y, sr=sr)\n",
    "                            #ps = librosa.feature.melspectrogram(y=y, sr=sr)\n",
    "                            if ps.shape[1] > 400 : continue\n",
    "                            PS = ps\n",
    "                            data[\"spect\"].append(PS.tolist())\n",
    "                            data[\"label\"].append(label)\n",
    "                            D.append( (np.array(padding(ps,128,400)), label) )"
   ]
  },
  {
   "cell_type": "code",
   "execution_count": 49,
   "id": "a6dcfdd8",
   "metadata": {},
   "outputs": [
    {
     "name": "stdout",
     "output_type": "stream",
     "text": [
      "Number of samples:  46118\n"
     ]
    }
   ],
   "source": [
    "print(\"Number of samples: \", len(D))"
   ]
  },
  {
   "cell_type": "code",
   "execution_count": 50,
   "id": "a6566590",
   "metadata": {},
   "outputs": [],
   "source": [
    "dataset = D\n",
    "random.shuffle(dataset)\n",
    "\n",
    "train = dataset[:1000]\n",
    "dataset = dataset[1000:]\n",
    "validate = dataset[:200]\n",
    "dataset = dataset[200:]\n",
    "test = dataset[:100]\n",
    "rest = dataset[100:]\n",
    "\n",
    "X_train, y_train = zip(*train)\n",
    "X_validate, y_validate = zip(*validate)\n",
    "X_test, y_test = zip(*test)\n",
    "\n",
    "# Reshape for CNN input\n",
    "X_train = np.array([x.reshape( (128, 400, 1) ) for x in X_train])\n",
    "X_validate = np.array([x.reshape( (128, 400, 1) ) for x in X_validate])\n",
    "X_test = np.array([x.reshape( (128, 400, 1) ) for x in X_test])"
   ]
  },
  {
   "cell_type": "code",
   "execution_count": 51,
   "id": "0fcba586",
   "metadata": {},
   "outputs": [],
   "source": [
    "from tensorflow.keras.utils import to_categorical\n",
    "from sklearn.preprocessing import LabelEncoder\n",
    "labelencoder=LabelEncoder()\n",
    "#y=to_categorical(labelencoder.fit_transform(y))\n",
    "#y\n",
    "y_train = np.array(to_categorical(labelencoder.fit_transform(y_train)))\n",
    "y_validate = np.array(to_categorical(labelencoder.fit_transform(y_validate)))\n",
    "y_test = np.array(to_categorical(labelencoder.fit_transform(y_test)))"
   ]
  },
  {
   "cell_type": "code",
   "execution_count": 52,
   "id": "4c649e2f",
   "metadata": {},
   "outputs": [
    {
     "data": {
      "text/plain": [
       "((1000, 128, 400, 1),\n",
       " (200, 128, 400, 1),\n",
       " (100, 128, 400, 1),\n",
       " (1000, 2),\n",
       " (200, 2),\n",
       " (100, 2))"
      ]
     },
     "execution_count": 52,
     "metadata": {},
     "output_type": "execute_result"
    }
   ],
   "source": [
    "X_train.shape, X_validate.shape, X_test.shape, y_train.shape, y_validate.shape, y_test.shape"
   ]
  },
  {
   "cell_type": "code",
   "execution_count": 53,
   "id": "d2bec738",
   "metadata": {},
   "outputs": [
    {
     "name": "stdout",
     "output_type": "stream",
     "text": [
      "Epoch 1/12\n",
      "32/32 [==============================] - 158s 5s/step - loss: 0.4292 - accuracy: 0.8663 - val_loss: 0.3750 - val_accuracy: 0.8500\n",
      "Epoch 2/12\n",
      "32/32 [==============================] - 148s 5s/step - loss: 0.3353 - accuracy: 0.8808 - val_loss: 0.3254 - val_accuracy: 0.8850\n",
      "Epoch 3/12\n",
      "32/32 [==============================] - 149s 5s/step - loss: 0.3261 - accuracy: 0.8701 - val_loss: 0.3695 - val_accuracy: 0.9150\n",
      "Epoch 4/12\n",
      "32/32 [==============================] - 152s 5s/step - loss: 0.2684 - accuracy: 0.8903 - val_loss: 0.4273 - val_accuracy: 0.8450\n",
      "Epoch 5/12\n",
      "32/32 [==============================] - 149s 5s/step - loss: 0.2943 - accuracy: 0.9102 - val_loss: 0.3529 - val_accuracy: 0.9000\n",
      "Epoch 6/12\n",
      "32/32 [==============================] - 148s 5s/step - loss: 0.2520 - accuracy: 0.9004 - val_loss: 0.3890 - val_accuracy: 0.8950\n",
      "Epoch 7/12\n",
      "32/32 [==============================] - 148s 5s/step - loss: 0.2211 - accuracy: 0.9285 - val_loss: 0.4325 - val_accuracy: 0.8900\n",
      "Epoch 8/12\n",
      "32/32 [==============================] - 148s 5s/step - loss: 0.1837 - accuracy: 0.9354 - val_loss: 0.4302 - val_accuracy: 0.8950\n",
      "Epoch 9/12\n",
      "32/32 [==============================] - 150s 5s/step - loss: 0.1633 - accuracy: 0.9482 - val_loss: 0.4109 - val_accuracy: 0.8850\n",
      "Epoch 10/12\n",
      "32/32 [==============================] - 147s 5s/step - loss: 0.1705 - accuracy: 0.9507 - val_loss: 0.6460 - val_accuracy: 0.8750\n",
      "Epoch 11/12\n",
      "32/32 [==============================] - 145s 5s/step - loss: 0.7491 - accuracy: 0.8855 - val_loss: 0.4405 - val_accuracy: 0.8650\n",
      "Epoch 12/12\n",
      "32/32 [==============================] - 142s 4s/step - loss: 0.2428 - accuracy: 0.9033 - val_loss: 0.5158 - val_accuracy: 0.8800\n",
      "4/4 [==============================] - 3s 797ms/step - loss: 0.3463 - accuracy: 0.8700\n",
      "Test loss: 0.3462558388710022\n",
      "Test accuracy: 0.8700000047683716\n"
     ]
    }
   ],
   "source": [
    "model.compile(\n",
    "\toptimizer=\"Adam\",\n",
    "\tloss=\"categorical_crossentropy\",\n",
    "\tmetrics=['accuracy'])\n",
    "\n",
    "model.fit(\n",
    "\tx=X_train, \n",
    "\ty=y_train,\n",
    "    epochs=12,\n",
    "    batch_size=32,\n",
    "    validation_data= (X_validate, y_validate))\n",
    "\n",
    "score = model.evaluate(\n",
    "\tx=X_test,\n",
    "\ty=y_test)\n",
    "\n",
    "print('Test loss:', score[0])\n",
    "print('Test accuracy:', score[1])"
   ]
  },
  {
   "cell_type": "code",
   "execution_count": 54,
   "id": "30a952e0",
   "metadata": {},
   "outputs": [
    {
     "name": "stdout",
     "output_type": "stream",
     "text": [
      "Number of samples:  46118\n"
     ]
    }
   ],
   "source": [
    "print(\"Number of samples: \", len(D))"
   ]
  },
  {
   "cell_type": "code",
   "execution_count": 55,
   "id": "bd035a40",
   "metadata": {},
   "outputs": [],
   "source": [
    "dataset = D\n",
    "random.shuffle(dataset)\n",
    "\n",
    "train = dataset[:44000]\n",
    "dataset = dataset[44000:]\n",
    "validate = dataset[:2000]\n",
    "test = dataset[2000:]\n",
    "\n",
    "X_train, y_train = zip(*train)\n",
    "X_validate, y_validate = zip(*validate)\n",
    "X_test, y_test = zip(*test)\n",
    "\n",
    "# Reshape for CNN input\n",
    "X_train = np.array([x.reshape( (128, 400, 1) ) for x in X_train])\n",
    "X_validate = np.array([x.reshape( (128, 400, 1) ) for x in X_validate])\n",
    "X_test = np.array([x.reshape( (128, 400, 1) ) for x in X_test])"
   ]
  },
  {
   "cell_type": "code",
   "execution_count": 56,
   "id": "2516c3a5",
   "metadata": {},
   "outputs": [],
   "source": [
    "from tensorflow.keras.utils import to_categorical\n",
    "from sklearn.preprocessing import LabelEncoder\n",
    "labelencoder=LabelEncoder()\n",
    "#y=to_categorical(labelencoder.fit_transform(y))\n",
    "#y\n",
    "y_train = np.array(to_categorical(labelencoder.fit_transform(y_train)))\n",
    "y_validate = np.array(to_categorical(labelencoder.fit_transform(y_validate)))\n",
    "y_test = np.array(to_categorical(labelencoder.fit_transform(y_test)))"
   ]
  },
  {
   "cell_type": "code",
   "execution_count": 57,
   "id": "6e233244",
   "metadata": {},
   "outputs": [
    {
     "data": {
      "text/plain": [
       "((44000, 128, 400, 1),\n",
       " (2000, 128, 400, 1),\n",
       " (118, 128, 400, 1),\n",
       " (44000, 2),\n",
       " (2000, 2),\n",
       " (118, 2))"
      ]
     },
     "execution_count": 57,
     "metadata": {},
     "output_type": "execute_result"
    }
   ],
   "source": [
    "X_train.shape, X_validate.shape, X_test.shape, y_train.shape, y_validate.shape, y_test.shape"
   ]
  },
  {
   "cell_type": "code",
   "execution_count": 2,
   "id": "81244c9b",
   "metadata": {},
   "outputs": [
    {
     "ename": "NameError",
     "evalue": "name 'Sequential' is not defined",
     "output_type": "error",
     "traceback": [
      "\u001b[1;31m---------------------------------------------------------------------------\u001b[0m",
      "\u001b[1;31mNameError\u001b[0m                                 Traceback (most recent call last)",
      "\u001b[1;32m<ipython-input-2-9c7da31c9902>\u001b[0m in \u001b[0;36m<module>\u001b[1;34m\u001b[0m\n\u001b[1;32m----> 1\u001b[1;33m \u001b[0mmodel\u001b[0m \u001b[1;33m=\u001b[0m \u001b[0mSequential\u001b[0m\u001b[1;33m(\u001b[0m\u001b[1;33m)\u001b[0m\u001b[1;33m\u001b[0m\u001b[1;33m\u001b[0m\u001b[0m\n\u001b[0m\u001b[0;32m      2\u001b[0m \u001b[0minput_shape\u001b[0m\u001b[1;33m=\u001b[0m\u001b[1;33m(\u001b[0m\u001b[1;36m128\u001b[0m\u001b[1;33m,\u001b[0m \u001b[1;36m400\u001b[0m\u001b[1;33m,\u001b[0m \u001b[1;36m1\u001b[0m\u001b[1;33m)\u001b[0m\u001b[1;33m\u001b[0m\u001b[1;33m\u001b[0m\u001b[0m\n\u001b[0;32m      3\u001b[0m \u001b[1;33m\u001b[0m\u001b[0m\n\u001b[0;32m      4\u001b[0m \u001b[0mmodel\u001b[0m\u001b[1;33m.\u001b[0m\u001b[0madd\u001b[0m\u001b[1;33m(\u001b[0m\u001b[0mConv2D\u001b[0m\u001b[1;33m(\u001b[0m\u001b[1;36m24\u001b[0m\u001b[1;33m,\u001b[0m \u001b[1;33m(\u001b[0m\u001b[1;36m5\u001b[0m\u001b[1;33m,\u001b[0m \u001b[1;36m5\u001b[0m\u001b[1;33m)\u001b[0m\u001b[1;33m,\u001b[0m \u001b[0mstrides\u001b[0m\u001b[1;33m=\u001b[0m\u001b[1;33m(\u001b[0m\u001b[1;36m1\u001b[0m\u001b[1;33m,\u001b[0m \u001b[1;36m1\u001b[0m\u001b[1;33m)\u001b[0m\u001b[1;33m,\u001b[0m \u001b[0minput_shape\u001b[0m\u001b[1;33m=\u001b[0m\u001b[0minput_shape\u001b[0m\u001b[1;33m)\u001b[0m\u001b[1;33m)\u001b[0m\u001b[1;33m\u001b[0m\u001b[1;33m\u001b[0m\u001b[0m\n\u001b[0;32m      5\u001b[0m \u001b[0mmodel\u001b[0m\u001b[1;33m.\u001b[0m\u001b[0madd\u001b[0m\u001b[1;33m(\u001b[0m\u001b[0mMaxPooling2D\u001b[0m\u001b[1;33m(\u001b[0m\u001b[1;33m(\u001b[0m\u001b[1;36m4\u001b[0m\u001b[1;33m,\u001b[0m \u001b[1;36m2\u001b[0m\u001b[1;33m)\u001b[0m\u001b[1;33m,\u001b[0m \u001b[0mstrides\u001b[0m\u001b[1;33m=\u001b[0m\u001b[1;33m(\u001b[0m\u001b[1;36m4\u001b[0m\u001b[1;33m,\u001b[0m \u001b[1;36m2\u001b[0m\u001b[1;33m)\u001b[0m\u001b[1;33m)\u001b[0m\u001b[1;33m)\u001b[0m\u001b[1;33m\u001b[0m\u001b[1;33m\u001b[0m\u001b[0m\n",
      "\u001b[1;31mNameError\u001b[0m: name 'Sequential' is not defined"
     ]
    }
   ],
   "source": [
    "model = Sequential()\n",
    "input_shape=(128, 400, 1)\n",
    "\n",
    "model.add(Conv2D(24, (5, 5), strides=(1, 1), input_shape=input_shape))\n",
    "model.add(MaxPooling2D((4, 2), strides=(4, 2)))\n",
    "model.add(Activation('relu'))\n",
    "\n",
    "model.add(Conv2D(48, (5, 5), padding=\"valid\"))\n",
    "model.add(MaxPooling2D((4, 2), strides=(4, 2)))\n",
    "model.add(Activation('relu'))\n",
    "\n",
    "model.add(Conv2D(48, (5, 5), padding=\"valid\"))\n",
    "model.add(Activation('relu'))\n",
    "\n",
    "model.add(Flatten())\n",
    "model.add(Dropout(rate=0.5))\n",
    "\n",
    "model.add(Dense(64))\n",
    "model.add(Activation('relu'))\n",
    "model.add(Dropout(rate=0.5))\n",
    "\n",
    "model.add(Dense(2))\n",
    "model.add(Activation('softmax'))\n",
    "\n",
    "model.summary()"
   ]
  },
  {
   "cell_type": "code",
   "execution_count": 3,
   "id": "8263844d",
   "metadata": {},
   "outputs": [
    {
     "ename": "NameError",
     "evalue": "name 'model' is not defined",
     "output_type": "error",
     "traceback": [
      "\u001b[1;31m---------------------------------------------------------------------------\u001b[0m",
      "\u001b[1;31mNameError\u001b[0m                                 Traceback (most recent call last)",
      "\u001b[1;32m<ipython-input-3-4d9c8d4be4ac>\u001b[0m in \u001b[0;36m<module>\u001b[1;34m\u001b[0m\n\u001b[1;32m----> 1\u001b[1;33m model.compile(\n\u001b[0m\u001b[0;32m      2\u001b[0m         \u001b[0moptimizer\u001b[0m\u001b[1;33m=\u001b[0m\u001b[1;34m\"Adam\"\u001b[0m\u001b[1;33m,\u001b[0m\u001b[1;33m\u001b[0m\u001b[1;33m\u001b[0m\u001b[0m\n\u001b[0;32m      3\u001b[0m         \u001b[0mloss\u001b[0m\u001b[1;33m=\u001b[0m\u001b[1;34m\"categorical_crossentropy\"\u001b[0m\u001b[1;33m,\u001b[0m\u001b[1;33m\u001b[0m\u001b[1;33m\u001b[0m\u001b[0m\n\u001b[0;32m      4\u001b[0m \tmetrics=['accuracy'])\n\u001b[0;32m      5\u001b[0m \u001b[1;33m\u001b[0m\u001b[0m\n",
      "\u001b[1;31mNameError\u001b[0m: name 'model' is not defined"
     ]
    }
   ],
   "source": [
    "model.compile(\n",
    "\toptimizer=\"Adam\",\n",
    "\tloss=\"categorical_crossentropy\",\n",
    "\tmetrics=['accuracy'])\n",
    "\n",
    "model.fit(\n",
    "\tx=X_train, \n",
    "\ty=y_train,\n",
    "    epochs=12,\n",
    "    batch_size=128,\n",
    "    validation_data= (X_validate, y_validate))\n",
    "\n",
    "score = model.evaluate(\n",
    "\tx=X_test,\n",
    "\ty=y_test)\n",
    "\n",
    "print('Test loss:', score[0])\n",
    "print('Test accuracy:', score[1])"
   ]
  },
  {
   "cell_type": "code",
   "execution_count": null,
   "id": "4cf549c5",
   "metadata": {},
   "outputs": [],
   "source": []
  }
 ],
 "metadata": {
  "kernelspec": {
   "display_name": "Python 3",
   "language": "python",
   "name": "python3"
  },
  "language_info": {
   "codemirror_mode": {
    "name": "ipython",
    "version": 3
   },
   "file_extension": ".py",
   "mimetype": "text/x-python",
   "name": "python",
   "nbconvert_exporter": "python",
   "pygments_lexer": "ipython3",
   "version": "3.8.8"
  }
 },
 "nbformat": 4,
 "nbformat_minor": 5
}
