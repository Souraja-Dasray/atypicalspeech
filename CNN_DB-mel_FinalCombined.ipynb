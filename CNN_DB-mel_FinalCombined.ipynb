{
 "cells": [
  {
   "cell_type": "code",
   "execution_count": 1,
   "id": "149b0faf",
   "metadata": {},
   "outputs": [],
   "source": [
    "import keras\n",
    "from keras.layers import Activation, Dense, Dropout, Conv2D, \\\n",
    "                         Flatten, MaxPooling2D\n",
    "from keras.models import Sequential\n",
    "import librosa\n",
    "import librosa.display\n",
    "import numpy as np\n",
    "import pandas as pd\n",
    "import random\n",
    "import json\n",
    "\n",
    "import warnings\n",
    "warnings.filterwarnings('ignore')"
   ]
  },
  {
   "cell_type": "code",
   "execution_count": 2,
   "id": "6d3a8956",
   "metadata": {},
   "outputs": [],
   "source": [
    "import numpy as np\n",
    "\n",
    "\n",
    "def padding(array, xx, yy):\n",
    "    \"\"\"\n",
    "    :param array: numpy array\n",
    "    :param xx: desired height\n",
    "    :param yy: desirex width\n",
    "    :return: padded array\n",
    "    \"\"\"\n",
    "\n",
    "    h = array.shape[0]\n",
    "    w = array.shape[1]\n",
    "\n",
    "    a = (xx - h) // 2\n",
    "    aa = xx - a - h\n",
    "\n",
    "    b = (yy - w) // 2\n",
    "    bb = yy - b - w\n",
    "\n",
    "    return np.pad(array, pad_width=((a, aa), (b, bb)), mode='constant')"
   ]
  },
  {
   "cell_type": "code",
   "execution_count": 3,
   "id": "5337d14d",
   "metadata": {},
   "outputs": [],
   "source": [
    "with open('CNN_DB-mel_Original.json', \"r\") as f:\n",
    "    data1 = json.load(f)\n",
    "    \n",
    "x1 = data1['spect']\n",
    "y1 = data1['label']"
   ]
  },
  {
   "cell_type": "code",
   "execution_count": 4,
   "id": "611e8616",
   "metadata": {},
   "outputs": [],
   "source": [
    "D = []\n",
    "for ps,label in zip(x1,y1):\n",
    "    D.append( (np.array(padding(np.array(ps),128,400)), label) )"
   ]
  },
  {
   "cell_type": "code",
   "execution_count": 5,
   "id": "a65f9fab",
   "metadata": {},
   "outputs": [
    {
     "data": {
      "text/plain": [
       "0"
      ]
     },
     "execution_count": 5,
     "metadata": {},
     "output_type": "execute_result"
    }
   ],
   "source": [
    "import gc\n",
    "\n",
    "del data1\n",
    "del x1\n",
    "del y1\n",
    "gc.collect()"
   ]
  },
  {
   "cell_type": "code",
   "execution_count": 7,
   "id": "133ed3e7",
   "metadata": {},
   "outputs": [],
   "source": [
    "with open('CNN_DB-mel_RateBoosted_0.81.json', \"r\") as f:\n",
    "    data2 = json.load(f)\n",
    "    \n",
    "x2 = data2['spect']\n",
    "y2 = data2['label']"
   ]
  },
  {
   "cell_type": "code",
   "execution_count": 8,
   "id": "62997505",
   "metadata": {},
   "outputs": [],
   "source": [
    "for ps,label in zip(x2,y2):\n",
    "    D.append( (np.array(padding(np.array(ps),128,400)), label) )"
   ]
  },
  {
   "cell_type": "code",
   "execution_count": 9,
   "id": "f18bc9d2",
   "metadata": {},
   "outputs": [
    {
     "data": {
      "text/plain": [
       "0"
      ]
     },
     "execution_count": 9,
     "metadata": {},
     "output_type": "execute_result"
    }
   ],
   "source": [
    "del data2\n",
    "del x2\n",
    "del y2\n",
    "gc.collect()"
   ]
  },
  {
   "cell_type": "code",
   "execution_count": 10,
   "id": "24cc2e61",
   "metadata": {},
   "outputs": [],
   "source": [
    "with open('CNN_DB-mel_PitchBoosted_2.5.json', \"r\") as f:\n",
    "    data3 = json.load(f)\n",
    "    \n",
    "x3 = data3['spect']\n",
    "y3 = data3['label']"
   ]
  },
  {
   "cell_type": "code",
   "execution_count": 11,
   "id": "b32475e1",
   "metadata": {},
   "outputs": [],
   "source": [
    "for ps,label in zip(x3,y3):\n",
    "    D.append( (np.array(padding(np.array(ps),128,400)), label) )"
   ]
  },
  {
   "cell_type": "code",
   "execution_count": 12,
   "id": "38e681d4",
   "metadata": {},
   "outputs": [
    {
     "data": {
      "text/plain": [
       "0"
      ]
     },
     "execution_count": 12,
     "metadata": {},
     "output_type": "execute_result"
    }
   ],
   "source": [
    "del data3\n",
    "del x3\n",
    "del y3\n",
    "gc.collect()"
   ]
  },
  {
   "cell_type": "code",
   "execution_count": 13,
   "id": "2902dcf2",
   "metadata": {},
   "outputs": [
    {
     "data": {
      "text/plain": [
       "36805"
      ]
     },
     "execution_count": 13,
     "metadata": {},
     "output_type": "execute_result"
    }
   ],
   "source": [
    "with open('CNN_DB-mel_PitchBoosted_-2.5.json', \"r\") as f:\n",
    "    data4 = json.load(f)\n",
    "    \n",
    "x4 = data4['spect']\n",
    "y4 = data4['label']\n",
    "\n",
    "for ps,label in zip(x4,y4):\n",
    "    D.append( (np.array(padding(np.array(ps),128,400)), label) )\n",
    "    \n",
    "len(D)"
   ]
  },
  {
   "cell_type": "code",
   "execution_count": 14,
   "id": "b865649c",
   "metadata": {},
   "outputs": [
    {
     "data": {
      "text/plain": [
       "0"
      ]
     },
     "execution_count": 14,
     "metadata": {},
     "output_type": "execute_result"
    }
   ],
   "source": [
    "del data4\n",
    "del x4\n",
    "del y4\n",
    "gc.collect()"
   ]
  },
  {
   "cell_type": "code",
   "execution_count": 15,
   "id": "6008673f",
   "metadata": {},
   "outputs": [
    {
     "data": {
      "text/plain": [
       "46043"
      ]
     },
     "execution_count": 15,
     "metadata": {},
     "output_type": "execute_result"
    }
   ],
   "source": [
    "with open('CNN_DB-mel_SpecAugumentation.json', \"r\") as f:\n",
    "    data5 = json.load(f)\n",
    "    \n",
    "x5 = data5['spect']\n",
    "y5 = data5['label']\n",
    "\n",
    "for ps,label in zip(x5,y5):\n",
    "    D.append( (np.array(padding(np.array(ps),128,400)), label) )\n",
    "    \n",
    "len(D)"
   ]
  },
  {
   "cell_type": "code",
   "execution_count": 16,
   "id": "9fd9ad5b",
   "metadata": {},
   "outputs": [
    {
     "data": {
      "text/plain": [
       "0"
      ]
     },
     "execution_count": 16,
     "metadata": {},
     "output_type": "execute_result"
    }
   ],
   "source": [
    "del data5\n",
    "del x5\n",
    "del y5\n",
    "gc.collect()"
   ]
  },
  {
   "cell_type": "code",
   "execution_count": 17,
   "id": "b01468bb",
   "metadata": {},
   "outputs": [
    {
     "data": {
      "text/plain": [
       "55317"
      ]
     },
     "execution_count": 17,
     "metadata": {},
     "output_type": "execute_result"
    }
   ],
   "source": [
    "with open('CNN_DB-mel_RateBoosted_1.07.json', \"r\") as f:\n",
    "    data6 = json.load(f)\n",
    "    \n",
    "x6 = data6['spect']\n",
    "y6 = data6['label']\n",
    "\n",
    "for ps,label in zip(x6,y6):\n",
    "    D.append( (np.array(padding(np.array(ps),128,400)), label) )\n",
    "    \n",
    "len(D)"
   ]
  },
  {
   "cell_type": "code",
   "execution_count": 18,
   "id": "ecba9908",
   "metadata": {},
   "outputs": [
    {
     "data": {
      "text/plain": [
       "0"
      ]
     },
     "execution_count": 18,
     "metadata": {},
     "output_type": "execute_result"
    }
   ],
   "source": [
    "del data6\n",
    "del x6\n",
    "del y6\n",
    "gc.collect()"
   ]
  },
  {
   "cell_type": "code",
   "execution_count": 22,
   "id": "e8cdb0dd",
   "metadata": {},
   "outputs": [
    {
     "data": {
      "text/plain": [
       "55317"
      ]
     },
     "execution_count": 22,
     "metadata": {},
     "output_type": "execute_result"
    }
   ],
   "source": [
    "len(D)"
   ]
  },
  {
   "cell_type": "code",
   "execution_count": 23,
   "id": "9b551932",
   "metadata": {},
   "outputs": [
    {
     "data": {
      "text/plain": [
       "8"
      ]
     },
     "execution_count": 23,
     "metadata": {},
     "output_type": "execute_result"
    }
   ],
   "source": [
    "del dataset\n",
    "del train\n",
    "del validate\n",
    "del test\n",
    "gc.collect()"
   ]
  },
  {
   "cell_type": "code",
   "execution_count": 24,
   "id": "a9880770",
   "metadata": {},
   "outputs": [
    {
     "data": {
      "text/plain": [
       "0"
      ]
     },
     "execution_count": 24,
     "metadata": {},
     "output_type": "execute_result"
    }
   ],
   "source": [
    "del X_train\n",
    "del X_validate\n",
    "del X_test\n",
    "del y_train\n",
    "del y_validate\n",
    "del y_test\n",
    "gc.collect()"
   ]
  },
  {
   "cell_type": "code",
   "execution_count": 25,
   "id": "378f34aa",
   "metadata": {},
   "outputs": [
    {
     "data": {
      "text/plain": [
       "55317"
      ]
     },
     "execution_count": 25,
     "metadata": {},
     "output_type": "execute_result"
    }
   ],
   "source": [
    "random.shuffle(D)\n",
    "len(D)"
   ]
  },
  {
   "cell_type": "code",
   "execution_count": 26,
   "id": "8f4e315c",
   "metadata": {},
   "outputs": [
    {
     "data": {
      "text/plain": [
       "0"
      ]
     },
     "execution_count": 26,
     "metadata": {},
     "output_type": "execute_result"
    }
   ],
   "source": [
    "train = D[:44000]\n",
    "D = D[44000:]\n",
    "X_train, y_train = zip(*train)\n",
    "del train\n",
    "gc.collect()"
   ]
  },
  {
   "cell_type": "code",
   "execution_count": 27,
   "id": "3d51130c",
   "metadata": {},
   "outputs": [
    {
     "data": {
      "text/plain": [
       "0"
      ]
     },
     "execution_count": 27,
     "metadata": {},
     "output_type": "execute_result"
    }
   ],
   "source": [
    "validate = D[:5700]\n",
    "test = D[5700:]\n",
    "X_validate, y_validate = zip(*validate)\n",
    "X_test, y_test = zip(*test)\n",
    "del validate\n",
    "del test\n",
    "gc.collect()"
   ]
  },
  {
   "cell_type": "code",
   "execution_count": 28,
   "id": "35cde30b",
   "metadata": {},
   "outputs": [],
   "source": [
    "# Reshape for CNN input\n",
    "X_train = np.array([x.reshape( (128, 400, 1) ) for x in X_train])\n",
    "X_validate = np.array([x.reshape( (128, 400, 1) ) for x in X_validate])\n",
    "X_test = np.array([x.reshape( (128, 400, 1) ) for x in X_test])"
   ]
  },
  {
   "cell_type": "code",
   "execution_count": 32,
   "id": "2ffb4dba",
   "metadata": {},
   "outputs": [
    {
     "data": {
      "text/plain": [
       "26"
      ]
     },
     "execution_count": 32,
     "metadata": {},
     "output_type": "execute_result"
    }
   ],
   "source": [
    "gc.collect()"
   ]
  },
  {
   "cell_type": "code",
   "execution_count": 33,
   "id": "2af7902e",
   "metadata": {},
   "outputs": [],
   "source": [
    "from tensorflow.keras.utils import to_categorical\n",
    "from sklearn.preprocessing import LabelEncoder\n",
    "labelencoder=LabelEncoder()\n",
    "#y=to_categorical(labelencoder.fit_transform(y))\n",
    "#y\n",
    "y_train = np.array(to_categorical(labelencoder.fit_transform(y_train)))\n",
    "y_validate = np.array(to_categorical(labelencoder.fit_transform(y_validate)))\n",
    "y_test = np.array(to_categorical(labelencoder.fit_transform(y_test)))"
   ]
  },
  {
   "cell_type": "code",
   "execution_count": 34,
   "id": "c93ac4f5",
   "metadata": {},
   "outputs": [
    {
     "data": {
      "text/plain": [
       "((44000, 128, 400, 1),\n",
       " (5700, 128, 400, 1),\n",
       " (5617, 128, 400, 1),\n",
       " (44000, 2),\n",
       " (5700, 2),\n",
       " (5617, 2))"
      ]
     },
     "execution_count": 34,
     "metadata": {},
     "output_type": "execute_result"
    }
   ],
   "source": [
    "X_train.shape, X_validate.shape, X_test.shape, y_train.shape, y_validate.shape, y_test.shape"
   ]
  },
  {
   "cell_type": "code",
   "execution_count": 35,
   "id": "259b4b71",
   "metadata": {},
   "outputs": [
    {
     "data": {
      "text/plain": [
       "0"
      ]
     },
     "execution_count": 35,
     "metadata": {},
     "output_type": "execute_result"
    }
   ],
   "source": [
    "gc.collect()"
   ]
  },
  {
   "cell_type": "code",
   "execution_count": 36,
   "id": "a970d077",
   "metadata": {},
   "outputs": [
    {
     "name": "stdout",
     "output_type": "stream",
     "text": [
      "Model: \"sequential\"\n",
      "_________________________________________________________________\n",
      " Layer (type)                Output Shape              Param #   \n",
      "=================================================================\n",
      " conv2d (Conv2D)             (None, 124, 396, 24)      624       \n",
      "                                                                 \n",
      " max_pooling2d (MaxPooling2D  (None, 31, 198, 24)      0         \n",
      " )                                                               \n",
      "                                                                 \n",
      " activation (Activation)     (None, 31, 198, 24)       0         \n",
      "                                                                 \n",
      " conv2d_1 (Conv2D)           (None, 27, 194, 48)       28848     \n",
      "                                                                 \n",
      " max_pooling2d_1 (MaxPooling  (None, 6, 97, 48)        0         \n",
      " 2D)                                                             \n",
      "                                                                 \n",
      " activation_1 (Activation)   (None, 6, 97, 48)         0         \n",
      "                                                                 \n",
      " conv2d_2 (Conv2D)           (None, 2, 93, 48)         57648     \n",
      "                                                                 \n",
      " activation_2 (Activation)   (None, 2, 93, 48)         0         \n",
      "                                                                 \n",
      " flatten (Flatten)           (None, 8928)              0         \n",
      "                                                                 \n",
      " dropout (Dropout)           (None, 8928)              0         \n",
      "                                                                 \n",
      " dense (Dense)               (None, 64)                571456    \n",
      "                                                                 \n",
      " activation_3 (Activation)   (None, 64)                0         \n",
      "                                                                 \n",
      " dropout_1 (Dropout)         (None, 64)                0         \n",
      "                                                                 \n",
      " dense_1 (Dense)             (None, 2)                 130       \n",
      "                                                                 \n",
      " activation_4 (Activation)   (None, 2)                 0         \n",
      "                                                                 \n",
      "=================================================================\n",
      "Total params: 658,706\n",
      "Trainable params: 658,706\n",
      "Non-trainable params: 0\n",
      "_________________________________________________________________\n"
     ]
    }
   ],
   "source": [
    "model = Sequential()\n",
    "input_shape=(128, 400, 1)\n",
    "\n",
    "model.add(Conv2D(24, (5, 5), strides=(1, 1), input_shape=input_shape))\n",
    "model.add(MaxPooling2D((4, 2), strides=(4, 2)))\n",
    "model.add(Activation('relu'))\n",
    "\n",
    "model.add(Conv2D(48, (5, 5), padding=\"valid\"))\n",
    "model.add(MaxPooling2D((4, 2), strides=(4, 2)))\n",
    "model.add(Activation('relu'))\n",
    "\n",
    "model.add(Conv2D(48, (5, 5), padding=\"valid\"))\n",
    "model.add(Activation('relu'))\n",
    "\n",
    "model.add(Flatten())\n",
    "model.add(Dropout(rate=0.5))\n",
    "\n",
    "model.add(Dense(64))\n",
    "model.add(Activation('relu'))\n",
    "model.add(Dropout(rate=0.5))\n",
    "\n",
    "model.add(Dense(2))\n",
    "model.add(Activation('softmax'))\n",
    "\n",
    "model.summary()"
   ]
  },
  {
   "cell_type": "code",
   "execution_count": 37,
   "id": "76efe525",
   "metadata": {},
   "outputs": [
    {
     "name": "stdout",
     "output_type": "stream",
     "text": [
      "Epoch 1/25\n",
      "344/344 [==============================] - 998s 3s/step - loss: 0.6486 - accuracy: 0.6753 - val_loss: 0.5915 - val_accuracy: 0.6888\n",
      "Epoch 2/25\n",
      "344/344 [==============================] - 936s 3s/step - loss: 0.5673 - accuracy: 0.7258 - val_loss: 0.4919 - val_accuracy: 0.7811\n",
      "Epoch 3/25\n",
      "344/344 [==============================] - 875s 3s/step - loss: 0.5017 - accuracy: 0.7655 - val_loss: 0.4068 - val_accuracy: 0.8351\n",
      "Epoch 4/25\n",
      "344/344 [==============================] - 865s 3s/step - loss: 0.4191 - accuracy: 0.8122 - val_loss: 0.3146 - val_accuracy: 0.8684\n",
      "Epoch 5/25\n",
      "344/344 [==============================] - 863s 3s/step - loss: 0.3263 - accuracy: 0.8618 - val_loss: 0.2162 - val_accuracy: 0.9082\n",
      "Epoch 6/25\n",
      "344/344 [==============================] - 855s 2s/step - loss: 0.2502 - accuracy: 0.8975 - val_loss: 0.1728 - val_accuracy: 0.9268\n",
      "Epoch 7/25\n",
      "344/344 [==============================] - 860s 3s/step - loss: 0.1984 - accuracy: 0.9201 - val_loss: 0.1257 - val_accuracy: 0.9516\n",
      "Epoch 8/25\n",
      "344/344 [==============================] - 862s 3s/step - loss: 0.1728 - accuracy: 0.9323 - val_loss: 0.1097 - val_accuracy: 0.9591\n",
      "Epoch 9/25\n",
      "344/344 [==============================] - 942s 3s/step - loss: 0.1581 - accuracy: 0.9372 - val_loss: 0.1041 - val_accuracy: 0.9577\n",
      "Epoch 10/25\n",
      "344/344 [==============================] - 1015s 3s/step - loss: 0.1342 - accuracy: 0.9495 - val_loss: 0.0985 - val_accuracy: 0.9598\n",
      "Epoch 11/25\n",
      "344/344 [==============================] - 879s 3s/step - loss: 0.1205 - accuracy: 0.9538 - val_loss: 0.0946 - val_accuracy: 0.9628\n",
      "Epoch 12/25\n",
      "344/344 [==============================] - 868s 3s/step - loss: 0.1086 - accuracy: 0.9592 - val_loss: 0.0936 - val_accuracy: 0.9668\n",
      "Epoch 13/25\n",
      "344/344 [==============================] - 858s 2s/step - loss: 0.0985 - accuracy: 0.9621 - val_loss: 0.0704 - val_accuracy: 0.9746\n",
      "Epoch 14/25\n",
      "344/344 [==============================] - 855s 2s/step - loss: 0.0882 - accuracy: 0.9660 - val_loss: 0.0724 - val_accuracy: 0.9725\n",
      "Epoch 15/25\n",
      "344/344 [==============================] - 862s 3s/step - loss: 0.0846 - accuracy: 0.9685 - val_loss: 0.0613 - val_accuracy: 0.9756\n",
      "Epoch 16/25\n",
      "344/344 [==============================] - 855s 2s/step - loss: 0.0770 - accuracy: 0.9717 - val_loss: 0.0675 - val_accuracy: 0.9716\n",
      "Epoch 17/25\n",
      "344/344 [==============================] - 861s 3s/step - loss: 0.0732 - accuracy: 0.9730 - val_loss: 0.0704 - val_accuracy: 0.9709\n",
      "Epoch 18/25\n",
      "344/344 [==============================] - 857s 2s/step - loss: 0.0715 - accuracy: 0.9737 - val_loss: 0.0548 - val_accuracy: 0.9804\n",
      "Epoch 19/25\n",
      "344/344 [==============================] - 860s 2s/step - loss: 0.0613 - accuracy: 0.9775 - val_loss: 0.0631 - val_accuracy: 0.9758\n",
      "Epoch 20/25\n",
      "344/344 [==============================] - 855s 2s/step - loss: 0.0609 - accuracy: 0.9780 - val_loss: 0.0611 - val_accuracy: 0.9758\n",
      "Epoch 21/25\n",
      "344/344 [==============================] - 861s 3s/step - loss: 0.0620 - accuracy: 0.9772 - val_loss: 0.0615 - val_accuracy: 0.9753\n",
      "Epoch 22/25\n",
      "344/344 [==============================] - 861s 3s/step - loss: 0.0547 - accuracy: 0.9796 - val_loss: 0.0541 - val_accuracy: 0.9786\n",
      "Epoch 23/25\n",
      "344/344 [==============================] - 859s 2s/step - loss: 0.0547 - accuracy: 0.9799 - val_loss: 0.0752 - val_accuracy: 0.9707\n",
      "Epoch 24/25\n",
      "344/344 [==============================] - 856s 2s/step - loss: 0.0495 - accuracy: 0.9820 - val_loss: 0.0504 - val_accuracy: 0.9819\n",
      "Epoch 25/25\n",
      "344/344 [==============================] - 859s 2s/step - loss: 0.0504 - accuracy: 0.9813 - val_loss: 0.0636 - val_accuracy: 0.9770\n",
      "176/176 [==============================] - 31s 178ms/step - loss: 0.0695 - accuracy: 0.9740\n",
      "Test loss: 0.06949389725923538\n",
      "Test accuracy: 0.9740074872970581\n"
     ]
    }
   ],
   "source": [
    "model.compile(\n",
    "\toptimizer=\"Adam\",\n",
    "\tloss=\"categorical_crossentropy\",\n",
    "\tmetrics=['accuracy'])\n",
    "\n",
    "history = model.fit(\n",
    "\tx=X_train, \n",
    "\ty=y_train,\n",
    "    epochs=25,\n",
    "    batch_size=128,\n",
    "    validation_data= (X_validate, y_validate))\n",
    "\n",
    "score = model.evaluate(\n",
    "\tx=X_test,\n",
    "\ty=y_test)\n",
    "\n",
    "print('Test loss:', score[0])\n",
    "print('Test accuracy:', score[1])"
   ]
  },
  {
   "cell_type": "code",
   "execution_count": 38,
   "id": "aa0ebcaf",
   "metadata": {},
   "outputs": [
    {
     "name": "stdout",
     "output_type": "stream",
     "text": [
      "INFO:tensorflow:Assets written to: CNN_DB-mel_FinalCombined_model\\assets\n"
     ]
    }
   ],
   "source": [
    "model.save('CNN_DB-mel_FinalCombined_model')"
   ]
  },
  {
   "cell_type": "code",
   "execution_count": 39,
   "id": "69870d06",
   "metadata": {},
   "outputs": [
    {
     "data": {
      "image/png": "[encoded data removed]",
      "text/plain": [
       "<Figure size 432x288 with 1 Axes>"
      ]
     },
     "metadata": {
      "needs_background": "light"
     },
     "output_type": "display_data"
    }
   ],
   "source": [
    "import matplotlib.pyplot as plt\n",
    "loss_train = history.history['loss']\n",
    "loss_val = history.history['val_loss']\n",
    "epochs = range(1,26)\n",
    "plt.plot(epochs, loss_train, 'g', label='Training loss')\n",
    "plt.plot(epochs, loss_val, 'b', label='validation loss')\n",
    "plt.title('Training and Validation loss')\n",
    "plt.xlabel('Epochs')\n",
    "plt.ylabel('Loss')\n",
    "plt.legend()\n",
    "plt.show()"
   ]
  },
  {
   "cell_type": "code",
   "execution_count": 40,
   "id": "7466b727",
   "metadata": {},
   "outputs": [
    {
     "data": {
      "image/png": "[encoded data removed]",
      "text/plain": [
       "<Figure size 432x288 with 1 Axes>"
      ]
     },
     "metadata": {
      "needs_background": "light"
     },
     "output_type": "display_data"
    }
   ],
   "source": [
    "loss_train = history.history['accuracy']\n",
    "loss_val = history.history['val_accuracy']\n",
    "epochs = range(1,26)\n",
    "plt.plot(epochs, loss_train, 'g', label='Training accuracy')\n",
    "plt.plot(epochs, loss_val, 'b', label='validation accuracy')\n",
    "plt.title('Training and Validation accracy')\n",
    "plt.xlabel('Epochs')\n",
    "plt.ylabel('Loss')\n",
    "plt.legend()\n",
    "plt.show()"
   ]
  },
  {
   "cell_type": "code",
   "execution_count": 41,
   "id": "e860bb07",
   "metadata": {},
   "outputs": [
    {
     "name": "stdout",
     "output_type": "stream",
     "text": [
      "176/176 [==============================] - 30s 169ms/step - loss: 0.0695 - accuracy: 0.9740\n",
      "Test loss: 0.06949389725923538\n",
      "Test accuracy: 0.9740074872970581\n"
     ]
    }
   ],
   "source": [
    "reconstructed_model = keras.models.load_model(\"CNN_DB-mel_FinalCombined_model\")\n",
    "score = reconstructed_model.evaluate(x=X_test,y=y_test)\n",
    "print('Test loss:', score[0])\n",
    "print('Test accuracy:', score[1])"
   ]
  },
  {
   "cell_type": "code",
   "execution_count": null,
   "id": "fe356d0d",
   "metadata": {},
   "outputs": [],
   "source": []
  }
 ],
 "metadata": {
  "kernelspec": {
   "display_name": "Python 3 (ipykernel)",
   "language": "python",
   "name": "python3"
  },
  "language_info": {
   "codemirror_mode": {
    "name": "ipython",
    "version": 3
   },
   "file_extension": ".py",
   "mimetype": "text/x-python",
   "name": "python",
   "nbconvert_exporter": "python",
   "pygments_lexer": "ipython3",
   "version": "3.9.7"
  }
 },
 "nbformat": 4,
 "nbformat_minor": 5
}
