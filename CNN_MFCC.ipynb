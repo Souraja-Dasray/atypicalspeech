{
 "cells": [
  {
   "cell_type": "code",
   "execution_count": 93,
   "id": "2c2fdcaf",
   "metadata": {},
   "outputs": [],
   "source": [
    "import keras\n",
    "from keras.layers import Activation, Dense, Dropout, Conv2D, \\\n",
    "                         Flatten, MaxPooling2D\n",
    "from keras.models import Sequential\n",
    "import librosa\n",
    "import librosa.display\n",
    "import numpy as np\n",
    "import pandas as pd\n",
    "import random\n",
    "\n",
    "import warnings\n",
    "warnings.filterwarnings('ignore')"
   ]
  },
  {
   "cell_type": "code",
   "execution_count": 94,
   "id": "c791f5ff",
   "metadata": {},
   "outputs": [
    {
     "data": {
      "text/plain": [
       "(128, 216)"
      ]
     },
     "execution_count": 94,
     "metadata": {},
     "output_type": "execute_result"
    }
   ],
   "source": [
    "file_name = 'F01/Session1/wav_arrayMic/0001.wav'\n",
    "y, sr = librosa.load(file_name, duration=5.0)\n",
    "ps = librosa.feature.mfcc(y=y, sr=sr, n_mfcc=128)\n",
    "ps.shape"
   ]
  },
  {
   "cell_type": "code",
   "execution_count": 95,
   "id": "1621b4df",
   "metadata": {},
   "outputs": [
    {
     "data": {
      "text/plain": [
       "(128, 216)"
      ]
     },
     "execution_count": 95,
     "metadata": {},
     "output_type": "execute_result"
    }
   ],
   "source": [
    "file_name = 'F01/Session1/wav_arrayMic/0001.wav'\n",
    "y, sr = librosa.load(file_name, duration=5.0)\n",
    "ps = librosa.feature.melspectrogram(y=y, sr=sr)\n",
    "ps.shape"
   ]
  },
  {
   "cell_type": "code",
   "execution_count": 96,
   "id": "ec8a1376",
   "metadata": {
    "scrolled": true
   },
   "outputs": [
    {
     "name": "stderr",
     "output_type": "stream",
     "text": [
      "\r",
      "  0%|          | 0/134 [00:00<?, ?it/s]"
     ]
    },
    {
     "name": "stdout",
     "output_type": "stream",
     "text": [
      "F01\n"
     ]
    },
    {
     "name": "stderr",
     "output_type": "stream",
     "text": [
      "100%|██████████| 134/134 [00:23<00:00,  5.64it/s]\n",
      "  0%|          | 0/204 [00:00<?, ?it/s]"
     ]
    },
    {
     "name": "stdout",
     "output_type": "stream",
     "text": [
      "F03\n"
     ]
    },
    {
     "name": "stderr",
     "output_type": "stream",
     "text": [
      "100%|██████████| 204/204 [00:30<00:00,  6.68it/s]\n",
      "100%|██████████| 435/435 [01:07<00:00,  6.42it/s]\n",
      "100%|██████████| 209/209 [00:39<00:00,  5.35it/s]\n",
      "  0%|          | 0/199 [00:00<?, ?it/s]"
     ]
    },
    {
     "name": "stdout",
     "output_type": "stream",
     "text": [
      "F04\n"
     ]
    },
    {
     "name": "stderr",
     "output_type": "stream",
     "text": [
      "100%|██████████| 199/199 [00:32<00:00,  6.18it/s]\n",
      "100%|██████████| 249/249 [00:57<00:00,  4.29it/s]\n",
      "  0%|          | 0/256 [00:00<?, ?it/s]"
     ]
    },
    {
     "name": "stdout",
     "output_type": "stream",
     "text": [
      "FC01\n"
     ]
    },
    {
     "name": "stderr",
     "output_type": "stream",
     "text": [
      "100%|██████████| 256/256 [00:57<00:00,  4.42it/s]\n",
      "  0%|          | 0/269 [00:00<?, ?it/s]"
     ]
    },
    {
     "name": "stdout",
     "output_type": "stream",
     "text": [
      "FC02\n"
     ]
    },
    {
     "name": "stderr",
     "output_type": "stream",
     "text": [
      "100%|██████████| 269/269 [00:58<00:00,  4.56it/s]\n",
      "100%|██████████| 992/992 [03:14<00:00,  5.10it/s]\n",
      "  0%|          | 0/400 [00:00<?, ?it/s]"
     ]
    },
    {
     "name": "stdout",
     "output_type": "stream",
     "text": [
      "FC03\n"
     ]
    },
    {
     "name": "stderr",
     "output_type": "stream",
     "text": [
      "100%|██████████| 400/400 [01:23<00:00,  4.80it/s]\n",
      "100%|██████████| 387/387 [01:10<00:00,  5.49it/s]\n",
      "100%|██████████| 208/208 [00:31<00:00,  6.62it/s]\n",
      "  0%|          | 0/100 [00:00<?, ?it/s]"
     ]
    },
    {
     "name": "stdout",
     "output_type": "stream",
     "text": [
      "M01\n"
     ]
    },
    {
     "name": "stderr",
     "output_type": "stream",
     "text": [
      "100%|██████████| 100/100 [00:26<00:00,  3.82it/s]\n",
      "100%|██████████| 286/286 [00:58<00:00,  4.87it/s]\n",
      "  0%|          | 0/240 [00:00<?, ?it/s]"
     ]
    },
    {
     "name": "stdout",
     "output_type": "stream",
     "text": [
      "M02\n"
     ]
    },
    {
     "name": "stderr",
     "output_type": "stream",
     "text": [
      "100%|██████████| 240/240 [00:41<00:00,  5.83it/s]\n",
      "100%|██████████| 160/160 [00:37<00:00,  4.23it/s]\n",
      "  0%|          | 0/416 [00:00<?, ?it/s]"
     ]
    },
    {
     "name": "stdout",
     "output_type": "stream",
     "text": [
      "M03\n"
     ]
    },
    {
     "name": "stderr",
     "output_type": "stream",
     "text": [
      "100%|██████████| 416/416 [01:32<00:00,  4.48it/s]\n",
      "  0%|          | 0/126 [00:00<?, ?it/s]"
     ]
    },
    {
     "name": "stdout",
     "output_type": "stream",
     "text": [
      "M04\n"
     ]
    },
    {
     "name": "stderr",
     "output_type": "stream",
     "text": [
      "100%|██████████| 126/126 [00:26<00:00,  4.76it/s]\n",
      "100%|██████████| 295/295 [00:57<00:00,  5.11it/s]\n",
      "  0%|          | 0/128 [00:00<?, ?it/s]"
     ]
    },
    {
     "name": "stdout",
     "output_type": "stream",
     "text": [
      "M05\n"
     ]
    },
    {
     "name": "stderr",
     "output_type": "stream",
     "text": [
      "100%|██████████| 128/128 [00:29<00:00,  4.39it/s]\n",
      "  0%|          | 0/329 [00:00<?, ?it/s]"
     ]
    },
    {
     "name": "stdout",
     "output_type": "stream",
     "text": [
      "MC01\n"
     ]
    },
    {
     "name": "stderr",
     "output_type": "stream",
     "text": [
      "100%|██████████| 329/329 [01:17<00:00,  4.24it/s]\n",
      "100%|██████████| 360/360 [09:37<00:00,  1.60s/it] \n",
      "100%|██████████| 419/419 [00:39<00:00, 10.72it/s]\n",
      "  0%|          | 1/388 [00:00<00:55,  7.03it/s]"
     ]
    },
    {
     "name": "stdout",
     "output_type": "stream",
     "text": [
      "MC02\n"
     ]
    },
    {
     "name": "stderr",
     "output_type": "stream",
     "text": [
      "100%|██████████| 388/388 [01:01<00:00,  6.33it/s]\n",
      "100%|██████████| 307/307 [01:12<00:00,  4.21it/s]\n",
      "  0%|          | 0/600 [00:00<?, ?it/s]"
     ]
    },
    {
     "name": "stdout",
     "output_type": "stream",
     "text": [
      "MC03\n"
     ]
    },
    {
     "name": "stderr",
     "output_type": "stream",
     "text": [
      "100%|██████████| 600/600 [01:32<00:00,  6.46it/s]\n",
      "100%|██████████| 300/300 [00:41<00:00,  7.19it/s]\n",
      "  0%|          | 0/648 [00:00<?, ?it/s]"
     ]
    },
    {
     "name": "stdout",
     "output_type": "stream",
     "text": [
      "MC04\n"
     ]
    },
    {
     "name": "stderr",
     "output_type": "stream",
     "text": [
      "100%|██████████| 648/648 [01:35<00:00,  6.78it/s]\n",
      "100%|██████████| 373/373 [00:50<00:00,  7.40it/s]\n"
     ]
    }
   ],
   "source": [
    "import os\n",
    "import numpy as np\n",
    "from tqdm import tqdm\n",
    "\n",
    "D_sptg = [] # Dataset\n",
    "D_mfcc = []\n",
    "\n",
    "directories =[  \n",
    "                 ['F01','Atypical'],['F03','Atypical'],['F04','Atypical'],['FC01','Typical'],['FC02','Typical'],\n",
    "                 ['FC03','Typical'],['M01','Atypical'],['M02','Atypical'],['M03','Atypical'],['M04','Atypical'],\n",
    "                 ['M05','Atypical'],['MC01','Typical'],['MC02','Typical'],['MC03','Typical'],['MC04','Typical']\n",
    "             ]\n",
    "\n",
    "for pair in directories:\n",
    "    directory = pair[0]\n",
    "    label = pair[1]\n",
    "    print(directory)\n",
    "    for filename in os.listdir(directory):\n",
    "        if filename != 'Notes':\n",
    "            file = os.path.join(directory, filename)\n",
    "            file = os.path.join(file, 'wav_arrayMic')\n",
    "            if os.path.isdir(file):\n",
    "                for audiofile in tqdm(os.listdir(file)):\n",
    "                    f = os.path.join(file, audiofile)\n",
    "                    if os.path.isfile(f):\n",
    "                        if librosa.get_duration(filename=f) != 0:\n",
    "                            y, sr = librosa.load(f, duration=5.0)\n",
    "                            spectogram = librosa.feature.melspectrogram(y=y, sr=sr)\n",
    "                            mfcc = librosa.feature.mfcc(y=y, sr=sr, n_mfcc=128)\n",
    "                            if mfcc.shape == (128, 216) and spectogram.shape == (128,216): \n",
    "                                D_sptg.append( (spectogram, label) )\n",
    "                                D_mfcc.append( (mfcc, label) )"
   ]
  },
  {
   "cell_type": "code",
   "execution_count": 97,
   "id": "b71fc58f",
   "metadata": {},
   "outputs": [
    {
     "name": "stdout",
     "output_type": "stream",
     "text": [
      "Number of samples:  1004 1004\n"
     ]
    }
   ],
   "source": [
    "print(\"Number of samples: \", len(D_sptg), len(D_mfcc))"
   ]
  },
  {
   "cell_type": "code",
   "execution_count": 103,
   "id": "46b2beee",
   "metadata": {},
   "outputs": [],
   "source": [
    "D_mfcc = np.array(D_mfcc)\n",
    "mfcc, label = D_mfcc.T\n",
    "dic = {'mfcc' : mfcc, 'label' : label}\n",
    "df = pd.DataFrame(dic) \n",
    "# saving the dataframe\n",
    "df.to_csv('mfcc.csv')"
   ]
  },
  {
   "cell_type": "code",
   "execution_count": 104,
   "id": "90491151",
   "metadata": {},
   "outputs": [],
   "source": [
    "D_sptg = np.array(D_sptg)\n",
    "sptg, label = D_sptg.T\n",
    "dic = {'sptg' : sptg, 'label' : label}\n",
    "df = pd.DataFrame(dic) \n",
    "# saving the dataframe\n",
    "df.to_csv('sptg.csv')"
   ]
  },
  {
   "cell_type": "code",
   "execution_count": 111,
   "id": "6b54cb80",
   "metadata": {},
   "outputs": [],
   "source": [
    "dataset = D_mfcc\n",
    "random.shuffle(dataset)\n",
    "\n",
    "train = dataset[:800]\n",
    "dataset = dataset[800:]\n",
    "validate = dataset[:150]\n",
    "test = dataset[150:]\n",
    "\n",
    "X_train, y_train = zip(*train)\n",
    "X_validate, y_validate = zip(*validate)\n",
    "X_test, y_test = zip(*test)\n",
    "\n",
    "X_train = np.array([x.reshape( (128, 216, 1) ) for x in X_train])\n",
    "X_validate = np.array([x.reshape( (128, 216, 1) ) for x in X_validate])\n",
    "X_test = np.array([x.reshape( (128, 216, 1) ) for x in X_test])"
   ]
  },
  {
   "cell_type": "code",
   "execution_count": 112,
   "id": "2a74c33f",
   "metadata": {},
   "outputs": [],
   "source": [
    "X_train = np.array((X_train-np.min(X_train))/(np.max(X_train)-np.min(X_train)))\n",
    "X_train = X_train/np.std(X_train)\n",
    "\n",
    "X_validate = np.array((X_validate-np.min(X_validate))/(np.max(X_validate)-np.min(X_validate)))\n",
    "X_validate = X_validate/np.std(X_validate)\n",
    "\n",
    "X_test = np.array((X_test-np.min(X_test))/(np.max(X_test)-np.min(X_test)))\n",
    "X_test = X_test/np.std(X_test)"
   ]
  },
  {
   "cell_type": "code",
   "execution_count": 113,
   "id": "0a0cc80a",
   "metadata": {},
   "outputs": [],
   "source": [
    "from tensorflow.keras.utils import to_categorical\n",
    "from sklearn.preprocessing import LabelEncoder\n",
    "labelencoder=LabelEncoder()\n",
    "#y=to_categorical(labelencoder.fit_transform(y))\n",
    "#y\n",
    "y_train = np.array(to_categorical(labelencoder.fit_transform(y_train)))\n",
    "y_validate = np.array(to_categorical(labelencoder.fit_transform(y_validate)))\n",
    "y_test = np.array(to_categorical(labelencoder.fit_transform(y_test)))"
   ]
  },
  {
   "cell_type": "code",
   "execution_count": 114,
   "id": "c21b0c4f",
   "metadata": {},
   "outputs": [
    {
     "data": {
      "text/plain": [
       "((800, 128, 216, 1),\n",
       " (150, 128, 216, 1),\n",
       " (54, 128, 216, 1),\n",
       " (800, 2),\n",
       " (150, 2),\n",
       " (54, 2))"
      ]
     },
     "execution_count": 114,
     "metadata": {},
     "output_type": "execute_result"
    }
   ],
   "source": [
    "X_train.shape, X_validate.shape, X_test.shape, y_train.shape, y_validate.shape, y_test.shape"
   ]
  },
  {
   "cell_type": "code",
   "execution_count": 115,
   "id": "23e0b46e",
   "metadata": {},
   "outputs": [
    {
     "name": "stdout",
     "output_type": "stream",
     "text": [
      "Model: \"sequential_2\"\n",
      "_________________________________________________________________\n",
      "Layer (type)                 Output Shape              Param #   \n",
      "=================================================================\n",
      "conv2d_3 (Conv2D)            (None, 124, 212, 24)      624       \n",
      "_________________________________________________________________\n",
      "max_pooling2d_2 (MaxPooling2 (None, 31, 106, 24)       0         \n",
      "_________________________________________________________________\n",
      "activation_5 (Activation)    (None, 31, 106, 24)       0         \n",
      "_________________________________________________________________\n",
      "conv2d_4 (Conv2D)            (None, 27, 102, 48)       28848     \n",
      "_________________________________________________________________\n",
      "max_pooling2d_3 (MaxPooling2 (None, 6, 51, 48)         0         \n",
      "_________________________________________________________________\n",
      "activation_6 (Activation)    (None, 6, 51, 48)         0         \n",
      "_________________________________________________________________\n",
      "conv2d_5 (Conv2D)            (None, 2, 47, 48)         57648     \n",
      "_________________________________________________________________\n",
      "activation_7 (Activation)    (None, 2, 47, 48)         0         \n",
      "_________________________________________________________________\n",
      "flatten_1 (Flatten)          (None, 4512)              0         \n",
      "_________________________________________________________________\n",
      "dropout_53 (Dropout)         (None, 4512)              0         \n",
      "_________________________________________________________________\n",
      "dense_64 (Dense)             (None, 64)                288832    \n",
      "_________________________________________________________________\n",
      "activation_8 (Activation)    (None, 64)                0         \n",
      "_________________________________________________________________\n",
      "dropout_54 (Dropout)         (None, 64)                0         \n",
      "_________________________________________________________________\n",
      "dense_65 (Dense)             (None, 2)                 130       \n",
      "_________________________________________________________________\n",
      "activation_9 (Activation)    (None, 2)                 0         \n",
      "=================================================================\n",
      "Total params: 376,082\n",
      "Trainable params: 376,082\n",
      "Non-trainable params: 0\n",
      "_________________________________________________________________\n"
     ]
    }
   ],
   "source": [
    "model = Sequential()\n",
    "input_shape=(128, 216, 1)\n",
    "\n",
    "model.add(Conv2D(24, (5, 5), strides=(1, 1), input_shape=input_shape))\n",
    "model.add(MaxPooling2D((4, 2), strides=(4, 2)))\n",
    "model.add(Activation('relu'))\n",
    "\n",
    "model.add(Conv2D(48, (5, 5), padding=\"valid\"))\n",
    "model.add(MaxPooling2D((4, 2), strides=(4, 2)))\n",
    "model.add(Activation('relu'))\n",
    "\n",
    "model.add(Conv2D(48, (5, 5), padding=\"valid\"))\n",
    "model.add(Activation('relu'))\n",
    "\n",
    "model.add(Flatten())\n",
    "model.add(Dropout(rate=0.5))\n",
    "\n",
    "model.add(Dense(64))\n",
    "model.add(Activation('relu'))\n",
    "model.add(Dropout(rate=0.5))\n",
    "\n",
    "model.add(Dense(2))\n",
    "model.add(Activation('softmax'))\n",
    "\n",
    "model.summary()"
   ]
  },
  {
   "cell_type": "code",
   "execution_count": 116,
   "id": "361d9c11",
   "metadata": {},
   "outputs": [
    {
     "name": "stdout",
     "output_type": "stream",
     "text": [
      "Epoch 1/12\n",
      "25/25 [==============================] - 57s 690ms/step - loss: 0.7274 - accuracy: 0.7584 - val_loss: 0.8120 - val_accuracy: 0.6133\n",
      "Epoch 2/12\n",
      "25/25 [==============================] - 15s 614ms/step - loss: 0.5153 - accuracy: 0.8129 - val_loss: 0.7145 - val_accuracy: 0.6133\n",
      "Epoch 3/12\n",
      "25/25 [==============================] - 15s 609ms/step - loss: 0.4823 - accuracy: 0.8339 - val_loss: 0.8679 - val_accuracy: 0.6133\n",
      "Epoch 4/12\n",
      "25/25 [==============================] - 15s 616ms/step - loss: 0.4981 - accuracy: 0.8228 - val_loss: 0.7161 - val_accuracy: 0.6133\n",
      "Epoch 5/12\n",
      "25/25 [==============================] - 15s 614ms/step - loss: 0.5154 - accuracy: 0.8316 - val_loss: 0.7461 - val_accuracy: 0.6133\n",
      "Epoch 6/12\n",
      "25/25 [==============================] - 15s 617ms/step - loss: 0.4684 - accuracy: 0.8338 - val_loss: 0.6522 - val_accuracy: 0.6133\n",
      "Epoch 7/12\n",
      "25/25 [==============================] - 16s 625ms/step - loss: 0.4390 - accuracy: 0.8184 - val_loss: 0.5884 - val_accuracy: 0.6267\n",
      "Epoch 8/12\n",
      "25/25 [==============================] - 16s 628ms/step - loss: 0.3780 - accuracy: 0.8284 - val_loss: 0.6934 - val_accuracy: 0.6733\n",
      "Epoch 9/12\n",
      "25/25 [==============================] - 16s 626ms/step - loss: 0.3986 - accuracy: 0.8413 - val_loss: 0.9532 - val_accuracy: 0.6333\n",
      "Epoch 10/12\n",
      "25/25 [==============================] - 16s 625ms/step - loss: 0.3778 - accuracy: 0.8650 - val_loss: 0.5558 - val_accuracy: 0.7533\n",
      "Epoch 11/12\n",
      "25/25 [==============================] - 15s 623ms/step - loss: 0.3117 - accuracy: 0.8695 - val_loss: 0.4528 - val_accuracy: 0.7600\n",
      "Epoch 12/12\n",
      "25/25 [==============================] - 15s 623ms/step - loss: 0.2482 - accuracy: 0.8804 - val_loss: 0.4079 - val_accuracy: 0.8333\n",
      "2/2 [==============================] - 0s 104ms/step - loss: 0.3171 - accuracy: 0.9259\n",
      "Test loss: 0.3171052634716034\n",
      "Test accuracy: 0.9259259104728699\n"
     ]
    }
   ],
   "source": [
    "model.compile(\n",
    "\toptimizer=\"Adam\",\n",
    "\tloss=\"categorical_crossentropy\",\n",
    "\tmetrics=['accuracy'])\n",
    "\n",
    "model.fit(\n",
    "\tx=X_train, \n",
    "\ty=y_train,\n",
    "    epochs=12,\n",
    "    batch_size=32,\n",
    "    validation_data= (X_validate, y_validate))\n",
    "\n",
    "score = model.evaluate(\n",
    "\tx=X_test,\n",
    "\ty=y_test)\n",
    "\n",
    "print('Test loss:', score[0])\n",
    "print('Test accuracy:', score[1])"
   ]
  },
  {
   "cell_type": "code",
   "execution_count": 117,
   "id": "c0228d4b",
   "metadata": {},
   "outputs": [
    {
     "name": "stdout",
     "output_type": "stream",
     "text": [
      "  Real       Prediction       Match\n",
      "Typical       Typical       True\n",
      "Typical       Typical       True\n",
      "Typical       Typical       True\n",
      "Atypical       Atypical       True\n",
      "Atypical       Typical       False\n",
      "Atypical       Atypical       True\n",
      "Atypical       Atypical       True\n",
      "Atypical       Atypical       True\n",
      "Atypical       Atypical       True\n",
      "Typical       Typical       True\n",
      "Typical       Typical       True\n",
      "Atypical       Atypical       True\n",
      "Atypical       Atypical       True\n",
      "Atypical       Atypical       True\n",
      "Atypical       Atypical       True\n",
      "Atypical       Atypical       True\n",
      "Atypical       Atypical       True\n",
      "Typical       Typical       True\n",
      "Atypical       Atypical       True\n",
      "Atypical       Atypical       True\n",
      "Atypical       Typical       False\n",
      "Typical       Typical       True\n",
      "Atypical       Atypical       True\n",
      "Typical       Typical       True\n",
      "Typical       Typical       True\n",
      "Atypical       Atypical       True\n",
      "Atypical       Typical       False\n",
      "Atypical       Atypical       True\n",
      "Atypical       Atypical       True\n",
      "Atypical       Atypical       True\n",
      "Atypical       Atypical       True\n",
      "Atypical       Atypical       True\n",
      "Atypical       Atypical       True\n",
      "Typical       Typical       True\n",
      "Typical       Typical       True\n",
      "Typical       Typical       True\n",
      "Atypical       Atypical       True\n",
      "Typical       Typical       True\n",
      "Typical       Typical       True\n",
      "Typical       Atypical       False\n",
      "Atypical       Atypical       True\n",
      "Typical       Typical       True\n",
      "Atypical       Atypical       True\n",
      "Atypical       Atypical       True\n",
      "Typical       Typical       True\n",
      "Atypical       Atypical       True\n",
      "Atypical       Atypical       True\n",
      "Atypical       Atypical       True\n",
      "Atypical       Atypical       True\n",
      "Atypical       Atypical       True\n",
      "Atypical       Atypical       True\n",
      "Typical       Typical       True\n",
      "Typical       Typical       True\n",
      "Atypical       Atypical       True\n",
      "Matched =  50\n",
      "Not Matched =  4\n"
     ]
    }
   ],
   "source": [
    "predict = model.predict_classes(X_test)\n",
    "prediction_class = labelencoder.inverse_transform(predict)\n",
    "#real_class = labelencoder.inverse_transform(y_test)\n",
    "#prediction_class\n",
    "\n",
    "x, y = zip(*test)\n",
    "y\n",
    "match = 0\n",
    "print('  Real       Prediction       Match')\n",
    "for i in range(0,X_test.shape[0]):\n",
    "    if(y[i]==prediction_class[i]):\n",
    "        match+=1\n",
    "    print(y[i] + '       ' + prediction_class[i] + '       ' + str(y[i]==prediction_class[i]))\n",
    "print('Matched = ', match)\n",
    "print('Not Matched = ',(X_test.shape[0] - match))"
   ]
  },
  {
   "cell_type": "code",
   "execution_count": null,
   "id": "b120359f",
   "metadata": {},
   "outputs": [],
   "source": []
  }
 ],
 "metadata": {
  "kernelspec": {
   "display_name": "Python 3",
   "language": "python",
   "name": "python3"
  },
  "language_info": {
   "codemirror_mode": {
    "name": "ipython",
    "version": 3
   },
   "file_extension": ".py",
   "mimetype": "text/x-python",
   "name": "python",
   "nbconvert_exporter": "python",
   "pygments_lexer": "ipython3",
   "version": "3.8.8"
  }
 },
 "nbformat": 4,
 "nbformat_minor": 5
}
