{
 "cells": [
  {
   "cell_type": "code",
   "execution_count": 1,
   "id": "e59167f9",
   "metadata": {},
   "outputs": [],
   "source": [
    "import keras\n",
    "from keras.layers import Activation, Dense, Dropout, Conv2D, \\\n",
    "                         Flatten, MaxPooling2D\n",
    "from keras.models import Sequential\n",
    "import librosa\n",
    "import librosa.display\n",
    "import numpy as np\n",
    "import pandas as pd\n",
    "import random\n",
    "\n",
    "import warnings\n",
    "warnings.filterwarnings('ignore')"
   ]
  },
  {
   "cell_type": "code",
   "execution_count": 2,
   "id": "650eb3a8",
   "metadata": {},
   "outputs": [],
   "source": [
    "file_name = 'F01/Session1/wav_arrayMic/0001.wav'\n",
    "y, sr = librosa.load(file_name)\n",
    "ps = librosa.feature.melspectrogram(y=y, sr=sr)"
   ]
  },
  {
   "cell_type": "code",
   "execution_count": 3,
   "id": "c47abc22",
   "metadata": {},
   "outputs": [
    {
     "data": {
      "text/plain": [
       "<matplotlib.collections.QuadMesh at 0x1dab210e820>"
      ]
     },
     "execution_count": 3,
     "metadata": {},
     "output_type": "execute_result"
    },
    {
     "data": {
      "image/png": "[encoded data removed]",
      "text/plain": [
       "<Figure size 432x288 with 1 Axes>"
      ]
     },
     "metadata": {
      "needs_background": "light"
     },
     "output_type": "display_data"
    }
   ],
   "source": [
    "librosa.display.specshow(ps, y_axis='mel', x_axis='time')"
   ]
  },
  {
   "cell_type": "code",
   "execution_count": 4,
   "id": "b3a1a19f",
   "metadata": {},
   "outputs": [
    {
     "data": {
      "text/plain": [
       "128"
      ]
     },
     "execution_count": 4,
     "metadata": {},
     "output_type": "execute_result"
    }
   ],
   "source": [
    "ps.shape[0]"
   ]
  },
  {
   "cell_type": "code",
   "execution_count": 6,
   "id": "78e095ca",
   "metadata": {},
   "outputs": [],
   "source": [
    "import numpy as np\n",
    "\n",
    "arr = np.random.randint(0, 10, (7, 4))\n",
    "\n",
    "def padding(array, xx, yy):\n",
    "    \"\"\"\n",
    "    :param array: numpy array\n",
    "    :param xx: desired height\n",
    "    :param yy: desirex width\n",
    "    :return: padded array\n",
    "    \"\"\"\n",
    "\n",
    "    h = array.shape[0]\n",
    "    w = array.shape[1]\n",
    "\n",
    "    a = (xx - h) // 2\n",
    "    aa = xx - a - h\n",
    "\n",
    "    b = (yy - w) // 2\n",
    "    bb = yy - b - w\n",
    "\n",
    "    return np.pad(array, pad_width=((a, aa), (b, bb)), mode='constant')"
   ]
  },
  {
   "cell_type": "code",
   "execution_count": 8,
   "id": "a0a699b5",
   "metadata": {},
   "outputs": [
    {
     "name": "stdout",
     "output_type": "stream",
     "text": [
      "[[6 9 6 1 1 2 8 7 3 5 6 3 5 3 5 8 8 2 8 1]\n",
      " [7 8 7 2 1 2 9 9 4 9 8 4 7 6 2 4 5 9 2 5]\n",
      " [1 4 3 1 5 3 8 8 9 7 4 8 8 5 6 4 7 9 1 3]\n",
      " [8 8 8 4 1 9 8 8 2 2 4 1 9 7 5 6 7 3 6 8]\n",
      " [9 5 5 8 8 5 1 3 1 8 2 8 9 5 1 2 9 3 4 2]\n",
      " [3 8 3 7 1 3 7 7 3 8 8 1 7 6 2 5 7 1 7 6]\n",
      " [2 3 2 6 5 1 8 9 6 8 1 4 2 5 5 7 9 9 3 8]\n",
      " [6 6 5 6 9 6 9 2 2 9 8 1 4 5 3 1 4 6 2 3]\n",
      " [5 4 1 7 1 8 3 9 4 1 9 5 3 1 4 9 2 5 4 4]\n",
      " [7 8 4 6 4 3 5 5 1 4 4 9 4 6 7 8 6 2 8 1]]\n"
     ]
    }
   ],
   "source": [
    "# generate random integer values\n",
    "from numpy.random import seed\n",
    "from numpy.random import randint\n",
    "# seed random number generator\n",
    "seed(1)\n",
    "# generate some integers\n",
    "arr = randint(1, 10,(10,20))\n",
    "print(arr)"
   ]
  },
  {
   "cell_type": "code",
   "execution_count": 9,
   "id": "359249c8",
   "metadata": {},
   "outputs": [
    {
     "data": {
      "text/plain": [
       "array([[6, 9, 6, 1, 1, 2, 8, 7, 3, 5, 6, 3, 5, 3, 5, 8, 8, 2, 8, 1],\n",
       "       [7, 8, 7, 2, 1, 2, 9, 9, 4, 9, 8, 4, 7, 6, 2, 4, 5, 9, 2, 5],\n",
       "       [1, 4, 3, 1, 5, 3, 8, 8, 9, 7, 4, 8, 8, 5, 6, 4, 7, 9, 1, 3],\n",
       "       [8, 8, 8, 4, 1, 9, 8, 8, 2, 2, 4, 1, 9, 7, 5, 6, 7, 3, 6, 8],\n",
       "       [9, 5, 5, 8, 8, 5, 1, 3, 1, 8, 2, 8, 9, 5, 1, 2, 9, 3, 4, 2],\n",
       "       [3, 8, 3, 7, 1, 3, 7, 7, 3, 8, 8, 1, 7, 6, 2, 5, 7, 1, 7, 6],\n",
       "       [2, 3, 2, 6, 5, 1, 8, 9, 6, 8, 1, 4, 2, 5, 5, 7, 9, 9, 3, 8],\n",
       "       [6, 6, 5, 6, 9, 6, 9, 2, 2, 9, 8, 1, 4, 5, 3, 1, 4, 6, 2, 3],\n",
       "       [5, 4, 1, 7, 1, 8, 3, 9, 4, 1, 9, 5, 3, 1, 4, 9, 2, 5, 4, 4],\n",
       "       [7, 8, 4, 6, 4, 3, 5, 5, 1, 4, 4, 9, 4, 6, 7, 8, 6, 2, 8, 1]])"
      ]
     },
     "execution_count": 9,
     "metadata": {},
     "output_type": "execute_result"
    }
   ],
   "source": [
    "padding(arr,10,20)"
   ]
  },
  {
   "cell_type": "code",
   "execution_count": 10,
   "id": "461f6dd5",
   "metadata": {},
   "outputs": [
    {
     "name": "stderr",
     "output_type": "stream",
     "text": [
      "\r",
      "  0%|          | 0/134 [00:00<?, ?it/s]"
     ]
    },
    {
     "name": "stdout",
     "output_type": "stream",
     "text": [
      "F01\n"
     ]
    },
    {
     "name": "stderr",
     "output_type": "stream",
     "text": [
      "100%|██████████| 134/134 [00:14<00:00,  9.04it/s]\n",
      "  0%|          | 0/204 [00:00<?, ?it/s]"
     ]
    },
    {
     "name": "stdout",
     "output_type": "stream",
     "text": [
      "F03\n"
     ]
    },
    {
     "name": "stderr",
     "output_type": "stream",
     "text": [
      "100%|██████████| 204/204 [00:19<00:00, 10.40it/s]\n",
      "100%|██████████| 435/435 [00:41<00:00, 10.40it/s]\n",
      "100%|██████████| 209/209 [00:23<00:00,  8.92it/s]\n",
      "  0%|          | 0/199 [00:00<?, ?it/s]"
     ]
    },
    {
     "name": "stdout",
     "output_type": "stream",
     "text": [
      "F04\n"
     ]
    },
    {
     "name": "stderr",
     "output_type": "stream",
     "text": [
      "100%|██████████| 199/199 [00:21<00:00,  9.36it/s]\n",
      "100%|██████████| 249/249 [00:34<00:00,  7.12it/s]\n",
      "  0%|          | 0/256 [00:00<?, ?it/s]"
     ]
    },
    {
     "name": "stdout",
     "output_type": "stream",
     "text": [
      "FC01\n"
     ]
    },
    {
     "name": "stderr",
     "output_type": "stream",
     "text": [
      "100%|██████████| 256/256 [00:34<00:00,  7.32it/s]\n",
      "  0%|          | 0/269 [00:00<?, ?it/s]"
     ]
    },
    {
     "name": "stdout",
     "output_type": "stream",
     "text": [
      "FC02\n"
     ]
    },
    {
     "name": "stderr",
     "output_type": "stream",
     "text": [
      "100%|██████████| 269/269 [00:40<00:00,  6.71it/s]\n",
      "100%|██████████| 992/992 [01:52<00:00,  8.86it/s]\n",
      "  0%|          | 0/400 [00:00<?, ?it/s]"
     ]
    },
    {
     "name": "stdout",
     "output_type": "stream",
     "text": [
      "FC03\n"
     ]
    },
    {
     "name": "stderr",
     "output_type": "stream",
     "text": [
      "100%|██████████| 400/400 [00:48<00:00,  8.27it/s]\n",
      "100%|██████████| 387/387 [00:40<00:00,  9.67it/s]\n",
      "100%|██████████| 208/208 [00:18<00:00, 11.32it/s]\n",
      "  0%|          | 0/100 [00:00<?, ?it/s]"
     ]
    },
    {
     "name": "stdout",
     "output_type": "stream",
     "text": [
      "M01\n"
     ]
    },
    {
     "name": "stderr",
     "output_type": "stream",
     "text": [
      "100%|██████████| 100/100 [00:18<00:00,  5.48it/s]\n",
      "100%|██████████| 286/286 [00:40<00:00,  7.03it/s]\n",
      "  0%|          | 0/240 [00:00<?, ?it/s]"
     ]
    },
    {
     "name": "stdout",
     "output_type": "stream",
     "text": [
      "M02\n"
     ]
    },
    {
     "name": "stderr",
     "output_type": "stream",
     "text": [
      "100%|██████████| 240/240 [00:27<00:00,  8.61it/s]\n",
      "100%|██████████| 160/160 [00:26<00:00,  6.03it/s]\n",
      "  0%|          | 0/416 [00:00<?, ?it/s]"
     ]
    },
    {
     "name": "stdout",
     "output_type": "stream",
     "text": [
      "M03\n"
     ]
    },
    {
     "name": "stderr",
     "output_type": "stream",
     "text": [
      "100%|██████████| 416/416 [00:58<00:00,  7.05it/s]\n",
      "  1%|          | 1/126 [00:00<00:18,  6.82it/s]"
     ]
    },
    {
     "name": "stdout",
     "output_type": "stream",
     "text": [
      "M04\n"
     ]
    },
    {
     "name": "stderr",
     "output_type": "stream",
     "text": [
      "100%|██████████| 126/126 [00:21<00:00,  5.87it/s]\n",
      "100%|██████████| 295/295 [00:48<00:00,  6.12it/s]\n",
      "  0%|          | 0/128 [00:00<?, ?it/s]"
     ]
    },
    {
     "name": "stdout",
     "output_type": "stream",
     "text": [
      "M05\n"
     ]
    },
    {
     "name": "stderr",
     "output_type": "stream",
     "text": [
      "100%|██████████| 128/128 [00:24<00:00,  5.32it/s]\n",
      "  0%|          | 1/329 [00:00<00:51,  6.39it/s]"
     ]
    },
    {
     "name": "stdout",
     "output_type": "stream",
     "text": [
      "MC01\n"
     ]
    },
    {
     "name": "stderr",
     "output_type": "stream",
     "text": [
      "100%|██████████| 329/329 [01:03<00:00,  5.22it/s]\n",
      "100%|██████████| 360/360 [01:06<00:00,  5.41it/s]\n",
      "100%|██████████| 419/419 [02:13<00:00,  3.14it/s]\n",
      "  0%|          | 0/388 [00:00<?, ?it/s]"
     ]
    },
    {
     "name": "stdout",
     "output_type": "stream",
     "text": [
      "MC02\n"
     ]
    },
    {
     "name": "stderr",
     "output_type": "stream",
     "text": [
      "100%|██████████| 388/388 [01:41<00:00,  3.81it/s]\n",
      "100%|██████████| 307/307 [01:19<00:00,  3.88it/s]\n",
      "  0%|          | 0/600 [00:00<?, ?it/s]"
     ]
    },
    {
     "name": "stdout",
     "output_type": "stream",
     "text": [
      "MC03\n"
     ]
    },
    {
     "name": "stderr",
     "output_type": "stream",
     "text": [
      "100%|██████████| 600/600 [01:47<00:00,  5.59it/s]\n",
      "100%|██████████| 300/300 [00:45<00:00,  6.53it/s]\n",
      "  0%|          | 0/648 [00:00<?, ?it/s]"
     ]
    },
    {
     "name": "stdout",
     "output_type": "stream",
     "text": [
      "MC04\n"
     ]
    },
    {
     "name": "stderr",
     "output_type": "stream",
     "text": [
      "100%|██████████| 648/648 [01:46<00:00,  6.06it/s]\n",
      "100%|██████████| 373/373 [00:58<00:00,  6.36it/s]\n"
     ]
    }
   ],
   "source": [
    "import os\n",
    "import numpy as np\n",
    "from tqdm import tqdm\n",
    "\n",
    "D = [] # Dataset\n",
    "data = {\n",
    "        \"spect\": [],\n",
    "        \"label\": []\n",
    "       }\n",
    "\n",
    "directories =[  \n",
    "                 ['F01','Atypical'],['F03','Atypical'],['F04','Atypical'],['FC01','Typical'],['FC02','Typical'],\n",
    "                 ['FC03','Typical'],['M01','Atypical'],['M02','Atypical'],['M03','Atypical'],['M04','Atypical'],\n",
    "                 ['M05','Atypical'],['MC01','Typical'],['MC02','Typical'],['MC03','Typical'],['MC04','Typical']\n",
    "             ]\n",
    "\n",
    "for pair in directories:\n",
    "    directory = pair[0]\n",
    "    label = pair[1]\n",
    "    print(directory)\n",
    "    for filename in os.listdir(directory):\n",
    "        if filename != 'Notes':\n",
    "            file = os.path.join(directory, filename)\n",
    "            file = os.path.join(file, 'wav_arrayMic')\n",
    "            if os.path.isdir(file):\n",
    "                for audiofile in tqdm(os.listdir(file)):\n",
    "                    f = os.path.join(file, audiofile)\n",
    "                    if os.path.isfile(f):\n",
    "                        if librosa.get_duration(filename=f) != 0:\n",
    "                            y, sr = librosa.load(f)\n",
    "                            \n",
    "                            ps = librosa.feature.melspectrogram(y=y, sr=sr)\n",
    "                            #ps = librosa.feature.melspectrogram(y=y, sr=sr)\n",
    "                            if ps.shape[1] > 400 : continue\n",
    "                            PS = ps\n",
    "                            data[\"spect\"].append(PS.tolist())\n",
    "                            data[\"label\"].append(label)\n",
    "                            D.append( (np.array(padding(ps,128,400)), label) )"
   ]
  },
  {
   "cell_type": "code",
   "execution_count": 11,
   "id": "0f0aae44",
   "metadata": {},
   "outputs": [
    {
     "name": "stdout",
     "output_type": "stream",
     "text": [
      "Number of samples:  9238\n"
     ]
    }
   ],
   "source": [
    "print(\"Number of samples: \", len(D))"
   ]
  },
  {
   "cell_type": "code",
   "execution_count": 12,
   "id": "374f33b8",
   "metadata": {},
   "outputs": [],
   "source": [
    "dataset = D\n",
    "random.shuffle(dataset)\n",
    "\n",
    "train = dataset[:8000]\n",
    "dataset = dataset[8000:]\n",
    "validate = dataset[:1000]\n",
    "test = dataset[1000:]\n",
    "\n",
    "X_train, y_train = zip(*train)\n",
    "X_validate, y_validate = zip(*validate)\n",
    "X_test, y_test = zip(*test)\n",
    "\n",
    "# Reshape for CNN input\n",
    "X_train = np.array([x.reshape( (128, 400, 1) ) for x in X_train])\n",
    "X_validate = np.array([x.reshape( (128, 400, 1) ) for x in X_validate])\n",
    "X_test = np.array([x.reshape( (128, 400, 1) ) for x in X_test])"
   ]
  },
  {
   "cell_type": "code",
   "execution_count": 13,
   "id": "9ec76f99",
   "metadata": {},
   "outputs": [],
   "source": [
    "from tensorflow.keras.utils import to_categorical\n",
    "from sklearn.preprocessing import LabelEncoder\n",
    "labelencoder=LabelEncoder()\n",
    "#y=to_categorical(labelencoder.fit_transform(y))\n",
    "#y\n",
    "y_train = np.array(to_categorical(labelencoder.fit_transform(y_train)))\n",
    "y_validate = np.array(to_categorical(labelencoder.fit_transform(y_validate)))\n",
    "y_test = np.array(to_categorical(labelencoder.fit_transform(y_test)))"
   ]
  },
  {
   "cell_type": "code",
   "execution_count": 14,
   "id": "ef962ebf",
   "metadata": {},
   "outputs": [
    {
     "data": {
      "text/plain": [
       "((8000, 128, 400, 1),\n",
       " (1000, 128, 400, 1),\n",
       " (238, 128, 400, 1),\n",
       " (8000, 2),\n",
       " (1000, 2),\n",
       " (238, 2))"
      ]
     },
     "execution_count": 14,
     "metadata": {},
     "output_type": "execute_result"
    }
   ],
   "source": [
    "X_train.shape, X_validate.shape, X_test.shape, y_train.shape, y_validate.shape, y_test.shape"
   ]
  },
  {
   "cell_type": "code",
   "execution_count": 15,
   "id": "44ae4c2c",
   "metadata": {},
   "outputs": [
    {
     "name": "stdout",
     "output_type": "stream",
     "text": [
      "Model: \"sequential\"\n",
      "_________________________________________________________________\n",
      "Layer (type)                 Output Shape              Param #   \n",
      "=================================================================\n",
      "conv2d (Conv2D)              (None, 124, 396, 24)      624       \n",
      "_________________________________________________________________\n",
      "max_pooling2d (MaxPooling2D) (None, 31, 198, 24)       0         \n",
      "_________________________________________________________________\n",
      "activation (Activation)      (None, 31, 198, 24)       0         \n",
      "_________________________________________________________________\n",
      "conv2d_1 (Conv2D)            (None, 27, 194, 48)       28848     \n",
      "_________________________________________________________________\n",
      "max_pooling2d_1 (MaxPooling2 (None, 6, 97, 48)         0         \n",
      "_________________________________________________________________\n",
      "activation_1 (Activation)    (None, 6, 97, 48)         0         \n",
      "_________________________________________________________________\n",
      "conv2d_2 (Conv2D)            (None, 2, 93, 48)         57648     \n",
      "_________________________________________________________________\n",
      "activation_2 (Activation)    (None, 2, 93, 48)         0         \n",
      "_________________________________________________________________\n",
      "flatten (Flatten)            (None, 8928)              0         \n",
      "_________________________________________________________________\n",
      "dropout (Dropout)            (None, 8928)              0         \n",
      "_________________________________________________________________\n",
      "dense (Dense)                (None, 64)                571456    \n",
      "_________________________________________________________________\n",
      "activation_3 (Activation)    (None, 64)                0         \n",
      "_________________________________________________________________\n",
      "dropout_1 (Dropout)          (None, 64)                0         \n",
      "_________________________________________________________________\n",
      "dense_1 (Dense)              (None, 2)                 130       \n",
      "_________________________________________________________________\n",
      "activation_4 (Activation)    (None, 2)                 0         \n",
      "=================================================================\n",
      "Total params: 658,706\n",
      "Trainable params: 658,706\n",
      "Non-trainable params: 0\n",
      "_________________________________________________________________\n"
     ]
    }
   ],
   "source": [
    "model = Sequential()\n",
    "input_shape=(128, 400, 1)\n",
    "\n",
    "model.add(Conv2D(24, (5, 5), strides=(1, 1), input_shape=input_shape))\n",
    "model.add(MaxPooling2D((4, 2), strides=(4, 2)))\n",
    "model.add(Activation('relu'))\n",
    "\n",
    "model.add(Conv2D(48, (5, 5), padding=\"valid\"))\n",
    "model.add(MaxPooling2D((4, 2), strides=(4, 2)))\n",
    "model.add(Activation('relu'))\n",
    "\n",
    "model.add(Conv2D(48, (5, 5), padding=\"valid\"))\n",
    "model.add(Activation('relu'))\n",
    "\n",
    "model.add(Flatten())\n",
    "model.add(Dropout(rate=0.5))\n",
    "\n",
    "model.add(Dense(64))\n",
    "model.add(Activation('relu'))\n",
    "model.add(Dropout(rate=0.5))\n",
    "\n",
    "model.add(Dense(2))\n",
    "model.add(Activation('softmax'))\n",
    "\n",
    "model.summary()"
   ]
  },
  {
   "cell_type": "code",
   "execution_count": 16,
   "id": "6bd77363",
   "metadata": {},
   "outputs": [
    {
     "name": "stdout",
     "output_type": "stream",
     "text": [
      "Epoch 1/12\n",
      "250/250 [==============================] - 511s 2s/step - loss: 1.1318 - accuracy: 0.7526 - val_loss: 0.3967 - val_accuracy: 0.8440\n",
      "Epoch 2/12\n",
      "250/250 [==============================] - 436s 2s/step - loss: 0.4233 - accuracy: 0.8263 - val_loss: 0.3792 - val_accuracy: 0.8470\n",
      "Epoch 3/12\n",
      "250/250 [==============================] - 434s 2s/step - loss: 0.3863 - accuracy: 0.8485 - val_loss: 0.3653 - val_accuracy: 0.8410\n",
      "Epoch 4/12\n",
      "250/250 [==============================] - 431s 2s/step - loss: 0.4062 - accuracy: 0.8425 - val_loss: 0.3783 - val_accuracy: 0.8330\n",
      "Epoch 5/12\n",
      "250/250 [==============================] - 439s 2s/step - loss: 0.3640 - accuracy: 0.8530 - val_loss: 0.3350 - val_accuracy: 0.8680\n",
      "Epoch 6/12\n",
      "250/250 [==============================] - 428s 2s/step - loss: 0.3505 - accuracy: 0.8610 - val_loss: 0.3276 - val_accuracy: 0.8820\n",
      "Epoch 7/12\n",
      "250/250 [==============================] - 416s 2s/step - loss: 0.3401 - accuracy: 0.8663 - val_loss: 0.3413 - val_accuracy: 0.8620\n",
      "Epoch 8/12\n",
      "250/250 [==============================] - 434s 2s/step - loss: 0.3025 - accuracy: 0.8870 - val_loss: 0.3199 - val_accuracy: 0.8750\n",
      "Epoch 9/12\n",
      "250/250 [==============================] - 429s 2s/step - loss: 0.3146 - accuracy: 0.8811 - val_loss: 0.2933 - val_accuracy: 0.8830\n",
      "Epoch 10/12\n",
      "250/250 [==============================] - 430s 2s/step - loss: 0.2898 - accuracy: 0.8948 - val_loss: 0.2692 - val_accuracy: 0.8960\n",
      "Epoch 11/12\n",
      "250/250 [==============================] - 421s 2s/step - loss: 0.2712 - accuracy: 0.9021 - val_loss: 0.2757 - val_accuracy: 0.8940\n",
      "Epoch 12/12\n",
      "250/250 [==============================] - 430s 2s/step - loss: 0.2533 - accuracy: 0.9064 - val_loss: 0.2813 - val_accuracy: 0.8910\n",
      "8/8 [==============================] - 3s 423ms/step - loss: 0.2315 - accuracy: 0.9034\n",
      "Test loss: 0.23149336874485016\n",
      "Test accuracy: 0.9033613204956055\n"
     ]
    }
   ],
   "source": [
    "model.compile(\n",
    "\toptimizer=\"Adam\",\n",
    "\tloss=\"categorical_crossentropy\",\n",
    "\tmetrics=['accuracy'])\n",
    "\n",
    "model.fit(\n",
    "\tx=X_train, \n",
    "\ty=y_train,\n",
    "    epochs=12,\n",
    "    batch_size=32,\n",
    "    validation_data= (X_validate, y_validate))\n",
    "\n",
    "score = model.evaluate(\n",
    "\tx=X_test,\n",
    "\ty=y_test)\n",
    "\n",
    "print('Test loss:', score[0])\n",
    "print('Test accuracy:', score[1])"
   ]
  },
  {
   "cell_type": "code",
   "execution_count": 17,
   "id": "7a5e3635",
   "metadata": {},
   "outputs": [],
   "source": [
    "import json\n",
    "with open('original.json', \"w\") as fp:json.dump(data, fp, indent=1)"
   ]
  },
  {
   "cell_type": "code",
   "execution_count": 18,
   "id": "8fc6f843",
   "metadata": {},
   "outputs": [
    {
     "name": "stdout",
     "output_type": "stream",
     "text": [
      "INFO:tensorflow:Assets written to: original_model\\assets\n"
     ]
    }
   ],
   "source": [
    "# save the model to disk\n",
    "#filename = 'finalized_model.sav'\n",
    "model.save('original_model')"
   ]
  },
  {
   "cell_type": "code",
   "execution_count": 19,
   "id": "021ea7c9",
   "metadata": {},
   "outputs": [
    {
     "name": "stdout",
     "output_type": "stream",
     "text": [
      "  Real       Prediction       Match\n",
      "Typical       Typical       True\n",
      "Typical       Typical       True\n",
      "Typical       Typical       True\n",
      "Atypical       Atypical       True\n",
      "Typical       Typical       True\n",
      "Atypical       Atypical       True\n",
      "Typical       Typical       True\n",
      "Atypical       Atypical       True\n",
      "Typical       Typical       True\n",
      "Atypical       Typical       False\n",
      "Typical       Typical       True\n",
      "Typical       Typical       True\n",
      "Typical       Typical       True\n",
      "Typical       Typical       True\n",
      "Typical       Typical       True\n",
      "Typical       Typical       True\n",
      "Atypical       Atypical       True\n",
      "Atypical       Typical       False\n",
      "Atypical       Atypical       True\n",
      "Atypical       Atypical       True\n",
      "Typical       Typical       True\n",
      "Atypical       Atypical       True\n",
      "Atypical       Typical       False\n",
      "Atypical       Typical       False\n",
      "Atypical       Atypical       True\n",
      "Typical       Typical       True\n",
      "Atypical       Atypical       True\n",
      "Typical       Typical       True\n",
      "Atypical       Atypical       True\n",
      "Typical       Typical       True\n",
      "Typical       Typical       True\n",
      "Typical       Typical       True\n",
      "Typical       Typical       True\n",
      "Typical       Typical       True\n",
      "Atypical       Atypical       True\n",
      "Typical       Typical       True\n",
      "Typical       Typical       True\n",
      "Typical       Typical       True\n",
      "Typical       Typical       True\n",
      "Atypical       Atypical       True\n",
      "Typical       Typical       True\n",
      "Typical       Atypical       False\n",
      "Atypical       Atypical       True\n",
      "Typical       Typical       True\n",
      "Typical       Typical       True\n",
      "Typical       Typical       True\n",
      "Typical       Typical       True\n",
      "Typical       Typical       True\n",
      "Atypical       Atypical       True\n",
      "Atypical       Atypical       True\n",
      "Typical       Typical       True\n",
      "Typical       Typical       True\n",
      "Atypical       Atypical       True\n",
      "Typical       Typical       True\n",
      "Atypical       Atypical       True\n",
      "Typical       Typical       True\n",
      "Typical       Typical       True\n",
      "Typical       Typical       True\n",
      "Typical       Typical       True\n",
      "Typical       Typical       True\n",
      "Typical       Typical       True\n",
      "Typical       Typical       True\n",
      "Typical       Typical       True\n",
      "Typical       Typical       True\n",
      "Typical       Typical       True\n",
      "Typical       Typical       True\n",
      "Typical       Typical       True\n",
      "Typical       Typical       True\n",
      "Atypical       Atypical       True\n",
      "Atypical       Atypical       True\n",
      "Typical       Typical       True\n",
      "Typical       Typical       True\n",
      "Atypical       Typical       False\n",
      "Typical       Typical       True\n",
      "Atypical       Atypical       True\n",
      "Typical       Typical       True\n",
      "Typical       Typical       True\n",
      "Typical       Atypical       False\n",
      "Typical       Typical       True\n",
      "Atypical       Typical       False\n",
      "Typical       Typical       True\n",
      "Typical       Typical       True\n",
      "Atypical       Typical       False\n",
      "Atypical       Atypical       True\n",
      "Typical       Typical       True\n",
      "Typical       Typical       True\n",
      "Atypical       Atypical       True\n",
      "Typical       Typical       True\n",
      "Atypical       Atypical       True\n",
      "Typical       Typical       True\n",
      "Atypical       Atypical       True\n",
      "Typical       Typical       True\n",
      "Typical       Typical       True\n",
      "Atypical       Atypical       True\n",
      "Typical       Typical       True\n",
      "Typical       Typical       True\n",
      "Typical       Typical       True\n",
      "Typical       Typical       True\n",
      "Atypical       Atypical       True\n",
      "Typical       Typical       True\n",
      "Typical       Typical       True\n",
      "Atypical       Atypical       True\n",
      "Typical       Typical       True\n",
      "Typical       Typical       True\n",
      "Typical       Typical       True\n",
      "Typical       Typical       True\n",
      "Typical       Typical       True\n",
      "Atypical       Atypical       True\n",
      "Typical       Typical       True\n",
      "Atypical       Typical       False\n",
      "Atypical       Atypical       True\n",
      "Typical       Typical       True\n",
      "Typical       Typical       True\n",
      "Typical       Typical       True\n",
      "Typical       Typical       True\n",
      "Typical       Typical       True\n",
      "Typical       Typical       True\n",
      "Typical       Typical       True\n",
      "Typical       Typical       True\n",
      "Typical       Typical       True\n",
      "Atypical       Typical       False\n",
      "Typical       Typical       True\n",
      "Atypical       Atypical       True\n",
      "Atypical       Atypical       True\n",
      "Atypical       Atypical       True\n",
      "Typical       Typical       True\n",
      "Typical       Typical       True\n",
      "Atypical       Typical       False\n",
      "Typical       Typical       True\n",
      "Atypical       Atypical       True\n",
      "Atypical       Typical       False\n",
      "Typical       Typical       True\n",
      "Atypical       Atypical       True\n",
      "Typical       Typical       True\n",
      "Atypical       Atypical       True\n",
      "Atypical       Atypical       True\n",
      "Typical       Typical       True\n",
      "Atypical       Atypical       True\n",
      "Typical       Typical       True\n",
      "Atypical       Atypical       True\n",
      "Typical       Typical       True\n",
      "Typical       Typical       True\n",
      "Atypical       Atypical       True\n",
      "Typical       Typical       True\n",
      "Typical       Typical       True\n",
      "Typical       Typical       True\n",
      "Atypical       Atypical       True\n",
      "Atypical       Atypical       True\n",
      "Typical       Typical       True\n",
      "Typical       Typical       True\n",
      "Atypical       Typical       False\n",
      "Typical       Typical       True\n",
      "Typical       Typical       True\n",
      "Typical       Typical       True\n",
      "Atypical       Atypical       True\n",
      "Atypical       Atypical       True\n",
      "Typical       Typical       True\n",
      "Atypical       Atypical       True\n",
      "Typical       Typical       True\n",
      "Atypical       Typical       False\n",
      "Typical       Typical       True\n",
      "Typical       Typical       True\n",
      "Typical       Typical       True\n",
      "Atypical       Atypical       True\n",
      "Typical       Typical       True\n",
      "Typical       Typical       True\n",
      "Atypical       Atypical       True\n",
      "Typical       Typical       True\n",
      "Typical       Typical       True\n",
      "Typical       Typical       True\n",
      "Typical       Typical       True\n",
      "Typical       Typical       True\n",
      "Typical       Typical       True\n",
      "Typical       Typical       True\n",
      "Atypical       Atypical       True\n",
      "Typical       Typical       True\n",
      "Typical       Typical       True\n",
      "Atypical       Atypical       True\n",
      "Atypical       Typical       False\n",
      "Typical       Typical       True\n",
      "Typical       Typical       True\n",
      "Typical       Typical       True\n",
      "Atypical       Typical       False\n",
      "Atypical       Atypical       True\n",
      "Atypical       Atypical       True\n",
      "Typical       Typical       True\n",
      "Typical       Typical       True\n",
      "Atypical       Atypical       True\n",
      "Typical       Typical       True\n",
      "Typical       Typical       True\n",
      "Typical       Typical       True\n",
      "Atypical       Typical       False\n",
      "Typical       Typical       True\n",
      "Typical       Typical       True\n",
      "Typical       Typical       True\n",
      "Typical       Typical       True\n",
      "Atypical       Atypical       True\n",
      "Atypical       Atypical       True\n",
      "Atypical       Typical       False\n",
      "Typical       Typical       True\n",
      "Typical       Typical       True\n",
      "Typical       Typical       True\n",
      "Typical       Typical       True\n",
      "Typical       Typical       True\n",
      "Typical       Typical       True\n",
      "Atypical       Atypical       True\n",
      "Typical       Typical       True\n",
      "Typical       Typical       True\n",
      "Atypical       Atypical       True\n",
      "Typical       Typical       True\n",
      "Typical       Typical       True\n",
      "Atypical       Typical       False\n",
      "Typical       Typical       True\n",
      "Atypical       Atypical       True\n",
      "Atypical       Atypical       True\n",
      "Typical       Typical       True\n",
      "Typical       Typical       True\n",
      "Typical       Typical       True\n",
      "Atypical       Typical       False\n",
      "Typical       Typical       True\n",
      "Atypical       Typical       False\n",
      "Typical       Typical       True\n",
      "Typical       Typical       True\n",
      "Typical       Atypical       False\n",
      "Atypical       Atypical       True\n",
      "Typical       Typical       True\n",
      "Typical       Typical       True\n",
      "Atypical       Atypical       True\n",
      "Atypical       Atypical       True\n",
      "Atypical       Atypical       True\n",
      "Typical       Typical       True\n",
      "Typical       Typical       True\n",
      "Atypical       Atypical       True\n",
      "Typical       Typical       True\n",
      "Typical       Typical       True\n",
      "Typical       Typical       True\n",
      "Typical       Typical       True\n",
      "Typical       Typical       True\n",
      "Matched =  215\n",
      "Not Matched =  23\n"
     ]
    }
   ],
   "source": [
    "predict = model.predict_classes(X_test)\n",
    "prediction_class = labelencoder.inverse_transform(predict)\n",
    "#real_class = labelencoder.inverse_transform(y_test)\n",
    "#prediction_class\n",
    "\n",
    "x, y = zip(*test)\n",
    "y\n",
    "match = 0\n",
    "print('  Real       Prediction       Match')\n",
    "for i in range(0,X_test.shape[0]):\n",
    "    if(y[i]==prediction_class[i]):\n",
    "        match+=1\n",
    "    print(y[i] + '       ' + prediction_class[i] + '       ' + str(y[i]==prediction_class[i]))\n",
    "print('Matched = ', match)\n",
    "print('Not Matched = ',(X_test.shape[0] - match))"
   ]
  },
  {
   "cell_type": "code",
   "execution_count": null,
   "id": "056563c1",
   "metadata": {},
   "outputs": [],
   "source": []
  }
 ],
 "metadata": {
  "kernelspec": {
   "display_name": "Python 3 (ipykernel)",
   "language": "python",
   "name": "python3"
  },
  "language_info": {
   "codemirror_mode": {
    "name": "ipython",
    "version": 3
   },
   "file_extension": ".py",
   "mimetype": "text/x-python",
   "name": "python",
   "nbconvert_exporter": "python",
   "pygments_lexer": "ipython3",
   "version": "3.9.7"
  }
 },
 "nbformat": 4,
 "nbformat_minor": 5
}
