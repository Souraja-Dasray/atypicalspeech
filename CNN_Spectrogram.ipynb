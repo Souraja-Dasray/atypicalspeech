{
 "cells": [
  {
   "cell_type": "code",
   "execution_count": 1,
   "id": "27ceea9d",
   "metadata": {},
   "outputs": [],
   "source": [
    "import keras\n",
    "from keras.layers import Activation, Dense, Dropout, Conv2D, \\\n",
    "                         Flatten, MaxPooling2D\n",
    "from keras.models import Sequential\n",
    "import librosa\n",
    "import librosa.display\n",
    "import numpy as np\n",
    "import pandas as pd\n",
    "import random\n",
    "\n",
    "import warnings\n",
    "warnings.filterwarnings('ignore')"
   ]
  },
  {
   "cell_type": "code",
   "execution_count": 7,
   "id": "383eac6e",
   "metadata": {},
   "outputs": [
    {
     "data": {
      "text/plain": [
       "(128, 216)"
      ]
     },
     "execution_count": 7,
     "metadata": {},
     "output_type": "execute_result"
    }
   ],
   "source": [
    "file_name = 'F01/Session1/wav_arrayMic/0001.wav'\n",
    "y, sr = librosa.load(file_name, duration=5.0)\n",
    "ps = librosa.feature.melspectrogram(y=y, sr=sr)\n",
    "ps.shape"
   ]
  },
  {
   "cell_type": "code",
   "execution_count": 8,
   "id": "ce8f7ce5",
   "metadata": {},
   "outputs": [
    {
     "name": "stderr",
     "output_type": "stream",
     "text": [
      "\r",
      "  0%|          | 0/134 [00:00<?, ?it/s]"
     ]
    },
    {
     "name": "stdout",
     "output_type": "stream",
     "text": [
      "F01\n"
     ]
    },
    {
     "name": "stderr",
     "output_type": "stream",
     "text": [
      "100%|██████████| 134/134 [00:07<00:00, 17.97it/s]\n",
      "  0%|          | 1/204 [00:00<00:20,  9.97it/s]"
     ]
    },
    {
     "name": "stdout",
     "output_type": "stream",
     "text": [
      "F03\n"
     ]
    },
    {
     "name": "stderr",
     "output_type": "stream",
     "text": [
      "100%|██████████| 204/204 [00:10<00:00, 20.33it/s]\n",
      "100%|██████████| 435/435 [00:22<00:00, 19.44it/s]\n",
      "100%|██████████| 209/209 [00:12<00:00, 16.09it/s]\n",
      "  1%|          | 1/199 [00:00<00:19,  9.97it/s]"
     ]
    },
    {
     "name": "stdout",
     "output_type": "stream",
     "text": [
      "F04\n"
     ]
    },
    {
     "name": "stderr",
     "output_type": "stream",
     "text": [
      "100%|██████████| 199/199 [00:10<00:00, 19.26it/s]\n",
      "100%|██████████| 249/249 [00:19<00:00, 12.65it/s]\n",
      "  0%|          | 1/256 [00:00<00:27,  9.37it/s]"
     ]
    },
    {
     "name": "stdout",
     "output_type": "stream",
     "text": [
      "FC01\n"
     ]
    },
    {
     "name": "stderr",
     "output_type": "stream",
     "text": [
      "100%|██████████| 256/256 [00:20<00:00, 12.79it/s]\n",
      "  0%|          | 1/269 [00:00<00:31,  8.62it/s]"
     ]
    },
    {
     "name": "stdout",
     "output_type": "stream",
     "text": [
      "FC02\n"
     ]
    },
    {
     "name": "stderr",
     "output_type": "stream",
     "text": [
      "100%|██████████| 269/269 [00:21<00:00, 12.79it/s]\n",
      "100%|██████████| 992/992 [01:05<00:00, 15.08it/s]\n",
      "  0%|          | 0/400 [00:00<?, ?it/s]"
     ]
    },
    {
     "name": "stdout",
     "output_type": "stream",
     "text": [
      "FC03\n"
     ]
    },
    {
     "name": "stderr",
     "output_type": "stream",
     "text": [
      "100%|██████████| 400/400 [00:26<00:00, 14.95it/s]\n",
      "100%|██████████| 387/387 [00:23<00:00, 16.66it/s]\n",
      "100%|██████████| 208/208 [00:10<00:00, 19.61it/s]\n",
      "  1%|          | 1/100 [00:00<00:10,  9.15it/s]"
     ]
    },
    {
     "name": "stdout",
     "output_type": "stream",
     "text": [
      "M01\n"
     ]
    },
    {
     "name": "stderr",
     "output_type": "stream",
     "text": [
      "100%|██████████| 100/100 [00:09<00:00, 10.84it/s]\n",
      "100%|██████████| 286/286 [00:19<00:00, 14.58it/s]\n",
      "  0%|          | 1/240 [00:00<00:23,  9.98it/s]"
     ]
    },
    {
     "name": "stdout",
     "output_type": "stream",
     "text": [
      "M02\n"
     ]
    },
    {
     "name": "stderr",
     "output_type": "stream",
     "text": [
      "100%|██████████| 240/240 [00:13<00:00, 17.90it/s]\n",
      "100%|██████████| 160/160 [00:13<00:00, 12.28it/s]\n",
      "  0%|          | 1/416 [00:00<00:41,  9.97it/s]"
     ]
    },
    {
     "name": "stdout",
     "output_type": "stream",
     "text": [
      "M03\n"
     ]
    },
    {
     "name": "stderr",
     "output_type": "stream",
     "text": [
      "100%|██████████| 416/416 [00:31<00:00, 13.24it/s]\n",
      "  0%|          | 0/126 [00:00<?, ?it/s]"
     ]
    },
    {
     "name": "stdout",
     "output_type": "stream",
     "text": [
      "M04\n"
     ]
    },
    {
     "name": "stderr",
     "output_type": "stream",
     "text": [
      "100%|██████████| 126/126 [00:08<00:00, 14.29it/s]\n",
      "100%|██████████| 295/295 [00:19<00:00, 15.48it/s]\n",
      "  0%|          | 0/128 [00:00<?, ?it/s]"
     ]
    },
    {
     "name": "stdout",
     "output_type": "stream",
     "text": [
      "M05\n"
     ]
    },
    {
     "name": "stderr",
     "output_type": "stream",
     "text": [
      "100%|██████████| 128/128 [00:09<00:00, 13.38it/s]\n",
      "  0%|          | 1/329 [00:00<00:32,  9.96it/s]"
     ]
    },
    {
     "name": "stdout",
     "output_type": "stream",
     "text": [
      "MC01\n"
     ]
    },
    {
     "name": "stderr",
     "output_type": "stream",
     "text": [
      "100%|██████████| 329/329 [00:28<00:00, 11.44it/s]\n",
      "100%|██████████| 360/360 [00:23<00:00, 15.49it/s]\n",
      "100%|██████████| 419/419 [00:31<00:00, 13.12it/s]\n",
      "  0%|          | 1/388 [00:00<00:50,  7.60it/s]"
     ]
    },
    {
     "name": "stdout",
     "output_type": "stream",
     "text": [
      "MC02\n"
     ]
    },
    {
     "name": "stderr",
     "output_type": "stream",
     "text": [
      "100%|██████████| 388/388 [00:33<00:00, 11.59it/s]\n",
      "100%|██████████| 307/307 [00:28<00:00, 10.66it/s]\n",
      "  0%|          | 1/600 [00:00<01:34,  6.34it/s]"
     ]
    },
    {
     "name": "stdout",
     "output_type": "stream",
     "text": [
      "MC03\n"
     ]
    },
    {
     "name": "stderr",
     "output_type": "stream",
     "text": [
      "100%|██████████| 600/600 [00:35<00:00, 17.08it/s]\n",
      "100%|██████████| 300/300 [00:18<00:00, 16.60it/s]\n",
      "  0%|          | 1/648 [00:00<01:13,  8.85it/s]"
     ]
    },
    {
     "name": "stdout",
     "output_type": "stream",
     "text": [
      "MC04\n"
     ]
    },
    {
     "name": "stderr",
     "output_type": "stream",
     "text": [
      "100%|██████████| 648/648 [00:49<00:00, 13.19it/s]\n",
      "100%|██████████| 373/373 [00:21<00:00, 17.40it/s]\n"
     ]
    }
   ],
   "source": [
    "import os\n",
    "import numpy as np\n",
    "from tqdm import tqdm\n",
    "\n",
    "D = [] # Dataset\n",
    "\n",
    "directories =[  \n",
    "                 ['F01','Atypical'],['F03','Atypical'],['F04','Atypical'],['FC01','Typical'],['FC02','Typical'],\n",
    "                 ['FC03','Typical'],['M01','Atypical'],['M02','Atypical'],['M03','Atypical'],['M04','Atypical'],\n",
    "                 ['M05','Atypical'],['MC01','Typical'],['MC02','Typical'],['MC03','Typical'],['MC04','Typical']\n",
    "             ]\n",
    "\n",
    "for pair in directories:\n",
    "    directory = pair[0]\n",
    "    label = pair[1]\n",
    "    print(directory)\n",
    "    for filename in os.listdir(directory):\n",
    "        if filename != 'Notes':\n",
    "            file = os.path.join(directory, filename)\n",
    "            file = os.path.join(file, 'wav_arrayMic')\n",
    "            if os.path.isdir(file):\n",
    "                for audiofile in tqdm(os.listdir(file)):\n",
    "                    f = os.path.join(file, audiofile)\n",
    "                    if os.path.isfile(f):\n",
    "                        if librosa.get_duration(filename=f) != 0:\n",
    "                            y, sr = librosa.load(f, duration=5.0)\n",
    "                            ps = librosa.feature.melspectrogram(y=y, sr=sr)\n",
    "                            if ps.shape != (128, 216): continue\n",
    "                            D.append( (ps, label) )"
   ]
  },
  {
   "cell_type": "code",
   "execution_count": 9,
   "id": "10d876cf",
   "metadata": {},
   "outputs": [
    {
     "name": "stdout",
     "output_type": "stream",
     "text": [
      "Number of samples:  1004\n"
     ]
    }
   ],
   "source": [
    "print(\"Number of samples: \", len(D))"
   ]
  },
  {
   "cell_type": "code",
   "execution_count": 60,
   "id": "bbd38915",
   "metadata": {},
   "outputs": [],
   "source": [
    "dataset = D\n",
    "random.shuffle(dataset)\n",
    "\n",
    "train = dataset[:800]\n",
    "dataset = dataset[800:]\n",
    "validate = dataset[:150]\n",
    "test = dataset[150:]\n",
    "\n",
    "X_train, y_train = zip(*train)\n",
    "X_validate, y_validate = zip(*validate)\n",
    "X_test, y_test = zip(*test)\n",
    "\n",
    "# Reshape for CNN input\n",
    "X_train = np.array([x.reshape( (128, 216, 1) ) for x in X_train])\n",
    "X_validate = np.array([x.reshape( (128, 216, 1) ) for x in X_validate])\n",
    "X_test = np.array([x.reshape( (128, 216, 1) ) for x in X_test])"
   ]
  },
  {
   "cell_type": "code",
   "execution_count": 61,
   "id": "d033bfe7",
   "metadata": {},
   "outputs": [],
   "source": [
    "from tensorflow.keras.utils import to_categorical\n",
    "from sklearn.preprocessing import LabelEncoder\n",
    "labelencoder=LabelEncoder()\n",
    "#y=to_categorical(labelencoder.fit_transform(y))\n",
    "#y\n",
    "y_train = np.array(to_categorical(labelencoder.fit_transform(y_train)))\n",
    "y_validate = np.array(to_categorical(labelencoder.fit_transform(y_validate)))\n",
    "y_test = np.array(to_categorical(labelencoder.fit_transform(y_test)))"
   ]
  },
  {
   "cell_type": "code",
   "execution_count": 62,
   "id": "0e382787",
   "metadata": {},
   "outputs": [
    {
     "data": {
      "text/plain": [
       "((800, 128, 216, 1),\n",
       " (150, 128, 216, 1),\n",
       " (54, 128, 216, 1),\n",
       " (800, 2),\n",
       " (150, 2),\n",
       " (54, 2))"
      ]
     },
     "execution_count": 62,
     "metadata": {},
     "output_type": "execute_result"
    }
   ],
   "source": [
    "X_train.shape, X_validate.shape, X_test.shape, y_train.shape, y_validate.shape, y_test.shape"
   ]
  },
  {
   "cell_type": "code",
   "execution_count": 63,
   "id": "207b37af",
   "metadata": {},
   "outputs": [
    {
     "name": "stdout",
     "output_type": "stream",
     "text": [
      "Model: \"sequential_4\"\n",
      "_________________________________________________________________\n",
      "Layer (type)                 Output Shape              Param #   \n",
      "=================================================================\n",
      "conv2d_12 (Conv2D)           (None, 124, 212, 24)      624       \n",
      "_________________________________________________________________\n",
      "max_pooling2d_8 (MaxPooling2 (None, 31, 106, 24)       0         \n",
      "_________________________________________________________________\n",
      "activation_20 (Activation)   (None, 31, 106, 24)       0         \n",
      "_________________________________________________________________\n",
      "conv2d_13 (Conv2D)           (None, 27, 102, 48)       28848     \n",
      "_________________________________________________________________\n",
      "max_pooling2d_9 (MaxPooling2 (None, 6, 51, 48)         0         \n",
      "_________________________________________________________________\n",
      "activation_21 (Activation)   (None, 6, 51, 48)         0         \n",
      "_________________________________________________________________\n",
      "conv2d_14 (Conv2D)           (None, 2, 47, 48)         57648     \n",
      "_________________________________________________________________\n",
      "activation_22 (Activation)   (None, 2, 47, 48)         0         \n",
      "_________________________________________________________________\n",
      "flatten_4 (Flatten)          (None, 4512)              0         \n",
      "_________________________________________________________________\n",
      "dropout_8 (Dropout)          (None, 4512)              0         \n",
      "_________________________________________________________________\n",
      "dense_8 (Dense)              (None, 64)                288832    \n",
      "_________________________________________________________________\n",
      "activation_23 (Activation)   (None, 64)                0         \n",
      "_________________________________________________________________\n",
      "dropout_9 (Dropout)          (None, 64)                0         \n",
      "_________________________________________________________________\n",
      "dense_9 (Dense)              (None, 2)                 130       \n",
      "_________________________________________________________________\n",
      "activation_24 (Activation)   (None, 2)                 0         \n",
      "=================================================================\n",
      "Total params: 376,082\n",
      "Trainable params: 376,082\n",
      "Non-trainable params: 0\n",
      "_________________________________________________________________\n"
     ]
    }
   ],
   "source": [
    "model = Sequential()\n",
    "input_shape=(128, 216, 1)\n",
    "\n",
    "model.add(Conv2D(24, (5, 5), strides=(1, 1), input_shape=input_shape))\n",
    "model.add(MaxPooling2D((4, 2), strides=(4, 2)))\n",
    "model.add(Activation('relu'))\n",
    "\n",
    "model.add(Conv2D(48, (5, 5), padding=\"valid\"))\n",
    "model.add(MaxPooling2D((4, 2), strides=(4, 2)))\n",
    "model.add(Activation('relu'))\n",
    "\n",
    "model.add(Conv2D(48, (5, 5), padding=\"valid\"))\n",
    "model.add(Activation('relu'))\n",
    "\n",
    "model.add(Flatten())\n",
    "model.add(Dropout(rate=0.5))\n",
    "\n",
    "model.add(Dense(64))\n",
    "model.add(Activation('relu'))\n",
    "model.add(Dropout(rate=0.5))\n",
    "\n",
    "model.add(Dense(2))\n",
    "model.add(Activation('softmax'))\n",
    "\n",
    "model.summary()"
   ]
  },
  {
   "cell_type": "code",
   "execution_count": 64,
   "id": "ce6dc1bd",
   "metadata": {},
   "outputs": [
    {
     "name": "stdout",
     "output_type": "stream",
     "text": [
      "Epoch 1/12\n",
      "25/25 [==============================] - 9s 288ms/step - loss: 7.4256 - accuracy: 0.5440 - val_loss: 1.6896 - val_accuracy: 0.6467\n",
      "Epoch 2/12\n",
      "25/25 [==============================] - 7s 280ms/step - loss: 1.6493 - accuracy: 0.6551 - val_loss: 0.4761 - val_accuracy: 0.7000\n",
      "Epoch 3/12\n",
      "25/25 [==============================] - 9s 362ms/step - loss: 0.4723 - accuracy: 0.7793 - val_loss: 0.4264 - val_accuracy: 0.8400\n",
      "Epoch 4/12\n",
      "25/25 [==============================] - 9s 353ms/step - loss: 0.5380 - accuracy: 0.7746 - val_loss: 0.4139 - val_accuracy: 0.8133\n",
      "Epoch 5/12\n",
      "25/25 [==============================] - 9s 363ms/step - loss: 0.4320 - accuracy: 0.8245 - val_loss: 0.3813 - val_accuracy: 0.8600\n",
      "Epoch 6/12\n",
      "25/25 [==============================] - 9s 372ms/step - loss: 0.3706 - accuracy: 0.8578 - val_loss: 0.3581 - val_accuracy: 0.8733\n",
      "Epoch 7/12\n",
      "25/25 [==============================] - 9s 364ms/step - loss: 0.2719 - accuracy: 0.8882 - val_loss: 0.3331 - val_accuracy: 0.8600\n",
      "Epoch 8/12\n",
      "25/25 [==============================] - 9s 362ms/step - loss: 0.2886 - accuracy: 0.8838 - val_loss: 0.3318 - val_accuracy: 0.8600\n",
      "Epoch 9/12\n",
      "25/25 [==============================] - 9s 358ms/step - loss: 0.2228 - accuracy: 0.9293 - val_loss: 0.3645 - val_accuracy: 0.8600\n",
      "Epoch 10/12\n",
      "25/25 [==============================] - 9s 362ms/step - loss: 0.2178 - accuracy: 0.9224 - val_loss: 0.3455 - val_accuracy: 0.8467\n",
      "Epoch 11/12\n",
      "25/25 [==============================] - 9s 355ms/step - loss: 0.2270 - accuracy: 0.9059 - val_loss: 0.3284 - val_accuracy: 0.8667\n",
      "Epoch 12/12\n",
      "25/25 [==============================] - 9s 365ms/step - loss: 0.1815 - accuracy: 0.9395 - val_loss: 0.3435 - val_accuracy: 0.8867\n",
      "2/2 [==============================] - 0s 69ms/step - loss: 0.3340 - accuracy: 0.8704\n",
      "Test loss: 0.3339748680591583\n",
      "Test accuracy: 0.8703703880310059\n"
     ]
    }
   ],
   "source": [
    "model.compile(\n",
    "\toptimizer=\"Adam\",\n",
    "\tloss=\"categorical_crossentropy\",\n",
    "\tmetrics=['accuracy'])\n",
    "\n",
    "model.fit(\n",
    "\tx=X_train, \n",
    "\ty=y_train,\n",
    "    epochs=12,\n",
    "    batch_size=32,\n",
    "    validation_data= (X_validate, y_validate))\n",
    "\n",
    "score = model.evaluate(\n",
    "\tx=X_test,\n",
    "\ty=y_test)\n",
    "\n",
    "print('Test loss:', score[0])\n",
    "print('Test accuracy:', score[1])"
   ]
  },
  {
   "cell_type": "code",
   "execution_count": 67,
   "id": "e7136563",
   "metadata": {},
   "outputs": [
    {
     "name": "stdout",
     "output_type": "stream",
     "text": [
      "  Real       Prediction       Match\n",
      "Atypical       Atypical       True\n",
      "Typical       Typical       True\n",
      "Typical       Typical       True\n",
      "Typical       Typical       True\n",
      "Atypical       Typical       False\n",
      "Typical       Typical       True\n",
      "Atypical       Atypical       True\n",
      "Atypical       Atypical       True\n",
      "Typical       Typical       True\n",
      "Atypical       Atypical       True\n",
      "Atypical       Atypical       True\n",
      "Typical       Typical       True\n",
      "Typical       Typical       True\n",
      "Typical       Typical       True\n",
      "Typical       Typical       True\n",
      "Atypical       Atypical       True\n",
      "Atypical       Typical       False\n",
      "Typical       Typical       True\n",
      "Atypical       Atypical       True\n",
      "Atypical       Atypical       True\n",
      "Atypical       Atypical       True\n",
      "Atypical       Atypical       True\n",
      "Typical       Atypical       False\n",
      "Atypical       Typical       False\n",
      "Typical       Typical       True\n",
      "Atypical       Atypical       True\n",
      "Atypical       Atypical       True\n",
      "Atypical       Typical       False\n",
      "Typical       Typical       True\n",
      "Typical       Typical       True\n",
      "Typical       Typical       True\n",
      "Typical       Typical       True\n",
      "Atypical       Atypical       True\n",
      "Atypical       Typical       False\n",
      "Atypical       Atypical       True\n",
      "Atypical       Atypical       True\n",
      "Atypical       Atypical       True\n",
      "Atypical       Atypical       True\n",
      "Atypical       Atypical       True\n",
      "Typical       Typical       True\n",
      "Typical       Typical       True\n",
      "Atypical       Atypical       True\n",
      "Typical       Typical       True\n",
      "Typical       Typical       True\n",
      "Atypical       Atypical       True\n",
      "Typical       Typical       True\n",
      "Typical       Typical       True\n",
      "Typical       Typical       True\n",
      "Typical       Typical       True\n",
      "Typical       Typical       True\n",
      "Typical       Typical       True\n",
      "Atypical       Typical       False\n",
      "Typical       Typical       True\n",
      "Atypical       Atypical       True\n",
      "Matched =  47\n",
      "Not Matched =  7\n"
     ]
    }
   ],
   "source": [
    "predict = model.predict_classes(X_test)\n",
    "prediction_class = labelencoder.inverse_transform(predict)\n",
    "#real_class = labelencoder.inverse_transform(y_test)\n",
    "#prediction_class\n",
    "\n",
    "x, y = zip(*test)\n",
    "y\n",
    "match = 0\n",
    "print('  Real       Prediction       Match')\n",
    "for i in range(0,X_test.shape[0]):\n",
    "    if(y[i]==prediction_class[i]):\n",
    "        match+=1\n",
    "    print(y[i] + '       ' + prediction_class[i] + '       ' + str(y[i]==prediction_class[i]))\n",
    "print('Matched = ', match)\n",
    "print('Not Matched = ',(X_test.shape[0] - match))"
   ]
  },
  {
   "cell_type": "code",
   "execution_count": null,
   "id": "afb9e9e8",
   "metadata": {},
   "outputs": [],
   "source": []
  }
 ],
 "metadata": {
  "kernelspec": {
   "display_name": "Python 3",
   "language": "python",
   "name": "python3"
  },
  "language_info": {
   "codemirror_mode": {
    "name": "ipython",
    "version": 3
   },
   "file_extension": ".py",
   "mimetype": "text/x-python",
   "name": "python",
   "nbconvert_exporter": "python",
   "pygments_lexer": "ipython3",
   "version": "3.8.8"
  }
 },
 "nbformat": 4,
 "nbformat_minor": 5
}
